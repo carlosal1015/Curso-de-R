{
 "cells": [
  {
   "cell_type": "markdown",
   "metadata": {},
   "source": [
    "<h1><center>Quinta clase (10/03/2018)</center></h1>\n",
    "\n",
    "Cada prueba estadística está sujeta a una hipótesis.\n",
    "\n",
    "Hay dos tipos de modelos: discretos y continuos.\n",
    "\n",
    "Nominal, no depende de sus caracterísitcas, no se guarda un orden entre sus categorías."
   ]
  },
  {
   "cell_type": "code",
   "execution_count": 2,
   "metadata": {},
   "outputs": [
    {
     "data": {
      "text/html": [
       "<ol class=list-inline>\n",
       "\t<li>103</li>\n",
       "\t<li>77</li>\n",
       "\t<li>89</li>\n",
       "\t<li>108</li>\n",
       "\t<li>99</li>\n",
       "\t<li>124</li>\n",
       "</ol>\n"
      ],
      "text/latex": [
       "\\begin{enumerate*}\n",
       "\\item 103\n",
       "\\item 77\n",
       "\\item 89\n",
       "\\item 108\n",
       "\\item 99\n",
       "\\item 124\n",
       "\\end{enumerate*}\n"
      ],
      "text/markdown": [
       "1. 103\n",
       "2. 77\n",
       "3. 89\n",
       "4. 108\n",
       "5. 99\n",
       "6. 124\n",
       "\n",
       "\n"
      ],
      "text/plain": [
       "[1] 103  77  89 108  99 124"
      ]
     },
     "metadata": {},
     "output_type": "display_data"
    },
    {
     "data": {
      "text/html": [
       "<ol class=list-inline>\n",
       "\t<li>100</li>\n",
       "\t<li>100</li>\n",
       "\t<li>100</li>\n",
       "\t<li>100</li>\n",
       "\t<li>100</li>\n",
       "\t<li>100</li>\n",
       "</ol>\n"
      ],
      "text/latex": [
       "\\begin{enumerate*}\n",
       "\\item 100\n",
       "\\item 100\n",
       "\\item 100\n",
       "\\item 100\n",
       "\\item 100\n",
       "\\item 100\n",
       "\\end{enumerate*}\n"
      ],
      "text/markdown": [
       "1. 100\n",
       "2. 100\n",
       "3. 100\n",
       "4. 100\n",
       "5. 100\n",
       "6. 100\n",
       "\n",
       "\n"
      ],
      "text/plain": [
       "[1] 100 100 100 100 100 100"
      ]
     },
     "metadata": {},
     "output_type": "display_data"
    }
   ],
   "source": [
    "obs <- c(103, 77, 89, 108, 99, 124); obs\n",
    "esp <- c(100,100, 100, 100, 100, 100); esp"
   ]
  },
  {
   "cell_type": "code",
   "execution_count": 3,
   "metadata": {},
   "outputs": [
    {
     "data": {
      "text/plain": [
       "\n",
       "\tChi-squared test for given probabilities\n",
       "\n",
       "data:  obs\n",
       "X-squared = 13, df = 5, p-value = 0.02338\n"
      ]
     },
     "metadata": {},
     "output_type": "display_data"
    },
    {
     "data": {
      "text/html": [
       "<ol class=list-inline>\n",
       "\t<li>103</li>\n",
       "\t<li>77</li>\n",
       "\t<li>89</li>\n",
       "\t<li>108</li>\n",
       "\t<li>99</li>\n",
       "\t<li>124</li>\n",
       "</ol>\n"
      ],
      "text/latex": [
       "\\begin{enumerate*}\n",
       "\\item 103\n",
       "\\item 77\n",
       "\\item 89\n",
       "\\item 108\n",
       "\\item 99\n",
       "\\item 124\n",
       "\\end{enumerate*}\n"
      ],
      "text/markdown": [
       "1. 103\n",
       "2. 77\n",
       "3. 89\n",
       "4. 108\n",
       "5. 99\n",
       "6. 124\n",
       "\n",
       "\n"
      ],
      "text/plain": [
       "[1] 103  77  89 108  99 124"
      ]
     },
     "metadata": {},
     "output_type": "display_data"
    },
    {
     "data": {
      "text/html": [
       "<ol class=list-inline>\n",
       "\t<li>100</li>\n",
       "\t<li>100</li>\n",
       "\t<li>100</li>\n",
       "\t<li>100</li>\n",
       "\t<li>100</li>\n",
       "\t<li>100</li>\n",
       "</ol>\n"
      ],
      "text/latex": [
       "\\begin{enumerate*}\n",
       "\\item 100\n",
       "\\item 100\n",
       "\\item 100\n",
       "\\item 100\n",
       "\\item 100\n",
       "\\item 100\n",
       "\\end{enumerate*}\n"
      ],
      "text/markdown": [
       "1. 100\n",
       "2. 100\n",
       "3. 100\n",
       "4. 100\n",
       "5. 100\n",
       "6. 100\n",
       "\n",
       "\n"
      ],
      "text/plain": [
       "[1] 100 100 100 100 100 100"
      ]
     },
     "metadata": {},
     "output_type": "display_data"
    },
    {
     "data": {
      "text/html": [
       "<ol class=list-inline>\n",
       "\t<li>0.3</li>\n",
       "\t<li>-2.3</li>\n",
       "\t<li>-1.1</li>\n",
       "\t<li>0.8</li>\n",
       "\t<li>-0.1</li>\n",
       "\t<li>2.4</li>\n",
       "</ol>\n"
      ],
      "text/latex": [
       "\\begin{enumerate*}\n",
       "\\item 0.3\n",
       "\\item -2.3\n",
       "\\item -1.1\n",
       "\\item 0.8\n",
       "\\item -0.1\n",
       "\\item 2.4\n",
       "\\end{enumerate*}\n"
      ],
      "text/markdown": [
       "1. 0.3\n",
       "2. -2.3\n",
       "3. -1.1\n",
       "4. 0.8\n",
       "5. -0.1\n",
       "6. 2.4\n",
       "\n",
       "\n"
      ],
      "text/plain": [
       "[1]  0.3 -2.3 -1.1  0.8 -0.1  2.4"
      ]
     },
     "metadata": {},
     "output_type": "display_data"
    }
   ],
   "source": [
    "esp <- rep(100,6)\n",
    "\n",
    "tba = chisq.test(obs, p=esp, rescale.p = T); tba\n",
    "\n",
    "# Las pruebas estadíssiticas están dados pro funciones estadisticas en librerias.\n",
    "\n",
    "tba$obs\n",
    "\n",
    "tba$exp\n",
    "\n",
    "tba$res\n"
   ]
  },
  {
   "cell_type": "markdown",
   "metadata": {},
   "source": [
    "Cuando lleva `$` es porque lo que precede es una lista.\n",
    "\n",
    "Las pruebas no paramátricas están asociadas a una hipotesis. Vamos a trabajar con el $p_{\\text{valor}}$.\n",
    "\n",
    "Una forma más simple de comprender y observar una hipótesis es usar el $p_{\\text{valor}}$, es una forma general de contrastar una prueba de hipótesis, sin importar la hipótesis inicial, hay que conocer la hipótesis planteada.\n",
    "\n",
    "¿Cómo trabaja el $p_{\\text{valor}}$?\n",
    "\n",
    "Se debe de conocer la hipótesis nula y la hipótesis alternativa. Y aplicar la siguiente regla:\n",
    "\n",
    "Si el $p_{\\text{valor}}$ es menor que $\\alpha$.\n",
    "\n",
    "Pero hay que conocer la hipótesis nula.\n",
    "\n",
    "La hipótesis nula $H_0$ es que los datos siguen una distribución determinada y la hipótesis alternativa $H_1$ es que los datos no siguen una distribución determinada.\n",
    "\n",
    "Nos está resultando que no es el valor esperado.\n",
    "\n",
    "El dado estaba trucado y ahora nos preguntamos, ¿cuál es el valor al cual estuvo trucado?\n",
    "\n",
    "La variable es **anotaciones** y la frecuencia es el número de veces."
   ]
  },
  {
   "cell_type": "code",
   "execution_count": 4,
   "metadata": {},
   "outputs": [
    {
     "data": {
      "text/html": [
       "<ol class=list-inline>\n",
       "\t<li>0</li>\n",
       "\t<li>1</li>\n",
       "\t<li>2</li>\n",
       "\t<li>3</li>\n",
       "\t<li>4</li>\n",
       "\t<li>5</li>\n",
       "\t<li>6</li>\n",
       "\t<li>7</li>\n",
       "</ol>\n"
      ],
      "text/latex": [
       "\\begin{enumerate*}\n",
       "\\item 0\n",
       "\\item 1\n",
       "\\item 2\n",
       "\\item 3\n",
       "\\item 4\n",
       "\\item 5\n",
       "\\item 6\n",
       "\\item 7\n",
       "\\end{enumerate*}\n"
      ],
      "text/markdown": [
       "1. 0\n",
       "2. 1\n",
       "3. 2\n",
       "4. 3\n",
       "5. 4\n",
       "6. 5\n",
       "7. 6\n",
       "8. 7\n",
       "\n",
       "\n"
      ],
      "text/plain": [
       "[1] 0 1 2 3 4 5 6 7"
      ]
     },
     "metadata": {},
     "output_type": "display_data"
    },
    {
     "data": {
      "text/html": [
       "<ol class=list-inline>\n",
       "\t<li>35</li>\n",
       "\t<li>99</li>\n",
       "\t<li>104</li>\n",
       "\t<li>110</li>\n",
       "\t<li>62</li>\n",
       "\t<li>25</li>\n",
       "\t<li>10</li>\n",
       "\t<li>3</li>\n",
       "</ol>\n"
      ],
      "text/latex": [
       "\\begin{enumerate*}\n",
       "\\item 35\n",
       "\\item 99\n",
       "\\item 104\n",
       "\\item 110\n",
       "\\item 62\n",
       "\\item 25\n",
       "\\item 10\n",
       "\\item 3\n",
       "\\end{enumerate*}\n"
      ],
      "text/markdown": [
       "1. 35\n",
       "2. 99\n",
       "3. 104\n",
       "4. 110\n",
       "5. 62\n",
       "6. 25\n",
       "7. 10\n",
       "8. 3\n",
       "\n",
       "\n"
      ],
      "text/plain": [
       "[1]  35  99 104 110  62  25  10   3"
      ]
     },
     "metadata": {},
     "output_type": "display_data"
    }
   ],
   "source": [
    "x <- 0:7; x\n",
    "f <- c(35,99,104,110,62,25,10,3); f"
   ]
  },
  {
   "cell_type": "code",
   "execution_count": 5,
   "metadata": {
    "scrolled": true
   },
   "outputs": [
    {
     "data": {
      "text/html": [
       "<ol class=list-inline>\n",
       "\t<li>0.0875742865079895</li>\n",
       "\t<li>0.213266845045126</li>\n",
       "\t<li>0.259680946366331</li>\n",
       "\t<li>0.210797553932788</li>\n",
       "\t<li>0.128337126864214</li>\n",
       "\t<li>0.0625070559860972</li>\n",
       "\t<li>0.0253702373812619</li>\n",
       "\t<li>0.00882618908895305</li>\n",
       "</ol>\n"
      ],
      "text/latex": [
       "\\begin{enumerate*}\n",
       "\\item 0.0875742865079895\n",
       "\\item 0.213266845045126\n",
       "\\item 0.259680946366331\n",
       "\\item 0.210797553932788\n",
       "\\item 0.128337126864214\n",
       "\\item 0.0625070559860972\n",
       "\\item 0.0253702373812619\n",
       "\\item 0.00882618908895305\n",
       "\\end{enumerate*}\n"
      ],
      "text/markdown": [
       "1. 0.0875742865079895\n",
       "2. 0.213266845045126\n",
       "3. 0.259680946366331\n",
       "4. 0.210797553932788\n",
       "5. 0.128337126864214\n",
       "6. 0.0625070559860972\n",
       "7. 0.0253702373812619\n",
       "8. 0.00882618908895305\n",
       "\n",
       "\n"
      ],
      "text/plain": [
       "[1] 0.087574287 0.213266845 0.259680946 0.210797554 0.128337127 0.062507056\n",
       "[7] 0.025370237 0.008826189"
      ]
     },
     "metadata": {},
     "output_type": "display_data"
    }
   ],
   "source": [
    "lambda <- sum(x*f)/sum(f)\n",
    "esp <- dpois(x, lambda); esp"
   ]
  },
  {
   "cell_type": "code",
   "execution_count": 6,
   "metadata": {},
   "outputs": [
    {
     "name": "stderr",
     "output_type": "stream",
     "text": [
      "Warning message in chisq.test(f, p = esp, rescale.p = T):\n",
      "“Chi-squared approximation may be incorrect”"
     ]
    },
    {
     "data": {
      "text/plain": [
       "\n",
       "\tChi-squared test for given probabilities\n",
       "\n",
       "data:  f\n",
       "X-squared = 5.4981, df = 7, p-value = 0.5994\n"
      ]
     },
     "metadata": {},
     "output_type": "display_data"
    },
    {
     "data": {
      "text/html": [
       "<ol class=list-inline>\n",
       "\t<li>35</li>\n",
       "\t<li>99</li>\n",
       "\t<li>104</li>\n",
       "\t<li>110</li>\n",
       "\t<li>62</li>\n",
       "\t<li>25</li>\n",
       "\t<li>10</li>\n",
       "\t<li>3</li>\n",
       "</ol>\n"
      ],
      "text/latex": [
       "\\begin{enumerate*}\n",
       "\\item 35\n",
       "\\item 99\n",
       "\\item 104\n",
       "\\item 110\n",
       "\\item 62\n",
       "\\item 25\n",
       "\\item 10\n",
       "\\item 3\n",
       "\\end{enumerate*}\n"
      ],
      "text/markdown": [
       "1. 35\n",
       "2. 99\n",
       "3. 104\n",
       "4. 110\n",
       "5. 62\n",
       "6. 25\n",
       "7. 10\n",
       "8. 3\n",
       "\n",
       "\n"
      ],
      "text/plain": [
       "[1]  35  99 104 110  62  25  10   3"
      ]
     },
     "metadata": {},
     "output_type": "display_data"
    },
    {
     "data": {
      "text/html": [
       "<ol class=list-inline>\n",
       "\t<li>39.3766016891641</li>\n",
       "\t<li>95.8925724171384</li>\n",
       "\t<li>116.762049673101</li>\n",
       "\t<li>94.7822888343398</li>\n",
       "\t<li>57.7050653561745</li>\n",
       "\t<li>28.1054581712439</li>\n",
       "\t<li>11.4073864824505</li>\n",
       "\t<li>3.96857737638826</li>\n",
       "</ol>\n"
      ],
      "text/latex": [
       "\\begin{enumerate*}\n",
       "\\item 39.3766016891641\n",
       "\\item 95.8925724171384\n",
       "\\item 116.762049673101\n",
       "\\item 94.7822888343398\n",
       "\\item 57.7050653561745\n",
       "\\item 28.1054581712439\n",
       "\\item 11.4073864824505\n",
       "\\item 3.96857737638826\n",
       "\\end{enumerate*}\n"
      ],
      "text/markdown": [
       "1. 39.3766016891641\n",
       "2. 95.8925724171384\n",
       "3. 116.762049673101\n",
       "4. 94.7822888343398\n",
       "5. 57.7050653561745\n",
       "6. 28.1054581712439\n",
       "7. 11.4073864824505\n",
       "8. 3.96857737638826\n",
       "\n",
       "\n"
      ],
      "text/plain": [
       "[1]  39.376602  95.892572 116.762050  94.782289  57.705065  28.105458  11.407386\n",
       "[8]   3.968577"
      ]
     },
     "metadata": {},
     "output_type": "display_data"
    },
    {
     "data": {
      "text/html": [
       "<ol class=list-inline>\n",
       "\t<li>-0.697457754687094</li>\n",
       "\t<li>0.317328100303927</li>\n",
       "\t<li>-1.18105351265552</li>\n",
       "\t<li>1.56309632091934</li>\n",
       "\t<li>0.565391911166901</li>\n",
       "\t<li>-0.585774347818181</li>\n",
       "\t<li>-0.416696926896457</li>\n",
       "\t<li>-0.486202172002335</li>\n",
       "</ol>\n"
      ],
      "text/latex": [
       "\\begin{enumerate*}\n",
       "\\item -0.697457754687094\n",
       "\\item 0.317328100303927\n",
       "\\item -1.18105351265552\n",
       "\\item 1.56309632091934\n",
       "\\item 0.565391911166901\n",
       "\\item -0.585774347818181\n",
       "\\item -0.416696926896457\n",
       "\\item -0.486202172002335\n",
       "\\end{enumerate*}\n"
      ],
      "text/markdown": [
       "1. -0.697457754687094\n",
       "2. 0.317328100303927\n",
       "3. -1.18105351265552\n",
       "4. 1.56309632091934\n",
       "5. 0.565391911166901\n",
       "6. -0.585774347818181\n",
       "7. -0.416696926896457\n",
       "8. -0.486202172002335\n",
       "\n",
       "\n"
      ],
      "text/plain": [
       "[1] -0.6974578  0.3173281 -1.1810535  1.5630963  0.5653919 -0.5857743 -0.4166969\n",
       "[8] -0.4862022"
      ]
     },
     "metadata": {},
     "output_type": "display_data"
    }
   ],
   "source": [
    "tba <- chisq.test(f, p=esp, rescale.p = T); tba # Pedimos los resultados de la variable.\n",
    "tba$obs\n",
    "tba$exp\n",
    "tba$res"
   ]
  },
  {
   "cell_type": "code",
   "execution_count": 7,
   "metadata": {},
   "outputs": [
    {
     "data": {
      "image/png": "[encoded data removed]",
      "text/plain": [
       "Plot with title “Histogram of x”"
      ]
     },
     "metadata": {},
     "output_type": "display_data"
    },
    {
     "data": {
      "image/png": "[encoded data removed]",
      "text/plain": [
       "Plot with title “Histogram of y”"
      ]
     },
     "metadata": {},
     "output_type": "display_data"
    }
   ],
   "source": [
    "set.seed(100) # Se puede usar cualquier número interno. En nuestro ejemplo es 100.\n",
    "x <- rnorm(50)\n",
    "y <- runif(30)\n",
    "\n",
    "hist(x)\n",
    "hist(y)"
   ]
  },
  {
   "cell_type": "code",
   "execution_count": 8,
   "metadata": {},
   "outputs": [
    {
     "data": {
      "text/plain": [
       "\n",
       "\tTwo-sample Kolmogorov-Smirnov test\n",
       "\n",
       "data:  x and y\n",
       "D = 0.48, p-value = 0.0002033\n",
       "alternative hypothesis: two-sided\n"
      ]
     },
     "metadata": {},
     "output_type": "display_data"
    }
   ],
   "source": [
    "# ¿Para qué sirve el D?\n",
    "ks.test(x,y) # Prueba de Kolmogorov Smirnov."
   ]
  },
  {
   "cell_type": "code",
   "execution_count": null,
   "metadata": {},
   "outputs": [],
   "source": [
    "# Valor semilla\n",
    "set.seed(100)\n",
    "\n",
    "# Datos\n",
    "x <- rnorm(50)\n",
    "\n",
    "# Prueba\n",
    "ks.test(x, pnorm, mean(x), sd(x))\n",
    "\n",
    "tabla <- matrix(c(63, 21, 4, 2), byrow = TRUE, nrow = 2, ncol = 2); tabla\n",
    "\n",
    "colnames(tabla) <- c(\"Diestro\", \"Surdo\")\n",
    "rownames(tabla) <- c(\"Hombre\", \"Mujer\")\n",
    "\n",
    "tabla\n",
    "\n",
    "names(dimnames(tabla)) <- c(\"Género\", \"DZ\")\n",
    "\n",
    "tabla\n",
    "\n",
    "mc <- mcnemar.test(tabla, correct = FALSE); mc"
   ]
  },
  {
   "cell_type": "code",
   "execution_count": 9,
   "metadata": {},
   "outputs": [
    {
     "name": "stderr",
     "output_type": "stream",
     "text": [
      "Loading required package: lattice\n",
      "\n",
      "Attaching package: ‘BSDA’\n",
      "\n",
      "The following object is masked from ‘package:datasets’:\n",
      "\n",
      "    Orange\n",
      "\n"
     ]
    },
    {
     "data": {
      "text/plain": [
       "\n",
       "\tOne-sample Sign-Test\n",
       "\n",
       "data:  x1\n",
       "s = 3, p-value = 0.3438\n",
       "alternative hypothesis: true median is not equal to 1.8\n",
       "95 percent confidence interval:\n",
       " 1.271273 2.000000\n",
       "sample estimates:\n",
       "median of x \n",
       "        1.6 \n",
       "\n",
       "Achieved and Interpolated Confidence Intervals: \n",
       "\n",
       "                  Conf.Level L.E.pt U.E.pt\n",
       "Lower Achieved CI     0.9346 1.3000      2\n",
       "Interpolated CI       0.9500 1.2713      2\n",
       "Upper Achieved CI     0.9883 1.2000      2\n"
      ]
     },
     "metadata": {},
     "output_type": "display_data"
    },
    {
     "data": {
      "text/plain": [
       "\n",
       "\tDependent-samples Sign-Test\n",
       "\n",
       "data:  cin and rad\n",
       "S = 5, p-value = 0.4531\n",
       "alternative hypothesis: true median difference is not equal to 0\n",
       "95 percent confidence interval:\n",
       " -0.1325  0.2650\n",
       "sample estimates:\n",
       "median of x-y \n",
       "          0.1 \n",
       "\n",
       "Achieved and Interpolated Confidence Intervals: \n",
       "\n",
       "                  Conf.Level  L.E.pt U.E.pt\n",
       "Lower Achieved CI     0.9297 -0.1000  0.200\n",
       "Interpolated CI       0.9500 -0.1325  0.265\n",
       "Upper Achieved CI     0.9922 -0.2000  0.400\n"
      ]
     },
     "metadata": {},
     "output_type": "display_data"
    },
    {
     "data": {
      "text/plain": [
       "\n",
       "\tWilcoxon rank sum test\n",
       "\n",
       "data:  x and y\n",
       "W = 35, p-value = 0.2544\n",
       "alternative hypothesis: true location shift is not equal to 0\n"
      ]
     },
     "metadata": {},
     "output_type": "display_data"
    },
    {
     "data": {
      "text/plain": [
       "\n",
       "\tWilcoxon rank sum test\n",
       "\n",
       "data:  x and y\n",
       "W = 35, p-value = 0.8968\n",
       "alternative hypothesis: true location shift is less than 0\n"
      ]
     },
     "metadata": {},
     "output_type": "display_data"
    },
    {
     "data": {
      "text/plain": [
       "\n",
       "\tWilcoxon rank sum test\n",
       "\n",
       "data:  x and y\n",
       "W = 35, p-value = 0.1272\n",
       "alternative hypothesis: true location shift is greater than 0\n"
      ]
     },
     "metadata": {},
     "output_type": "display_data"
    }
   ],
   "source": [
    "library(BSDA)\n",
    "# Prueba del signo para 1 muestra.\n",
    "x1<-c(1.5,2.2,0.9,1.3,2.0,1.6,1.8,1.5,2.0,1.2,1.7)\n",
    "BSDA::SIGN.test(x1, md = 1.8, alternative = \"two.sided\", conf.level =0.95)\n",
    "\n",
    "library(BSDA)\n",
    "#Prueba del signo para 2 muestras relacionadas\n",
    "cin<-c(4.2,4.7,6.6,7.0,6.7,4.5,5.7,6.0)\n",
    "rad<-c(4.1,4.9,6.2,6.9,6.8,4.4,5.7,5.8)\n",
    "SIGN.test(cin,rad, md = 0, alternative = \"two.sided\", conf.level = 0.95)\n",
    "\n",
    "x <- c(0.80, 0.83, 1.89, 1.04, 1.45, 1.38, 1.91, 1.64, 0.73,1.46)\n",
    "y <- c(1.15, 0.88, 0.90, 0.74, 1.21)\n",
    "\n",
    "wilcox.test(x, y, alternative = \"t\")\n",
    "# Pueden provenir de la misma población\n",
    "\n",
    "wilcox.test(x, y, alternative = \"l\")\n",
    "# Hipótesis:\n",
    "# $H_0\\colon x=<y$\n",
    "# $H_!\\colonx>y$\n",
    "# p-value: 0.8968\n",
    "# entonces x>=y\n",
    "\n",
    "wilcox.test(x, y, alternative = \"g\")\n",
    "# Hipótesis:\n",
    "# $H_0\\colon x=<y$\n",
    "# $H_!\\colonx>y$\n",
    "# p-value= 0.1272\n",
    "# entonces x<=y"
   ]
  },
  {
   "cell_type": "markdown",
   "metadata": {},
   "source": [
    "Una hipótesis puede plantearse de tres maneras diferentes, unilaterales, bilaterales."
   ]
  },
  {
   "cell_type": "code",
   "execution_count": null,
   "metadata": {},
   "outputs": [],
   "source": []
  },
  {
   "cell_type": "markdown",
   "metadata": {},
   "source": [
    "## Referencias\n"
   ]
  }
 ],
 "metadata": {
  "kernelspec": {
   "display_name": "R",
   "language": "R",
   "name": "ir"
  },
  "language_info": {
   "codemirror_mode": "r",
   "file_extension": ".r",
   "mimetype": "text/x-r-source",
   "name": "R",
   "pygments_lexer": "r",
   "version": "3.3.3"
  }
 },
 "nbformat": 4,
 "nbformat_minor": 2
}
