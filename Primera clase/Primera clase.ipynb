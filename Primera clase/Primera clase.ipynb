{
 "cells": [
  {
   "cell_type": "markdown",
   "metadata": {},
   "source": [
    "# Primera clase (03/02/2018)\n",
    "\n",
    "<img style=\"float: right;\" src=\"https://fileinfo.com/img/icons/apps/128/microsoft_windows.png\" width=\"120\">\n",
    "\n",
    "## Pasos de instalación en Windows 10\n",
    "\n",
    "1. Primero se instala el R nativo desde [aquí](https://cran.r-project.org/mirrors.html).\n",
    "2. Luego se instala R studio desde [aquí](https://www.rstudio.com/products/rstudio/).\n",
    "3. Instalar Java de 64 bits desde [aquí](https://www.java.com/es/download/manual.jsp).\n",
    "\n",
    "<img style=\"float: right;\" src=\"https://assets.ubuntu.com/v1/cb22ba5d-favicon-16x16.png\" width=\"120\">\n",
    "\n",
    "## Pasos de instalación en Ubuntu 16.04 LTS (Linux)\n",
    "\n",
    "1. Primero se instala el R nativo con el comando\n",
    "```sh\n",
    "$ sudo apt-key adv --keyserver keyserver.ubuntu.com --recv-keys E298A3A825C0D65DFD57CBB651716619E084DAB9\n",
    "$ sudo add-apt-repository 'deb [arch=amd64,i386] https://cran.rstudio.com/bin/linux/ubuntu xenial/'\n",
    "$ sudo apt-get update\n",
    "$ sudo apt-get install r-base\n",
    "$ sudo -i R\n",
    "```\n",
    "2. Después puede instalar RStudio con Anaconda o sino descargando el archivo `.deb`.\n",
    "\n",
    "<img style=\"float: right;\" src=\"https://coolestguidesontheplanet.com/wp-content/uploads/2015/08/OS_X_El_Capitan_logo.svg_.png\" width=\"120\">\n",
    "\n",
    "## Pasos de instalación en macOS\n",
    "\n",
    "1. Visite la siguiente [página](https://cran.r-project.org/bin/macosx/) y descargue el archivo `.pkg`, por ejemplo R-3.4.3.pkg.\n",
    "2. Ingrese al [sitio web de RStudio](https://www.rstudio.com/products/rstudio/download/) y descargue un archivo \n",
    "que se llame RStudio 1.1.419 - Mac OS X 10.6+ (64-bit) por ejemplo.\n",
    "\n",
    "## Consola de R\n",
    "\n",
    "La consola sirve para mostrar la acción.\n",
    "\n",
    "\n",
    "En el script se escriben las accciones y en la consola se ven las acciones.\n",
    "\n",
    "R es un lenguaje orientado a objetos.\n",
    "\n",
    "¿Qué es un objeto?\n",
    "\n",
    "Es una palabra o un símbolo al cual se le asigna un valor.\n",
    "\n",
    "Un objeto puede ser un vector o matriz o marco de datos (data frame), listas.\n",
    "\n",
    "Hay que entender los objetos y sus propiedades.\n",
    "\n",
    "TS significa serie de tiempo, también es un objeto.\n",
    "\n",
    "Hay objetos como expresión donde se puede guardar las variables.\n",
    "\n",
    "Los corchetes indican la posición (no indica necesariamente el valor del dato) donde se visualiza.\n"
   ]
  },
  {
   "cell_type": "code",
   "execution_count": null,
   "metadata": {
    "collapsed": true
   },
   "outputs": [],
   "source": []
  }
 ],
 "metadata": {
  "kernelspec": {
   "display_name": "R",
   "language": "R",
   "name": "ir"
  },
  "language_info": {
   "codemirror_mode": "r",
   "file_extension": ".r",
   "mimetype": "text/x-r-source",
   "name": "R",
   "pygments_lexer": "r",
   "version": "3.4.2"
  }
 },
 "nbformat": 4,
 "nbformat_minor": 2
}
