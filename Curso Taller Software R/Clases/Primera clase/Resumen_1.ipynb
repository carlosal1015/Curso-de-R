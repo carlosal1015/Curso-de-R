{
 "cells": [
  {
   "cell_type": "markdown",
   "metadata": {},
   "source": [
    "- Al inciar R, podemos apreciar la ventana del editor, si hacemos click en ventanas y luego en la opción dividir pantalla, entonces, el editor aparecerá en la parte superior y la consola en la parte inferior.\n",
    "\n",
    "- La consola de R sirve para ejecutar órdenes de R, como por ejemplo, calcular operaciones matemáticas, instalar paquetes, cargar paquetes, crear objetos (funciones, vectores, matrices, arreglos, factores, marco de datos, listas, etc)."
   ]
  },
  {
   "cell_type": "code",
   "execution_count": 1,
   "metadata": {},
   "outputs": [],
   "source": [
    "demo() # Aparecen los paquetes de R"
   ]
  },
  {
   "cell_type": "markdown",
   "metadata": {},
   "source": [
    "- `glm()` es el modelo lineal generalizado que se usa en modelos no lineales.\n",
    "- Se usa para variable dependenties, dicotómicas para caulitativs.\n",
    "- `lm()` es el método de estimación, máximo verosimilitud.\n",
    "- método de mínimos cuadrados y el método de máxima verosimilitud, buscar sus supuestos."
   ]
  },
  {
   "cell_type": "markdown",
   "metadata": {},
   "source": [
    "- `nlm()` es para regresión no lineal, smooth quiz? se use para series de tiempo\n",
    "- El lenguaje de programación de R está basado en C y Fortran.\n",
    "\n",
    "Escribiremos aquí:"
   ]
  },
  {
   "cell_type": "code",
   "execution_count": 3,
   "metadata": {},
   "outputs": [
    {
     "data": {
      "text/html": [
       "4"
      ],
      "text/latex": [
       "4"
      ],
      "text/markdown": [
       "4"
      ],
      "text/plain": [
       "[1] 4"
      ]
     },
     "metadata": {},
     "output_type": "display_data"
    }
   ],
   "source": [
    "2+2"
   ]
  },
  {
   "cell_type": "markdown",
   "metadata": {},
   "source": [
    "Y a continuación pulsamos `Ctrl+R` o desde el ícono Ejecutar línea actual o seleccionar\n",
    "\n",
    "Si es una solo comando podemos usar la consola, pero si es una rutina de trabajo se prefiere usar el editor.\n",
    "\n",
    "Más adelante veremos arreglos y matrices.\n",
    "\n",
    "Al final debe terminar de cada instrucción en paréntesis porque es una función, no debe acabar en llaves."
   ]
  },
  {
   "cell_type": "code",
   "execution_count": 4,
   "metadata": {},
   "outputs": [
    {
     "data": {
      "text/html": [
       "3.43398720448515"
      ],
      "text/latex": [
       "3.43398720448515"
      ],
      "text/markdown": [
       "3.43398720448515"
      ],
      "text/plain": [
       "[1] 3.433987"
      ]
     },
     "metadata": {},
     "output_type": "display_data"
    }
   ],
   "source": [
    "log( { (3 + 2) * 5 } + 6 )\n",
    "# Equivale a log({(3+2)*5}+6) o log({{3+2}*5}+6)"
   ]
  },
  {
   "cell_type": "code",
   "execution_count": 5,
   "metadata": {},
   "outputs": [
    {
     "data": {
      "text/html": [
       "<ol class=list-inline>\n",
       "\t<li>2</li>\n",
       "\t<li>1</li>\n",
       "\t<li>3</li>\n",
       "\t<li>4</li>\n",
       "</ol>\n"
      ],
      "text/latex": [
       "\\begin{enumerate*}\n",
       "\\item 2\n",
       "\\item 1\n",
       "\\item 3\n",
       "\\item 4\n",
       "\\end{enumerate*}\n"
      ],
      "text/markdown": [
       "1. 2\n",
       "2. 1\n",
       "3. 3\n",
       "4. 4\n",
       "\n",
       "\n"
      ],
      "text/plain": [
       "[1] 2 1 3 4"
      ]
     },
     "metadata": {},
     "output_type": "display_data"
    }
   ],
   "source": [
    "v <-c(2,1,3,4)\n",
    "v\n",
    "# nos muestra el valor de dicho vector"
   ]
  },
  {
   "cell_type": "code",
   "execution_count": 6,
   "metadata": {},
   "outputs": [
    {
     "data": {
      "text/html": [
       "-2"
      ],
      "text/latex": [
       "-2"
      ],
      "text/markdown": [
       "-2"
      ],
      "text/plain": [
       "[1] -2"
      ]
     },
     "metadata": {},
     "output_type": "display_data"
    }
   ],
   "source": [
    "w<-c(0,2,-2,1)\n",
    "# Crea un vector llamado w\n",
    "w[3]\n",
    "# Muestra la tercera componente de w"
   ]
  },
  {
   "cell_type": "code",
   "execution_count": 7,
   "metadata": {},
   "outputs": [
    {
     "data": {
      "text/html": [
       "<ol class=list-inline>\n",
       "\t<li>6</li>\n",
       "\t<li>-2</li>\n",
       "\t<li>14</li>\n",
       "\t<li>7</li>\n",
       "</ol>\n"
      ],
      "text/latex": [
       "\\begin{enumerate*}\n",
       "\\item 6\n",
       "\\item -2\n",
       "\\item 14\n",
       "\\item 7\n",
       "\\end{enumerate*}\n"
      ],
      "text/markdown": [
       "1. 6\n",
       "2. -2\n",
       "3. 14\n",
       "4. 7\n",
       "\n",
       "\n"
      ],
      "text/plain": [
       "[1]  6 -2 14  7"
      ]
     },
     "metadata": {},
     "output_type": "display_data"
    }
   ],
   "source": [
    "2*v-3*w+2\n",
    "# multiplica componente a componente"
   ]
  },
  {
   "cell_type": "code",
   "execution_count": 8,
   "metadata": {},
   "outputs": [
    {
     "data": {
      "text/html": [
       "<ol class=list-inline>\n",
       "\t<li>0</li>\n",
       "\t<li>2</li>\n",
       "\t<li>-0.666666666666667</li>\n",
       "\t<li>0.25</li>\n",
       "</ol>\n"
      ],
      "text/latex": [
       "\\begin{enumerate*}\n",
       "\\item 0\n",
       "\\item 2\n",
       "\\item -0.666666666666667\n",
       "\\item 0.25\n",
       "\\end{enumerate*}\n"
      ],
      "text/markdown": [
       "1. 0\n",
       "2. 2\n",
       "3. -0.666666666666667\n",
       "4. 0.25\n",
       "\n",
       "\n"
      ],
      "text/plain": [
       "[1]  0.0000000  2.0000000 -0.6666667  0.2500000"
      ]
     },
     "metadata": {},
     "output_type": "display_data"
    }
   ],
   "source": [
    "w/v\n",
    "# divide componente a componente"
   ]
  },
  {
   "cell_type": "code",
   "execution_count": 9,
   "metadata": {},
   "outputs": [
    {
     "data": {
      "text/html": [
       "<ol class=list-inline>\n",
       "\t<li>8</li>\n",
       "\t<li>1</li>\n",
       "\t<li>27</li>\n",
       "\t<li>64</li>\n",
       "</ol>\n"
      ],
      "text/latex": [
       "\\begin{enumerate*}\n",
       "\\item 8\n",
       "\\item 1\n",
       "\\item 27\n",
       "\\item 64\n",
       "\\end{enumerate*}\n"
      ],
      "text/markdown": [
       "1. 8\n",
       "2. 1\n",
       "3. 27\n",
       "4. 64\n",
       "\n",
       "\n"
      ],
      "text/plain": [
       "[1]  8  1 27 64"
      ]
     },
     "metadata": {},
     "output_type": "display_data"
    }
   ],
   "source": [
    "v^3\n",
    "# eleva al cubo cada componente"
   ]
  },
  {
   "cell_type": "code",
   "execution_count": 10,
   "metadata": {},
   "outputs": [
    {
     "data": {
      "text/html": [
       "<ol class=list-inline>\n",
       "\t<li>1</li>\n",
       "\t<li>1</li>\n",
       "\t<li>0.111111111111111</li>\n",
       "\t<li>4</li>\n",
       "</ol>\n"
      ],
      "text/latex": [
       "\\begin{enumerate*}\n",
       "\\item 1\n",
       "\\item 1\n",
       "\\item 0.111111111111111\n",
       "\\item 4\n",
       "\\end{enumerate*}\n"
      ],
      "text/markdown": [
       "1. 1\n",
       "2. 1\n",
       "3. 0.111111111111111\n",
       "4. 4\n",
       "\n",
       "\n"
      ],
      "text/plain": [
       "[1] 1.0000000 1.0000000 0.1111111 4.0000000"
      ]
     },
     "metadata": {},
     "output_type": "display_data"
    }
   ],
   "source": [
    "v^w\n",
    "# eleva cada componente de v a su correspondiente componente de w"
   ]
  },
  {
   "cell_type": "code",
   "execution_count": 11,
   "metadata": {},
   "outputs": [
    {
     "name": "stderr",
     "output_type": "stream",
     "text": [
      "Warning message in sqrt(w):\n",
      "“Se han producido NaNs”"
     ]
    },
    {
     "data": {
      "text/html": [
       "<ol class=list-inline>\n",
       "\t<li>0</li>\n",
       "\t<li>1.4142135623731</li>\n",
       "\t<li>NaN</li>\n",
       "\t<li>1</li>\n",
       "</ol>\n"
      ],
      "text/latex": [
       "\\begin{enumerate*}\n",
       "\\item 0\n",
       "\\item 1.4142135623731\n",
       "\\item NaN\n",
       "\\item 1\n",
       "\\end{enumerate*}\n"
      ],
      "text/markdown": [
       "1. 0\n",
       "2. 1.4142135623731\n",
       "3. NaN\n",
       "4. 1\n",
       "\n",
       "\n"
      ],
      "text/plain": [
       "[1] 0.000000 1.414214      NaN 1.000000"
      ]
     },
     "metadata": {},
     "output_type": "display_data"
    }
   ],
   "source": [
    "sqrt(w)\n",
    "# produce un warning por pedir que calcule la raiz cuadrada de un negativo"
   ]
  },
  {
   "cell_type": "code",
   "execution_count": 13,
   "metadata": {},
   "outputs": [
    {
     "data": {
      "text/html": [
       "<ol class=list-inline>\n",
       "\t<li>2</li>\n",
       "\t<li>1</li>\n",
       "\t<li>3</li>\n",
       "\t<li>4</li>\n",
       "\t<li>0</li>\n",
       "\t<li>2</li>\n",
       "\t<li>-2</li>\n",
       "\t<li>1</li>\n",
       "</ol>\n"
      ],
      "text/latex": [
       "\\begin{enumerate*}\n",
       "\\item 2\n",
       "\\item 1\n",
       "\\item 3\n",
       "\\item 4\n",
       "\\item 0\n",
       "\\item 2\n",
       "\\item -2\n",
       "\\item 1\n",
       "\\end{enumerate*}\n"
      ],
      "text/markdown": [
       "1. 2\n",
       "2. 1\n",
       "3. 3\n",
       "4. 4\n",
       "5. 0\n",
       "6. 2\n",
       "7. -2\n",
       "8. 1\n",
       "\n",
       "\n"
      ],
      "text/plain": [
       "[1]  2  1  3  4  0  2 -2  1"
      ]
     },
     "metadata": {},
     "output_type": "display_data"
    }
   ],
   "source": [
    "vw<- c(v,w)\n",
    "# une los dos vectores y los almacena en uno nuevo vw\n",
    "vw\n",
    "# muestra el resultado de vw"
   ]
  },
  {
   "cell_type": "code",
   "execution_count": 14,
   "metadata": {},
   "outputs": [
    {
     "name": "stderr",
     "output_type": "stream",
     "text": [
      "Warning message in vwa/v:\n",
      "“longitud de objeto mayor no es m<fa>ltiplo de la longitud de uno menor”"
     ]
    },
    {
     "data": {
      "text/html": [
       "<ol class=list-inline>\n",
       "\t<li>1</li>\n",
       "\t<li>1</li>\n",
       "\t<li>1</li>\n",
       "\t<li>1</li>\n",
       "\t<li>0</li>\n",
       "\t<li>2</li>\n",
       "\t<li>-0.666666666666667</li>\n",
       "\t<li>0.25</li>\n",
       "\t<li>3</li>\n",
       "</ol>\n"
      ],
      "text/latex": [
       "\\begin{enumerate*}\n",
       "\\item 1\n",
       "\\item 1\n",
       "\\item 1\n",
       "\\item 1\n",
       "\\item 0\n",
       "\\item 2\n",
       "\\item -0.666666666666667\n",
       "\\item 0.25\n",
       "\\item 3\n",
       "\\end{enumerate*}\n"
      ],
      "text/markdown": [
       "1. 1\n",
       "2. 1\n",
       "3. 1\n",
       "4. 1\n",
       "5. 0\n",
       "6. 2\n",
       "7. -0.666666666666667\n",
       "8. 0.25\n",
       "9. 3\n",
       "\n",
       "\n"
      ],
      "text/plain": [
       "[1]  1.0000000  1.0000000  1.0000000  1.0000000  0.0000000  2.0000000 -0.6666667\n",
       "[8]  0.2500000  3.0000000"
      ]
     },
     "metadata": {},
     "output_type": "display_data"
    }
   ],
   "source": [
    "vwa <- c(vw,6)\n",
    "# une otra componente\n",
    "vwa/v\n",
    "# Da un warning pues ambos vectores no tienen el mismo número de componentes. Pero, qu? hace?\n",
    "# Repite nuevamente"
   ]
  },
  {
   "cell_type": "markdown",
   "metadata": {},
   "source": [
    "Averiguar qué es *du*, *ado* y *stata*.\n",
    "\n",
    "Lenguaje a orientado a objetos y la lectura de datos"
   ]
  }
 ],
 "metadata": {
  "kernelspec": {
   "display_name": "R",
   "language": "R",
   "name": "ir"
  },
  "language_info": {
   "codemirror_mode": "r",
   "file_extension": ".r",
   "mimetype": "text/x-r-source",
   "name": "R",
   "pygments_lexer": "r",
   "version": "3.5.1"
  }
 },
 "nbformat": 4,
 "nbformat_minor": 2
}
