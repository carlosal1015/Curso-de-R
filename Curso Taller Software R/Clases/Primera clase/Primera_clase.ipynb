{
 "cells": [
  {
   "cell_type": "markdown",
   "metadata": {},
   "source": [
    "# Primera clase\n",
    "\n",
    "## Contenido\n",
    "- Objetivos\n",
    "- Un poco de historio sobre R\n",
    "- Motivos para su eso\n",
    "- Instalación de R\n",
    "- Inicio de las sesiones en R\n",
    "- R como calculadora científica\n",
    "- La ayuda en R\n",
    "\n",
    "## Conocimientos y capacidades\n",
    "Proporcionar a los participantes conocimientos y herramientas para familiarizarlos en el análisis de datos que conforman la estadística, a fin de aplicarlos en la solución de problemas propios del quehacer científico en el ejercicio de su carrera profesional y la investigación.\n",
    "\n",
    "## Generalidades\n",
    "- Integración de teoría y práctica con ejemplos y casos.\n",
    "- Sesiones participativas y trabajos prácticos individuales.\n",
    "- Requisitos: Estadística Descriptiva. Recomendable conocimientos sobre técnicas de programación.\n",
    "- Clases: Sábado y domingo de 2pm - 6pm.\n",
    "- Total horas lectivas: 30 horas. La primera clase es de dos horas.\n",
    "- 1 práctica calificada: 15 de septiembre del 2018.\n",
    "- Examen final: 23 de septiembre del 2018.\n",
    "\n",
    "## Sistema estadística R\n",
    "\n",
    "### El papel de la estadística en nuestros días\n",
    "- Estadística o ciencia del estado (en su origen):\n",
    "  - Recolección -- Análisis -- Interpretación de datos.\n",
    "- Su papel hoy en día:\n",
    "  - Salud, Educación, Economía, etc, ... y, cómo  no, en INVESTIGACIÓN.\n",
    "- Utilidad en el entorno global en el que nos encontramos a nivel individual.\n",
    "\n",
    "|Software | Potencia | Dificultad de uso | Precio | Uso prioritario |\n",
    "|:----:|:--------:|:-----------------:|:------:|:---------------:|\n",
    "| SPSS| Alta | Baja* | Muy alto | Docencia / profesional |\n",
    "| STATA |Muy alta|Media|Medio/Alto|Investigación aplicada |\n",
    "| R |Máxima|Alta|Gratuito|Investigación básica y aplicada |\n",
    "\n",
    "## Un poco de historia\n",
    "- **R** es un lenguaje de programación especialmente indicado para el análisis estadístico.\n",
    "- R fue inicialmente diseñado por Robert Gentleman y Ross Ihaka, miembros del Departamento de Estadística de la Universidad de Nueva Zelanda. Sin embargo, una de las grandes ventajas de **R** es que hoy en día es, en realidad, fruto del esfuerzo de miles de personas en todo el mundo que colaboran en su desarrollo.\n",
    "\n",
    "## ¿Qué es R?\n",
    "- R es un lenguaje de programación para análisis estadístico de datos gráficos.\n",
    "- Toda la información sobre R se encuentra en [http://www.R-project.org](http://www.R-project.org).\n",
    "- El sistema R contiene dos componentes principales:\n",
    "  1. Sistema base: contiene el software de lenguaje R y los paquetes complementarios de alta prioridad.\n",
    "  2. Paquetes complementarios aportados por el usuario\n",
    "- El paquete estadístico R es uno de los más flexibles, potentes y profesionales que existen actualmente para realizar tareas estadísticas de todo tipo, desde las más elementales, hasta las más avanzadas.\n",
    "- Cuenta, además, con la ventaja de ser gratuito y de descarga e instalación sencillas. El curso introduce al participante al manejo y uso a nivel básico del sistema estadística R.\n",
    "- R incorpora tareas sencillas, pero relevantes, relacionadas con el manejo y análisis de datos en el contexto estadístico. Entre ellas se incluye el manejo de datos estadísticos, la representación  gráfica de datos univariantes y multivariantes, y la programación de tareas estadísticas con el lenguaje de programación incluido en R.\n",
    "\n",
    "## ¿Quiénes usan R?\n",
    "\n",
    "- Todos los científicos especialmente aquellos que trabajan en países en desarrollo.\n",
    "  - Permite el libre acceso universal a las herramientas más avanzadas para el análisis de datos estadísticos\n",
    "  - El más utilizado para la enseñanza de las estadísticas de estudiantes de pregrado y postgrado y pueden usarlo sin costo.\n",
    "  \n",
    "## Motivos para el uso de R\n",
    "### Razones para utilizar (y no) utilizar\n",
    "| Pros | Contras |\n",
    "|:----:|:-------:|\n",
    "|Es libre| Al principio suele ser árido|\n",
    "|Flexibilidad|Cuesta un poco si se está habituado a trabajar con otro tipo de programas|\n",
    "|Se aprende estadística||\n",
    "|Los gráficos||\n",
    "\n",
    "## Instalación del sistema R-base\n",
    "1. Para instalar R desde Debian digite el siguiente comando `sudo apt install r-base`."
   ]
  },
  {
   "cell_type": "markdown",
   "metadata": {},
   "source": [
    "## Tarea\n",
    "Instalar la última versión de R tras desinstalar cualquier versión previa que pudiera haber en el ordenador de trabajo.\n",
    "\n",
    "**Solución:**\n",
    "Remueva la carpeta /home/carlosal1015/anaconda3/envs/rstdio y ejecute los siguientes comandos:\n",
    "```\n",
    "conda update --all\n",
    "conda install -c r rstudio\n",
    "```\n",
    "\n",
    "## Inicio de las sesiones en R\n",
    "\n",
    "- Una vez instalado, podemos ya ejecutar el programa. Para ello, solo hace falta hacer click en el ícono de **R** o seleccionarlo desde el menú de programas.\n",
    "- En el modo por defecto, abriendo **R** aparece una sola ventana, la consola o ventana de comandos de R en la cual introduciremos los comandos y será dónde se verán los resultados de los análisis.\n",
    "- En la cabecera esta ventana aparecerá la versión que estamos utilizando. Conviene visitar habitualmente la página del proyecto para ver si hay una nueva versión.\n",
    "\n",
    "## La consola y el editor de R\n",
    "\n",
    "- Sin embargo, esta no es la manera más eficiente de trabajar en R.\n",
    "- Cuando estemos realizando un trabajo de mediana complejidad, será muy útil manejar todas las entradas de código que solicitemos a R en un entorno donde podamos corregirlas, retocarlas, repetirlas, guardarlas para continuar el trabajo en otro momento, etc.\n",
    "\n",
    "- Esta es la función del editor R.\n",
    "\n",
    "- Justo después de la cabecera, aparece una línea en blanco con el símbolo `>` en el margen izquierdo: **Prompt**. A partir de aquí R espera que escribamos **Comandos** e instrucciones para comenzar a trabajar.\n",
    "- Para ejecutar un comando escrito utilizamos `Ctrl + R`.\n",
    "- El signo `#`indica la introducción de un comentario.\n",
    "- Las órdenes elementales consisten en expresiones o en asignaciones:\n",
    "  - Si una orden consiste en una expresión, se evalúa, se imprime y su valor se pierde.\n",
    "  - Una asignación, por el contrario, evalúa una expresión, no la imprime y guarda su valor en una variable.\n",
    "- El comando `demo()` permite realizar demostraciones del uso de R.\n",
    "- Mediante `citation()` podemos saber cómo citar R o paquetes de R en publicaciones y así dar el crédito a la enorme cantidad de personas que desarrollan este proyecto.\n",
    "- En cada línea solo se tiene un máximo de 128 caracteres: si queremos escribir más, podemos utilizar otra línea que comienza con el símbolo `+` en el lado izquierdo de la pantalla. Esto también puede ocurrir cuando el comando que terminamos de escribir no está completo (si falta un paréntesis, etc.).\n",
    "- Si encontramos que un error es la falta de algo, podemos volver a teclearlo, y al pulsar `Ctrl+R`, ejecutará lo que hayamos solicitado.\n",
    "- Si lo que ocurre es que nos hemos equivocado, al pulsar la tecla `Esc` el `prompt >` volverá a aparecer.\n",
    "- Con la tecla ↑ recuperamos las instrucciones utilizadas en la sesión y con las teclas → ← podemos corregir errores.\n",
    "- Para separar expresiones se emplea `;` (punto y coma).\n",
    "- Con el icono **STOP** se interrumpe la edición o ejecución en curso.\n",
    "- `q()` es el comando para salir de R.\n",
    "\n",
    "## R como calculadora\n",
    "\n",
    "- El uso más básico de R sería utilizarlo como una **calculadora científica**. Así:\n",
    "```R\n",
    "3 + 4\n",
    "```\n",
    "Sumará 3 y 4 y devolverá el resultado.\n",
    "- Cualquier **función matemática** que se nos ocurra está en R:\n",
    "\n",
    "`log(x)`, `exp(x)`, `log(x,n)`, `log10(x)`, `sqrt(x)`, `factorial(x)`, `choose(n,x)`, `gamma(x)`, `lgamma(x)`, `floor(x)`, `ceiling(x)`, `trunc(x)`, `round(x,digits=0)`, `signif(x,digits=6)`, `cos(x)`, `sin(x)`, `tan(x)`, `acos(x)`, `asin(x)`, `atan(x)`, `acosh(x)`, `asinh(x)`, `atanh(x)`, `abs(x)`\n",
    "\n",
    "y podemos aplicarla sobre cualquier número.\n",
    "- Sin embargo, lo que convierte a R en una potente herramienta de trabajo es que está diseñado de forma que la mayoría de operaciones (por ejemplo, `+`, `-`, `*`, `\\`, etcétera) y de funciones (por ejemplo, `log()`) están definidas con carácter vectorial, es decir para operar componente a componente.\n",
    "- Es conveniente pues, en la medida de lo posible, explotar dicha posibilidad ya que agiliza en mucho el tiempo de computación\n",
    "- La función principal para definir un vector es a través de sus componentes, con la función `c()`, mediante el comando más importante en R que es `<-` el de la asignación.\n",
    "- Los paréntesis `()` se emplean para los argumentos de las funciones y para agrupar expresiones algebraicas.\n",
    "- Los corchetes `[]` o dobles corchetes `[[]]` para seleccionar partes de un objeto así como el `$`. Las llaves `{ }` para agrupar expresiones.\n",
    "- Para referirnos a la componente enésima del vector $v$ escribimos `v[n]`."
   ]
  },
  {
   "cell_type": "markdown",
   "metadata": {},
   "source": [
    "## Tarea\n",
    "Ejecutar los siguientes comandos:\n",
    "```R\n",
    "log(((3+2)*5))\n",
    "# Equivale a log({(3+2)*5}+6) o log({{3+2}*5}+6)\n",
    "v<-c(2,1,3,4)\n",
    "# crea un vector llamado v con cuatro valores\n",
    "v\n",
    "# nos muestra el valor de dicho vector\n",
    "w<-c(0,2,-2,1)\n",
    "# crea un vector llamado w\n",
    "w[3]\n",
    "# nos muestra la tercera componente de w\n",
    "```"
   ]
  },
  {
   "cell_type": "code",
   "execution_count": 2,
   "metadata": {},
   "outputs": [
    {
     "data": {
      "text/html": [
       "3.2188758248682"
      ],
      "text/latex": [
       "3.2188758248682"
      ],
      "text/markdown": [
       "3.2188758248682"
      ],
      "text/plain": [
       "[1] 3.218876"
      ]
     },
     "metadata": {},
     "output_type": "display_data"
    },
    {
     "data": {
      "text/html": [
       "<ol class=list-inline>\n",
       "\t<li>2</li>\n",
       "\t<li>1</li>\n",
       "\t<li>3</li>\n",
       "\t<li>4</li>\n",
       "</ol>\n"
      ],
      "text/latex": [
       "\\begin{enumerate*}\n",
       "\\item 2\n",
       "\\item 1\n",
       "\\item 3\n",
       "\\item 4\n",
       "\\end{enumerate*}\n"
      ],
      "text/markdown": [
       "1. 2\n",
       "2. 1\n",
       "3. 3\n",
       "4. 4\n",
       "\n",
       "\n"
      ],
      "text/plain": [
       "[1] 2 1 3 4"
      ]
     },
     "metadata": {},
     "output_type": "display_data"
    },
    {
     "data": {
      "text/html": [
       "-2"
      ],
      "text/latex": [
       "-2"
      ],
      "text/markdown": [
       "-2"
      ],
      "text/plain": [
       "[1] -2"
      ]
     },
     "metadata": {},
     "output_type": "display_data"
    }
   ],
   "source": [
    "log(((3+2)*5))\n",
    "v<-c(2,1,3,4)\n",
    "v\n",
    "w<-c(0,2,-2,1)\n",
    "w[3]"
   ]
  },
  {
   "cell_type": "markdown",
   "metadata": {},
   "source": [
    "## Tarea\n",
    "Calcula las siguientes operaciones, analizar los resultados obtenidos y observa los mensajes de advertencia:\n",
    "```R\n",
    "2*v-3*w+2\n",
    "# multiplica componente a componente\n",
    "w/v\n",
    "# divide componente a componente\n",
    "v^3\n",
    "# eleva al cubo cada componente\n",
    "v^w\n",
    "# eleva cada componente de v a su correspondiente componente de w\n",
    "```"
   ]
  },
  {
   "cell_type": "code",
   "execution_count": 3,
   "metadata": {},
   "outputs": [
    {
     "data": {
      "text/html": [
       "<ol class=list-inline>\n",
       "\t<li>6</li>\n",
       "\t<li>-2</li>\n",
       "\t<li>14</li>\n",
       "\t<li>7</li>\n",
       "</ol>\n"
      ],
      "text/latex": [
       "\\begin{enumerate*}\n",
       "\\item 6\n",
       "\\item -2\n",
       "\\item 14\n",
       "\\item 7\n",
       "\\end{enumerate*}\n"
      ],
      "text/markdown": [
       "1. 6\n",
       "2. -2\n",
       "3. 14\n",
       "4. 7\n",
       "\n",
       "\n"
      ],
      "text/plain": [
       "[1]  6 -2 14  7"
      ]
     },
     "metadata": {},
     "output_type": "display_data"
    },
    {
     "data": {
      "text/html": [
       "<ol class=list-inline>\n",
       "\t<li>0</li>\n",
       "\t<li>2</li>\n",
       "\t<li>-0.666666666666667</li>\n",
       "\t<li>0.25</li>\n",
       "</ol>\n"
      ],
      "text/latex": [
       "\\begin{enumerate*}\n",
       "\\item 0\n",
       "\\item 2\n",
       "\\item -0.666666666666667\n",
       "\\item 0.25\n",
       "\\end{enumerate*}\n"
      ],
      "text/markdown": [
       "1. 0\n",
       "2. 2\n",
       "3. -0.666666666666667\n",
       "4. 0.25\n",
       "\n",
       "\n"
      ],
      "text/plain": [
       "[1]  0.0000000  2.0000000 -0.6666667  0.2500000"
      ]
     },
     "metadata": {},
     "output_type": "display_data"
    },
    {
     "data": {
      "text/html": [
       "<ol class=list-inline>\n",
       "\t<li>8</li>\n",
       "\t<li>1</li>\n",
       "\t<li>27</li>\n",
       "\t<li>64</li>\n",
       "</ol>\n"
      ],
      "text/latex": [
       "\\begin{enumerate*}\n",
       "\\item 8\n",
       "\\item 1\n",
       "\\item 27\n",
       "\\item 64\n",
       "\\end{enumerate*}\n"
      ],
      "text/markdown": [
       "1. 8\n",
       "2. 1\n",
       "3. 27\n",
       "4. 64\n",
       "\n",
       "\n"
      ],
      "text/plain": [
       "[1]  8  1 27 64"
      ]
     },
     "metadata": {},
     "output_type": "display_data"
    },
    {
     "data": {
      "text/html": [
       "<ol class=list-inline>\n",
       "\t<li>1</li>\n",
       "\t<li>1</li>\n",
       "\t<li>0.111111111111111</li>\n",
       "\t<li>4</li>\n",
       "</ol>\n"
      ],
      "text/latex": [
       "\\begin{enumerate*}\n",
       "\\item 1\n",
       "\\item 1\n",
       "\\item 0.111111111111111\n",
       "\\item 4\n",
       "\\end{enumerate*}\n"
      ],
      "text/markdown": [
       "1. 1\n",
       "2. 1\n",
       "3. 0.111111111111111\n",
       "4. 4\n",
       "\n",
       "\n"
      ],
      "text/plain": [
       "[1] 1.0000000 1.0000000 0.1111111 4.0000000"
      ]
     },
     "metadata": {},
     "output_type": "display_data"
    }
   ],
   "source": [
    "2*v-3*w+2\n",
    "w/v\n",
    "v^3\n",
    "v^w"
   ]
  },
  {
   "cell_type": "markdown",
   "metadata": {},
   "source": [
    "## Tarea\n",
    "```R\n",
    "sqrt(w)\n",
    "# produce un \"warning\" por pedir que haga la raíz de un negativo\n",
    "vw<-c(v,w)\n",
    "# une los dos vectores y los almacena en uno nuevo vw\n",
    "vw\n",
    "# muestra el resultado de vw\n",
    "vwa/v\n",
    "# da un \"warning\" pues ambos vectores no tienen el mismo número de componentes. Pero, ¿qué hace?\n",
    "```"
   ]
  },
  {
   "cell_type": "code",
   "execution_count": 4,
   "metadata": {},
   "outputs": [
    {
     "name": "stderr",
     "output_type": "stream",
     "text": [
      "Warning message in sqrt(w):\n",
      "“NaNs produced”"
     ]
    },
    {
     "data": {
      "text/html": [
       "<ol class=list-inline>\n",
       "\t<li>0</li>\n",
       "\t<li>1.4142135623731</li>\n",
       "\t<li>NaN</li>\n",
       "\t<li>1</li>\n",
       "</ol>\n"
      ],
      "text/latex": [
       "\\begin{enumerate*}\n",
       "\\item 0\n",
       "\\item 1.4142135623731\n",
       "\\item NaN\n",
       "\\item 1\n",
       "\\end{enumerate*}\n"
      ],
      "text/markdown": [
       "1. 0\n",
       "2. 1.4142135623731\n",
       "3. NaN\n",
       "4. 1\n",
       "\n",
       "\n"
      ],
      "text/plain": [
       "[1] 0.000000 1.414214      NaN 1.000000"
      ]
     },
     "metadata": {},
     "output_type": "display_data"
    },
    {
     "data": {
      "text/html": [
       "<ol class=list-inline>\n",
       "\t<li>2</li>\n",
       "\t<li>1</li>\n",
       "\t<li>3</li>\n",
       "\t<li>4</li>\n",
       "\t<li>0</li>\n",
       "\t<li>2</li>\n",
       "\t<li>-2</li>\n",
       "\t<li>1</li>\n",
       "</ol>\n"
      ],
      "text/latex": [
       "\\begin{enumerate*}\n",
       "\\item 2\n",
       "\\item 1\n",
       "\\item 3\n",
       "\\item 4\n",
       "\\item 0\n",
       "\\item 2\n",
       "\\item -2\n",
       "\\item 1\n",
       "\\end{enumerate*}\n"
      ],
      "text/markdown": [
       "1. 2\n",
       "2. 1\n",
       "3. 3\n",
       "4. 4\n",
       "5. 0\n",
       "6. 2\n",
       "7. -2\n",
       "8. 1\n",
       "\n",
       "\n"
      ],
      "text/plain": [
       "[1]  2  1  3  4  0  2 -2  1"
      ]
     },
     "metadata": {},
     "output_type": "display_data"
    },
    {
     "ename": "ERROR",
     "evalue": "Error in eval(expr, envir, enclos): object 'vwa' not found\n",
     "execution_count": 4,
     "output_type": "error",
     "traceback": [
      "Error in eval(expr, envir, enclos): object 'vwa' not found\nTraceback:\n"
     ]
    }
   ],
   "source": [
    "sqrt(w)\n",
    "vw<-c(v,w)\n",
    "vw\n",
    "vwa/v"
   ]
  },
  {
   "cell_type": "code",
   "execution_count": null,
   "metadata": {},
   "outputs": [],
   "source": [
    "?if"
   ]
  }
 ],
 "metadata": {
  "kernelspec": {
   "display_name": "R",
   "language": "R",
   "name": "ir"
  },
  "language_info": {
   "codemirror_mode": {
    "name": "ipython",
    "version": 3
   },
   "file_extension": ".py",
   "mimetype": "text/x-python",
   "name": "python",
   "nbconvert_exporter": "python",
   "pygments_lexer": "ipython3",
   "version": "3.6.6"
  }
 },
 "nbformat": 4,
 "nbformat_minor": 2
}
