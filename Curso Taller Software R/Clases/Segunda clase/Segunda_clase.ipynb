{
 "cells": [
  {
   "cell_type": "code",
   "execution_count": 1,
   "metadata": {},
   "outputs": [
    {
     "data": {
      "text/html": [
       "<ol class=list-inline>\n",
       "\t<li>'2.R'</li>\n",
       "\t<li>'datos.txt'</li>\n",
       "\t<li>'FichaTecnica_2017.pdf'</li>\n",
       "\t<li>'iris.sav'</li>\n",
       "\t<li>'Práctica.pdf'</li>\n",
       "\t<li>'quinua.csv'</li>\n",
       "\t<li>'quinua.xlsx'</li>\n",
       "\t<li>'quinua2.csv'</li>\n",
       "\t<li>'Segunda_clase.ipynb'</li>\n",
       "\t<li>'Sistema R_Sesión 2.pdf'</li>\n",
       "\t<li>'Sumaria-2017.sav'</li>\n",
       "</ol>\n"
      ],
      "text/latex": [
       "\\begin{enumerate*}\n",
       "\\item '2.R'\n",
       "\\item 'datos.txt'\n",
       "\\item 'FichaTecnica\\_2017.pdf'\n",
       "\\item 'iris.sav'\n",
       "\\item 'Práctica.pdf'\n",
       "\\item 'quinua.csv'\n",
       "\\item 'quinua.xlsx'\n",
       "\\item 'quinua2.csv'\n",
       "\\item 'Segunda\\_clase.ipynb'\n",
       "\\item 'Sistema R\\_Sesión 2.pdf'\n",
       "\\item 'Sumaria-2017.sav'\n",
       "\\end{enumerate*}\n"
      ],
      "text/markdown": [
       "1. '2.R'\n",
       "2. 'datos.txt'\n",
       "3. 'FichaTecnica_2017.pdf'\n",
       "4. 'iris.sav'\n",
       "5. 'Práctica.pdf'\n",
       "6. 'quinua.csv'\n",
       "7. 'quinua.xlsx'\n",
       "8. 'quinua2.csv'\n",
       "9. 'Segunda_clase.ipynb'\n",
       "10. 'Sistema R_Sesión 2.pdf'\n",
       "11. 'Sumaria-2017.sav'\n",
       "\n",
       "\n"
      ],
      "text/plain": [
       " [1] \"2.R\"                    \"datos.txt\"              \"FichaTecnica_2017.pdf\" \n",
       " [4] \"iris.sav\"               \"Práctica.pdf\"           \"quinua.csv\"            \n",
       " [7] \"quinua.xlsx\"            \"quinua2.csv\"            \"Segunda_clase.ipynb\"   \n",
       "[10] \"Sistema R_Sesión 2.pdf\" \"Sumaria-2017.sav\"      "
      ]
     },
     "metadata": {},
     "output_type": "display_data"
    }
   ],
   "source": [
    "dir()"
   ]
  },
  {
   "cell_type": "code",
   "execution_count": 2,
   "metadata": {},
   "outputs": [
    {
     "data": {
      "text/html": [],
      "text/latex": [],
      "text/markdown": [],
      "text/plain": [
       "character(0)"
      ]
     },
     "metadata": {},
     "output_type": "display_data"
    }
   ],
   "source": [
    "ls()"
   ]
  },
  {
   "cell_type": "code",
   "execution_count": 3,
   "metadata": {},
   "outputs": [
    {
     "data": {
      "text/html": [
       "'/Users/User/Desktop/Repositorios/Curso-de-R/Curso Taller Software R/Clases/Segunda clase'"
      ],
      "text/latex": [
       "'/Users/User/Desktop/Repositorios/Curso-de-R/Curso Taller Software R/Clases/Segunda clase'"
      ],
      "text/markdown": [
       "'/Users/User/Desktop/Repositorios/Curso-de-R/Curso Taller Software R/Clases/Segunda clase'"
      ],
      "text/plain": [
       "[1] \"/Users/User/Desktop/Repositorios/Curso-de-R/Curso Taller Software R/Clases/Segunda clase\""
      ]
     },
     "metadata": {},
     "output_type": "display_data"
    }
   ],
   "source": [
    "getwd()"
   ]
  }
 ],
 "metadata": {
  "kernelspec": {
   "display_name": "R",
   "language": "R",
   "name": "ir"
  },
  "language_info": {
   "codemirror_mode": "r",
   "file_extension": ".r",
   "mimetype": "text/x-r-source",
   "name": "R",
   "pygments_lexer": "r",
   "version": "3.5.1"
  }
 },
 "nbformat": 4,
 "nbformat_minor": 2
}
