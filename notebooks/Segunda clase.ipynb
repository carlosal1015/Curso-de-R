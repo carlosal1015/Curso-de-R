{
 "cells": [
  {
   "cell_type": "markdown",
   "metadata": {},
   "source": [
    "# Segunda clase (11/02/2018)"
   ]
  },
  {
   "cell_type": "code",
   "execution_count": 1,
   "metadata": {},
   "outputs": [
    {
     "data": {
      "text/html": [
       "5"
      ],
      "text/latex": [
       "5"
      ],
      "text/markdown": [
       "5"
      ],
      "text/plain": [
       "[1] 5"
      ]
     },
     "metadata": {},
     "output_type": "display_data"
    },
    {
     "data": {
      "text/html": [
       "-1"
      ],
      "text/latex": [
       "-1"
      ],
      "text/markdown": [
       "-1"
      ],
      "text/plain": [
       "[1] -1"
      ]
     },
     "metadata": {},
     "output_type": "display_data"
    },
    {
     "data": {
      "text/html": [
       "6"
      ],
      "text/latex": [
       "6"
      ],
      "text/markdown": [
       "6"
      ],
      "text/plain": [
       "[1] 6"
      ]
     },
     "metadata": {},
     "output_type": "display_data"
    },
    {
     "data": {
      "text/html": [
       "0.666666666666667"
      ],
      "text/latex": [
       "0.666666666666667"
      ],
      "text/markdown": [
       "0.666666666666667"
      ],
      "text/plain": [
       "[1] 0.6666667"
      ]
     },
     "metadata": {},
     "output_type": "display_data"
    }
   ],
   "source": [
    "x <- 2\n",
    "y <- 3\n",
    "\n",
    "x + y\n",
    "x - y\n",
    "x * y\n",
    "x / y"
   ]
  },
  {
   "cell_type": "code",
   "execution_count": 5,
   "metadata": {},
   "outputs": [
    {
     "data": {
      "text/html": [
       "<table>\n",
       "<tbody>\n",
       "\t<tr><td>1 </td><td> 7</td><td>13</td><td>19</td><td>25</td><td>31</td></tr>\n",
       "\t<tr><td>2 </td><td> 8</td><td>14</td><td>20</td><td>26</td><td>32</td></tr>\n",
       "\t<tr><td>3 </td><td> 9</td><td>15</td><td>21</td><td>27</td><td>33</td></tr>\n",
       "\t<tr><td>4 </td><td>10</td><td>16</td><td>22</td><td>28</td><td>34</td></tr>\n",
       "\t<tr><td>5 </td><td>11</td><td>17</td><td>23</td><td>29</td><td>35</td></tr>\n",
       "\t<tr><td>6 </td><td>12</td><td>18</td><td>24</td><td>30</td><td>36</td></tr>\n",
       "</tbody>\n",
       "</table>\n"
      ],
      "text/latex": [
       "\\begin{tabular}{llllll}\n",
       "\t 1  &  7 & 13 & 19 & 25 & 31\\\\\n",
       "\t 2  &  8 & 14 & 20 & 26 & 32\\\\\n",
       "\t 3  &  9 & 15 & 21 & 27 & 33\\\\\n",
       "\t 4  & 10 & 16 & 22 & 28 & 34\\\\\n",
       "\t 5  & 11 & 17 & 23 & 29 & 35\\\\\n",
       "\t 6  & 12 & 18 & 24 & 30 & 36\\\\\n",
       "\\end{tabular}\n"
      ],
      "text/markdown": [
       "\n",
       "| 1  |  7 | 13 | 19 | 25 | 31 | \n",
       "| 2  |  8 | 14 | 20 | 26 | 32 | \n",
       "| 3  |  9 | 15 | 21 | 27 | 33 | \n",
       "| 4  | 10 | 16 | 22 | 28 | 34 | \n",
       "| 5  | 11 | 17 | 23 | 29 | 35 | \n",
       "| 6  | 12 | 18 | 24 | 30 | 36 | \n",
       "\n",
       "\n"
      ],
      "text/plain": [
       "     [,1] [,2] [,3] [,4] [,5] [,6]\n",
       "[1,] 1     7   13   19   25   31  \n",
       "[2,] 2     8   14   20   26   32  \n",
       "[3,] 3     9   15   21   27   33  \n",
       "[4,] 4    10   16   22   28   34  \n",
       "[5,] 5    11   17   23   29   35  \n",
       "[6,] 6    12   18   24   30   36  "
      ]
     },
     "metadata": {},
     "output_type": "display_data"
    },
    {
     "data": {
      "text/html": [
       "36"
      ],
      "text/latex": [
       "36"
      ],
      "text/markdown": [
       "36"
      ],
      "text/plain": [
       "[1] 36"
      ]
     },
     "metadata": {},
     "output_type": "display_data"
    },
    {
     "data": {
      "text/html": [
       "<ol class=list-inline>\n",
       "\t<li>6</li>\n",
       "\t<li>12</li>\n",
       "\t<li>18</li>\n",
       "\t<li>24</li>\n",
       "\t<li>30</li>\n",
       "\t<li>36</li>\n",
       "</ol>\n"
      ],
      "text/latex": [
       "\\begin{enumerate*}\n",
       "\\item 6\n",
       "\\item 12\n",
       "\\item 18\n",
       "\\item 24\n",
       "\\item 30\n",
       "\\item 36\n",
       "\\end{enumerate*}\n"
      ],
      "text/markdown": [
       "1. 6\n",
       "2. 12\n",
       "3. 18\n",
       "4. 24\n",
       "5. 30\n",
       "6. 36\n",
       "\n",
       "\n"
      ],
      "text/plain": [
       "[1]  6 12 18 24 30 36"
      ]
     },
     "metadata": {},
     "output_type": "display_data"
    },
    {
     "data": {
      "text/html": [
       "<ol class=list-inline>\n",
       "\t<li>31</li>\n",
       "\t<li>32</li>\n",
       "\t<li>33</li>\n",
       "\t<li>34</li>\n",
       "\t<li>35</li>\n",
       "\t<li>36</li>\n",
       "</ol>\n"
      ],
      "text/latex": [
       "\\begin{enumerate*}\n",
       "\\item 31\n",
       "\\item 32\n",
       "\\item 33\n",
       "\\item 34\n",
       "\\item 35\n",
       "\\item 36\n",
       "\\end{enumerate*}\n"
      ],
      "text/markdown": [
       "1. 31\n",
       "2. 32\n",
       "3. 33\n",
       "4. 34\n",
       "5. 35\n",
       "6. 36\n",
       "\n",
       "\n"
      ],
      "text/plain": [
       "[1] 31 32 33 34 35 36"
      ]
     },
     "metadata": {},
     "output_type": "display_data"
    },
    {
     "data": {
      "text/html": [
       "<table>\n",
       "<tbody>\n",
       "\t<tr><td>1</td><td>1</td></tr>\n",
       "\t<tr><td>2</td><td>2</td></tr>\n",
       "\t<tr><td>3</td><td>3</td></tr>\n",
       "\t<tr><td>4</td><td>4</td></tr>\n",
       "\t<tr><td>5</td><td>5</td></tr>\n",
       "\t<tr><td>6</td><td>6</td></tr>\n",
       "</tbody>\n",
       "</table>\n"
      ],
      "text/latex": [
       "\\begin{tabular}{ll}\n",
       "\t 1 & 1\\\\\n",
       "\t 2 & 2\\\\\n",
       "\t 3 & 3\\\\\n",
       "\t 4 & 4\\\\\n",
       "\t 5 & 5\\\\\n",
       "\t 6 & 6\\\\\n",
       "\\end{tabular}\n"
      ],
      "text/markdown": [
       "\n",
       "| 1 | 1 | \n",
       "| 2 | 2 | \n",
       "| 3 | 3 | \n",
       "| 4 | 4 | \n",
       "| 5 | 5 | \n",
       "| 6 | 6 | \n",
       "\n",
       "\n"
      ],
      "text/plain": [
       "     [,1] [,2]\n",
       "[1,] 1    1   \n",
       "[2,] 2    2   \n",
       "[3,] 3    3   \n",
       "[4,] 4    4   \n",
       "[5,] 5    5   \n",
       "[6,] 6    6   "
      ]
     },
     "metadata": {},
     "output_type": "display_data"
    }
   ],
   "source": [
    "x = matrix(1:36,nrow = 6,ncol = 6);x\n",
    "x[6,6]\n",
    "x[6,] # fila 6\n",
    "x[,6] # columna 6\n",
    "\n",
    "# Observar:\n",
    "\n",
    "i <- matrix(c(1,1,2,2,3,3,4,4,5,5,6,6),6,2,byrow = T);i"
   ]
  }
 ],
 "metadata": {
  "kernelspec": {
   "display_name": "R",
   "language": "R",
   "name": "ir"
  },
  "language_info": {
   "codemirror_mode": "r",
   "file_extension": ".r",
   "mimetype": "text/x-r-source",
   "name": "R",
   "pygments_lexer": "r",
   "version": "3.4.2"
  }
 },
 "nbformat": 4,
 "nbformat_minor": 2
}
