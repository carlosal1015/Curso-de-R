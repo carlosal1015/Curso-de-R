{
 "cells": [
  {
   "cell_type": "markdown",
   "metadata": {},
   "source": [
    "# Segunda clase (11/02/2018)\n",
    "\n",
    "## Operadores relacionales"
   ]
  },
  {
   "cell_type": "code",
   "execution_count": 1,
   "metadata": {},
   "outputs": [
    {
     "data": {
      "text/html": [
       "5"
      ],
      "text/latex": [
       "5"
      ],
      "text/markdown": [
       "5"
      ],
      "text/plain": [
       "[1] 5"
      ]
     },
     "metadata": {},
     "output_type": "display_data"
    },
    {
     "data": {
      "text/html": [
       "-1"
      ],
      "text/latex": [
       "-1"
      ],
      "text/markdown": [
       "-1"
      ],
      "text/plain": [
       "[1] -1"
      ]
     },
     "metadata": {},
     "output_type": "display_data"
    },
    {
     "data": {
      "text/html": [
       "6"
      ],
      "text/latex": [
       "6"
      ],
      "text/markdown": [
       "6"
      ],
      "text/plain": [
       "[1] 6"
      ]
     },
     "metadata": {},
     "output_type": "display_data"
    },
    {
     "data": {
      "text/html": [
       "0.666666666666667"
      ],
      "text/latex": [
       "0.666666666666667"
      ],
      "text/markdown": [
       "0.666666666666667"
      ],
      "text/plain": [
       "[1] 0.6666667"
      ]
     },
     "metadata": {},
     "output_type": "display_data"
    }
   ],
   "source": [
    "x <- 2\n",
    "y <- 3\n",
    "\n",
    "x + y    # Suma de x e y.\n",
    "x - y    # Diferencia de x e y.\n",
    "x * y    # Multiplicación de x e y.\n",
    "x / y    # División de x e y.\n",
    "x^y      # Alt + 94\n",
    "x%%y     # Módulo o residuo. Son operaciones binarias.\n",
    "x%/%y    # División de enteros. Son operaciones binarias.\n",
    "\n",
    "# Los operadores binarios no lleva paréntesis.\n",
    "\n",
    "#f(x,y,z) = # Hay dos maneras de declarar funciones en R.\n",
    "# Comparaciómn matemática en R.\n",
    "x; y # Se usa el punto y coma ';' para realizar dos acciones o más en una misma línea.\n",
    "x < y\n",
    "y > x\n",
    "x <= y\n",
    "y <= x\n",
    "x == y\n",
    "x != y\n",
    "! x\n",
    "x & y\n",
    "x && y\n",
    "x | y\n",
    "x || y\n",
    "xor(x,y)"
   ]
  },
  {
   "cell_type": "markdown",
   "metadata": {},
   "source": [
    "## ¿Qué es un operador binario?\n",
    "\n"
   ]
  },
  {
   "cell_type": "code",
   "execution_count": 5,
   "metadata": {},
   "outputs": [
    {
     "data": {
      "text/html": [
       "<table>\n",
       "<tbody>\n",
       "\t<tr><td>1 </td><td> 7</td><td>13</td><td>19</td><td>25</td><td>31</td></tr>\n",
       "\t<tr><td>2 </td><td> 8</td><td>14</td><td>20</td><td>26</td><td>32</td></tr>\n",
       "\t<tr><td>3 </td><td> 9</td><td>15</td><td>21</td><td>27</td><td>33</td></tr>\n",
       "\t<tr><td>4 </td><td>10</td><td>16</td><td>22</td><td>28</td><td>34</td></tr>\n",
       "\t<tr><td>5 </td><td>11</td><td>17</td><td>23</td><td>29</td><td>35</td></tr>\n",
       "\t<tr><td>6 </td><td>12</td><td>18</td><td>24</td><td>30</td><td>36</td></tr>\n",
       "</tbody>\n",
       "</table>\n"
      ],
      "text/latex": [
       "\\begin{tabular}{llllll}\n",
       "\t 1  &  7 & 13 & 19 & 25 & 31\\\\\n",
       "\t 2  &  8 & 14 & 20 & 26 & 32\\\\\n",
       "\t 3  &  9 & 15 & 21 & 27 & 33\\\\\n",
       "\t 4  & 10 & 16 & 22 & 28 & 34\\\\\n",
       "\t 5  & 11 & 17 & 23 & 29 & 35\\\\\n",
       "\t 6  & 12 & 18 & 24 & 30 & 36\\\\\n",
       "\\end{tabular}\n"
      ],
      "text/markdown": [
       "\n",
       "| 1  |  7 | 13 | 19 | 25 | 31 | \n",
       "| 2  |  8 | 14 | 20 | 26 | 32 | \n",
       "| 3  |  9 | 15 | 21 | 27 | 33 | \n",
       "| 4  | 10 | 16 | 22 | 28 | 34 | \n",
       "| 5  | 11 | 17 | 23 | 29 | 35 | \n",
       "| 6  | 12 | 18 | 24 | 30 | 36 | \n",
       "\n",
       "\n"
      ],
      "text/plain": [
       "     [,1] [,2] [,3] [,4] [,5] [,6]\n",
       "[1,] 1     7   13   19   25   31  \n",
       "[2,] 2     8   14   20   26   32  \n",
       "[3,] 3     9   15   21   27   33  \n",
       "[4,] 4    10   16   22   28   34  \n",
       "[5,] 5    11   17   23   29   35  \n",
       "[6,] 6    12   18   24   30   36  "
      ]
     },
     "metadata": {},
     "output_type": "display_data"
    },
    {
     "data": {
      "text/html": [
       "36"
      ],
      "text/latex": [
       "36"
      ],
      "text/markdown": [
       "36"
      ],
      "text/plain": [
       "[1] 36"
      ]
     },
     "metadata": {},
     "output_type": "display_data"
    },
    {
     "data": {
      "text/html": [
       "<ol class=list-inline>\n",
       "\t<li>6</li>\n",
       "\t<li>12</li>\n",
       "\t<li>18</li>\n",
       "\t<li>24</li>\n",
       "\t<li>30</li>\n",
       "\t<li>36</li>\n",
       "</ol>\n"
      ],
      "text/latex": [
       "\\begin{enumerate*}\n",
       "\\item 6\n",
       "\\item 12\n",
       "\\item 18\n",
       "\\item 24\n",
       "\\item 30\n",
       "\\item 36\n",
       "\\end{enumerate*}\n"
      ],
      "text/markdown": [
       "1. 6\n",
       "2. 12\n",
       "3. 18\n",
       "4. 24\n",
       "5. 30\n",
       "6. 36\n",
       "\n",
       "\n"
      ],
      "text/plain": [
       "[1]  6 12 18 24 30 36"
      ]
     },
     "metadata": {},
     "output_type": "display_data"
    },
    {
     "data": {
      "text/html": [
       "<ol class=list-inline>\n",
       "\t<li>31</li>\n",
       "\t<li>32</li>\n",
       "\t<li>33</li>\n",
       "\t<li>34</li>\n",
       "\t<li>35</li>\n",
       "\t<li>36</li>\n",
       "</ol>\n"
      ],
      "text/latex": [
       "\\begin{enumerate*}\n",
       "\\item 31\n",
       "\\item 32\n",
       "\\item 33\n",
       "\\item 34\n",
       "\\item 35\n",
       "\\item 36\n",
       "\\end{enumerate*}\n"
      ],
      "text/markdown": [
       "1. 31\n",
       "2. 32\n",
       "3. 33\n",
       "4. 34\n",
       "5. 35\n",
       "6. 36\n",
       "\n",
       "\n"
      ],
      "text/plain": [
       "[1] 31 32 33 34 35 36"
      ]
     },
     "metadata": {},
     "output_type": "display_data"
    },
    {
     "data": {
      "text/html": [
       "<table>\n",
       "<tbody>\n",
       "\t<tr><td>1</td><td>1</td></tr>\n",
       "\t<tr><td>2</td><td>2</td></tr>\n",
       "\t<tr><td>3</td><td>3</td></tr>\n",
       "\t<tr><td>4</td><td>4</td></tr>\n",
       "\t<tr><td>5</td><td>5</td></tr>\n",
       "\t<tr><td>6</td><td>6</td></tr>\n",
       "</tbody>\n",
       "</table>\n"
      ],
      "text/latex": [
       "\\begin{tabular}{ll}\n",
       "\t 1 & 1\\\\\n",
       "\t 2 & 2\\\\\n",
       "\t 3 & 3\\\\\n",
       "\t 4 & 4\\\\\n",
       "\t 5 & 5\\\\\n",
       "\t 6 & 6\\\\\n",
       "\\end{tabular}\n"
      ],
      "text/markdown": [
       "\n",
       "| 1 | 1 | \n",
       "| 2 | 2 | \n",
       "| 3 | 3 | \n",
       "| 4 | 4 | \n",
       "| 5 | 5 | \n",
       "| 6 | 6 | \n",
       "\n",
       "\n"
      ],
      "text/plain": [
       "     [,1] [,2]\n",
       "[1,] 1    1   \n",
       "[2,] 2    2   \n",
       "[3,] 3    3   \n",
       "[4,] 4    4   \n",
       "[5,] 5    5   \n",
       "[6,] 6    6   "
      ]
     },
     "metadata": {},
     "output_type": "display_data"
    },
    {
     "data": {
      "text/html": [
       "<ol class=list-inline>\n",
       "\t<li>1</li>\n",
       "\t<li>8</li>\n",
       "\t<li>15</li>\n",
       "\t<li>22</li>\n",
       "\t<li>29</li>\n",
       "\t<li>36</li>\n",
       "</ol>\n"
      ],
      "text/latex": [
       "\\begin{enumerate*}\n",
       "\\item 1\n",
       "\\item 8\n",
       "\\item 15\n",
       "\\item 22\n",
       "\\item 29\n",
       "\\item 36\n",
       "\\end{enumerate*}\n"
      ],
      "text/markdown": [
       "1. 1\n",
       "2. 8\n",
       "3. 15\n",
       "4. 22\n",
       "5. 29\n",
       "6. 36\n",
       "\n",
       "\n"
      ],
      "text/plain": [
       "[1]  1  8 15 22 29 36"
      ]
     },
     "metadata": {},
     "output_type": "display_data"
    },
    {
     "data": {
      "text/html": [
       "<table>\n",
       "<tbody>\n",
       "\t<tr><td>1</td><td>1</td></tr>\n",
       "\t<tr><td>2</td><td>2</td></tr>\n",
       "\t<tr><td>3</td><td>3</td></tr>\n",
       "\t<tr><td>4</td><td>4</td></tr>\n",
       "\t<tr><td>5</td><td>5</td></tr>\n",
       "\t<tr><td>6</td><td>6</td></tr>\n",
       "</tbody>\n",
       "</table>\n"
      ],
      "text/latex": [
       "\\begin{tabular}{ll}\n",
       "\t 1 & 1\\\\\n",
       "\t 2 & 2\\\\\n",
       "\t 3 & 3\\\\\n",
       "\t 4 & 4\\\\\n",
       "\t 5 & 5\\\\\n",
       "\t 6 & 6\\\\\n",
       "\\end{tabular}\n"
      ],
      "text/markdown": [
       "\n",
       "| 1 | 1 | \n",
       "| 2 | 2 | \n",
       "| 3 | 3 | \n",
       "| 4 | 4 | \n",
       "| 5 | 5 | \n",
       "| 6 | 6 | \n",
       "\n",
       "\n"
      ],
      "text/plain": [
       "     [,1] [,2]\n",
       "[1,] 1    1   \n",
       "[2,] 2    2   \n",
       "[3,] 3    3   \n",
       "[4,] 4    4   \n",
       "[5,] 5    5   \n",
       "[6,] 6    6   "
      ]
     },
     "metadata": {},
     "output_type": "display_data"
    },
    {
     "data": {
      "text/html": [
       "<table>\n",
       "<tbody>\n",
       "\t<tr><td>1</td><td>6</td></tr>\n",
       "\t<tr><td>2</td><td>5</td></tr>\n",
       "\t<tr><td>3</td><td>4</td></tr>\n",
       "\t<tr><td>4</td><td>3</td></tr>\n",
       "\t<tr><td>5</td><td>2</td></tr>\n",
       "\t<tr><td>6</td><td>1</td></tr>\n",
       "</tbody>\n",
       "</table>\n"
      ],
      "text/latex": [
       "\\begin{tabular}{ll}\n",
       "\t 1 & 6\\\\\n",
       "\t 2 & 5\\\\\n",
       "\t 3 & 4\\\\\n",
       "\t 4 & 3\\\\\n",
       "\t 5 & 2\\\\\n",
       "\t 6 & 1\\\\\n",
       "\\end{tabular}\n"
      ],
      "text/markdown": [
       "\n",
       "| 1 | 6 | \n",
       "| 2 | 5 | \n",
       "| 3 | 4 | \n",
       "| 4 | 3 | \n",
       "| 5 | 2 | \n",
       "| 6 | 1 | \n",
       "\n",
       "\n"
      ],
      "text/plain": [
       "     [,1] [,2]\n",
       "[1,] 1    6   \n",
       "[2,] 2    5   \n",
       "[3,] 3    4   \n",
       "[4,] 4    3   \n",
       "[5,] 5    2   \n",
       "[6,] 6    1   "
      ]
     },
     "metadata": {},
     "output_type": "display_data"
    },
    {
     "data": {
      "text/html": [
       "<ol class=list-inline>\n",
       "\t<li>31</li>\n",
       "\t<li>26</li>\n",
       "\t<li>21</li>\n",
       "\t<li>16</li>\n",
       "\t<li>11</li>\n",
       "\t<li>6</li>\n",
       "</ol>\n"
      ],
      "text/latex": [
       "\\begin{enumerate*}\n",
       "\\item 31\n",
       "\\item 26\n",
       "\\item 21\n",
       "\\item 16\n",
       "\\item 11\n",
       "\\item 6\n",
       "\\end{enumerate*}\n"
      ],
      "text/markdown": [
       "1. 31\n",
       "2. 26\n",
       "3. 21\n",
       "4. 16\n",
       "5. 11\n",
       "6. 6\n",
       "\n",
       "\n"
      ],
      "text/plain": [
       "[1] 31 26 21 16 11  6"
      ]
     },
     "metadata": {},
     "output_type": "display_data"
    }
   ],
   "source": [
    "x = matrix(1:36, nrow = 6, ncol = 6); x\n",
    "x[6,6] # Entrada seis y seis. Para digitar los corchetes prima `Alt + 91` y `Alt + 93`.\n",
    "x[6,]  # Fila seis.\n",
    "x[,6]  # Columna seis. \n",
    "\n",
    "# Observe que:\n",
    "\n",
    "i <- matrix(c(1,1,2,2,3,3,4,4,5,5,6,6),6,2,byrow = T);i # No puedo usar 7, 7.\n",
    "x[i] # He usado una matriz para llamar a otra matriz, es más preciso y complejo.\n",
    "i\n",
    "# Vamos a ver la indexación, llamando desde una matriz.\n",
    "\n",
    "# i es una matriz y x es también es una matriz.\n",
    "\n",
    "# ¿Qué es un cubo de datos en listas?\n",
    "\n",
    "# byrow me indica que la carga sea por filas y el T nos indica que sea verdadero la carga por filas.\n",
    "j <- matrix(c(1,6,2,5,3,4,4,3,5,2,6,1),6,2,byrow = T);j\n",
    "x[j]"
   ]
  },
  {
   "cell_type": "code",
   "execution_count": 3,
   "metadata": {},
   "outputs": [
    {
     "data": {
      "text/html": [
       "'logical'"
      ],
      "text/latex": [
       "'logical'"
      ],
      "text/markdown": [
       "'logical'"
      ],
      "text/plain": [
       "[1] \"logical\""
      ]
     },
     "metadata": {},
     "output_type": "display_data"
    },
    {
     "data": {
      "text/html": [
       "'logical'"
      ],
      "text/latex": [
       "'logical'"
      ],
      "text/markdown": [
       "'logical'"
      ],
      "text/plain": [
       "[1] \"logical\""
      ]
     },
     "metadata": {},
     "output_type": "display_data"
    },
    {
     "data": {
      "text/html": [
       "FALSE"
      ],
      "text/latex": [
       "FALSE"
      ],
      "text/markdown": [
       "FALSE"
      ],
      "text/plain": [
       "[1] FALSE"
      ]
     },
     "metadata": {},
     "output_type": "display_data"
    },
    {
     "data": {
      "text/html": [
       "<ol class=list-inline>\n",
       "\t<li>TRUE</li>\n",
       "\t<li>FALSE</li>\n",
       "\t<li>FALSE</li>\n",
       "\t<li>FALSE</li>\n",
       "</ol>\n"
      ],
      "text/latex": [
       "\\begin{enumerate*}\n",
       "\\item TRUE\n",
       "\\item FALSE\n",
       "\\item FALSE\n",
       "\\item FALSE\n",
       "\\end{enumerate*}\n"
      ],
      "text/markdown": [
       "1. TRUE\n",
       "2. FALSE\n",
       "3. FALSE\n",
       "4. FALSE\n",
       "\n",
       "\n"
      ],
      "text/plain": [
       "[1]  TRUE FALSE FALSE FALSE"
      ]
     },
     "metadata": {},
     "output_type": "display_data"
    },
    {
     "data": {
      "text/html": [
       "<pre class=language-r><code>function (x, y) \n",
       "{\n",
       "<span style=white-space:pre-wrap>    (x | y) &amp; !(x &amp; y)</span>\n",
       "}</code></pre>"
      ],
      "text/latex": [
       "\\begin{minted}{r}\n",
       "function (x, y) \n",
       "\\{\n",
       "    (x \\textbar{} y) \\& !(x \\& y)\n",
       "\\}\n",
       "\\end{minted}"
      ],
      "text/markdown": [
       "```r\n",
       "function (x, y) \n",
       "{\n",
       "    (x | y) & !(x & y)\n",
       "}\n",
       "```"
      ],
      "text/plain": [
       "function (x, y) \n",
       "{\n",
       "    (x | y) & !(x & y)\n",
       "}\n",
       "<bytecode: 0x5604d4d749c8>\n",
       "<environment: namespace:base>"
      ]
     },
     "metadata": {},
     "output_type": "display_data"
    }
   ],
   "source": [
    "x <- TRUE\n",
    "y <- FALSE\n",
    "mode(x); mode(y)\n",
    "!x\n",
    "x<-c(T,T,F,F)\n",
    "y<-c(T,F,T,F)\n",
    "x&y\n",
    "xor # Muestra el código de la función `xor`. Con el teclado se seleecciona y oprime 'F1'."
   ]
  },
  {
   "cell_type": "code",
   "execution_count": null,
   "metadata": {},
   "outputs": [],
   "source": [
    "x <- c(1,2,3,4,5)\n",
    "\n",
    "(x>0) & (x<1)    # Entra un conjunto de respuestas.\n",
    "\n",
    "(x>0) && (x<3)   # Entrega sola una respuesta.\n",
    "\n",
    "y <- 2\n",
    "\n",
    "(y>0) & (y<3)    # Entra un conjunto de respuestas.\n",
    "\n",
    "(y>0) && (y<3)   # Entrega sola una respuesta.\n",
    "\n",
    "z <- 5\n",
    "\n",
    "(y>0) & (y<3)    # Entra un conjunto de respuestas.\n",
    "\n",
    "(y>0) && (y<3)   # Entrega sola una respuesta.\n",
    "                 # Entrega la primera respuesta.\n",
    "\n",
    "x <- c(5,4,3,2,1)\n",
    "(x>0) && (x<3)\n",
    "                 #Mide la integridad de todo el grupo."
   ]
  },
  {
   "cell_type": "code",
   "execution_count": 6,
   "metadata": {},
   "outputs": [
    {
     "data": {
      "text/html": [
       "<ol class=list-inline>\n",
       "\t<li>TRUE</li>\n",
       "\t<li>TRUE</li>\n",
       "\t<li>TRUE</li>\n",
       "\t<li>TRUE</li>\n",
       "\t<li>TRUE</li>\n",
       "</ol>\n"
      ],
      "text/latex": [
       "\\begin{enumerate*}\n",
       "\\item TRUE\n",
       "\\item TRUE\n",
       "\\item TRUE\n",
       "\\item TRUE\n",
       "\\item TRUE\n",
       "\\end{enumerate*}\n"
      ],
      "text/markdown": [
       "1. TRUE\n",
       "2. TRUE\n",
       "3. TRUE\n",
       "4. TRUE\n",
       "5. TRUE\n",
       "\n",
       "\n"
      ],
      "text/plain": [
       "[1] TRUE TRUE TRUE TRUE TRUE"
      ]
     },
     "metadata": {},
     "output_type": "display_data"
    },
    {
     "data": {
      "text/html": [
       "TRUE"
      ],
      "text/latex": [
       "TRUE"
      ],
      "text/markdown": [
       "TRUE"
      ],
      "text/plain": [
       "[1] TRUE"
      ]
     },
     "metadata": {},
     "output_type": "display_data"
    }
   ],
   "source": [
    "x <- c(1,2,3,4,5)\n",
    "\n",
    "(x > 0) | (x < 3)\n",
    "\n",
    "(x > 0) || (x < 3)"
   ]
  },
  {
   "cell_type": "code",
   "execution_count": 7,
   "metadata": {},
   "outputs": [
    {
     "data": {
      "text/html": [
       "'logical'"
      ],
      "text/latex": [
       "'logical'"
      ],
      "text/markdown": [
       "'logical'"
      ],
      "text/plain": [
       "[1] \"logical\""
      ]
     },
     "metadata": {},
     "output_type": "display_data"
    },
    {
     "data": {
      "text/html": [
       "'logical'"
      ],
      "text/latex": [
       "'logical'"
      ],
      "text/markdown": [
       "'logical'"
      ],
      "text/plain": [
       "[1] \"logical\""
      ]
     },
     "metadata": {},
     "output_type": "display_data"
    },
    {
     "data": {
      "text/html": [
       "FALSE"
      ],
      "text/latex": [
       "FALSE"
      ],
      "text/markdown": [
       "FALSE"
      ],
      "text/plain": [
       "[1] FALSE"
      ]
     },
     "metadata": {},
     "output_type": "display_data"
    },
    {
     "data": {
      "text/html": [
       "<ol class=list-inline>\n",
       "\t<li>TRUE</li>\n",
       "\t<li>FALSE</li>\n",
       "\t<li>FALSE</li>\n",
       "\t<li>FALSE</li>\n",
       "</ol>\n"
      ],
      "text/latex": [
       "\\begin{enumerate*}\n",
       "\\item TRUE\n",
       "\\item FALSE\n",
       "\\item FALSE\n",
       "\\item FALSE\n",
       "\\end{enumerate*}\n"
      ],
      "text/markdown": [
       "1. TRUE\n",
       "2. FALSE\n",
       "3. FALSE\n",
       "4. FALSE\n",
       "\n",
       "\n"
      ],
      "text/plain": [
       "[1]  TRUE FALSE FALSE FALSE"
      ]
     },
     "metadata": {},
     "output_type": "display_data"
    }
   ],
   "source": [
    "x <- TRUE\n",
    "y <- FALSE\n",
    "mode(x); mode(y)\n",
    "\n",
    "!x\n",
    "x <- c(T,T,F,F)\n",
    "y <- c(T,F,T,F)\n",
    "x&y"
   ]
  },
  {
   "cell_type": "code",
   "execution_count": 8,
   "metadata": {},
   "outputs": [
    {
     "ename": "ERROR",
     "evalue": "Error in setwd(\"C:/Users/usuario.pc/Desktop/10022018\"): no es posible cambiar el directorio de trabajo\n",
     "output_type": "error",
     "traceback": [
      "Error in setwd(\"C:/Users/usuario.pc/Desktop/10022018\"): no es posible cambiar el directorio de trabajo\nTraceback:\n",
      "1. setwd(\"C:/Users/usuario.pc/Desktop/10022018\")"
     ]
    }
   ],
   "source": [
    "#Creando un libro y una hoja de excel sin excel\n",
    "setwd(\"C:/Users/usuario.pc/Desktop/10022018\")\n",
    "library(XLConnect)\n",
    "lwb <- loadWorkbook(\"creando.xlsx\",create = TRUE)\n",
    "createSheet(lwb,name = \"creandohoja\") \n",
    "saveWorkbook(lwb)\n",
    "\n",
    "# Escribiendo\n",
    "\n",
    "ID <- 1:20\n",
    "Alumno <- paste(\"cod\", 1:20, sep = \"_\")\n",
    "set.seed(100)\n",
    "# La semilla va antes del runif\n",
    "\n",
    "Notas <- runif(20, min=0, max=20) # 20 números aleatorios que varian desde el 0 hasta el 20\n",
    "Notas <-round(Notas,0) # Se redondea con cero decimales y sobre escribimos.\n",
    "bd <- data.frame(ID,Alumno,Notas); bd\n",
    "\n",
    "lwb <- loadWorkbook(\"bdescribir.xlsx\", create = TRUE)# Se prefiere no usar comillas, ni caracteres especiales acentos, utf8 no acepta tildes.\n",
    "createSheet(lwb,name=\"notascurso\")\n",
    "createName(lwb,name=\"notascurso\", formula= \"notascurso!$A$1\")\n",
    "writeNamedRegion(lwb,bd,name=\"notascurso\")\n",
    "saveWorkbook(lwb)\n",
    "# Todo lo que se puede hacer en Excel se puede hacer en R.\n",
    "#Un punto semilla, En R podemos dominar el punto inicial."
   ]
  },
  {
   "cell_type": "markdown",
   "metadata": {},
   "source": [
    "## Función  Set Working Directory `setwd()`\n"
   ]
  },
  {
   "cell_type": "code",
   "execution_count": 10,
   "metadata": {},
   "outputs": [],
   "source": [
    "help(setwd)"
   ]
  },
  {
   "cell_type": "markdown",
   "metadata": {},
   "source": [
    "Cuando usamos incorrectamente `&&`en lugar de `&` para este tipo de casos, R simplemente evalúa los primeros resultados de los vectores lógicos e ignora el resto. En general `&&` es pereferido por el control de flujo, es decir, el uso de los condicionales `if` o `while`."
   ]
  },
  {
   "cell_type": "code",
   "execution_count": 32,
   "metadata": {},
   "outputs": [
    {
     "data": {
      "text/html": [
       "<ol class=list-inline>\n",
       "\t<li>2</li>\n",
       "\t<li>2</li>\n",
       "\t<li>2</li>\n",
       "</ol>\n"
      ],
      "text/latex": [
       "\\begin{enumerate*}\n",
       "\\item 2\n",
       "\\item 2\n",
       "\\item 2\n",
       "\\end{enumerate*}\n"
      ],
      "text/markdown": [
       "1. 2\n",
       "2. 2\n",
       "3. 2\n",
       "\n",
       "\n"
      ],
      "text/plain": [
       "[1] 2 2 2"
      ]
     },
     "metadata": {},
     "output_type": "display_data"
    }
   ],
   "source": [
    "rm(list=ls()) # Borrar todas las variables, si se desea limpiar la variables antes de usar: remove('x'),\n",
    "x <- rbinom(100,5,0.80)\n",
    "x[(x>1)&(x<3)]"
   ]
  },
  {
   "cell_type": "markdown",
   "metadata": {},
   "source": [
    "### Aplicación\n",
    "\n",
    "¿Cuál sería el resultado de ejecutar las siguientes instrucciones?"
   ]
  },
  {
   "cell_type": "code",
   "execution_count": null,
   "metadata": {},
   "outputs": [],
   "source": [
    "x = c(1,3,5,7,9)      # Guarda en memoria.\n",
    "y = c(2,3,5,7,11,13)\n",
    "\n",
    "x + 1                 # Muestra un vector con cada elemento aumentado en 1.\n",
    "y * 2                 # Muestra otro vector con cada elemento multiplicado por 2.\n",
    "length(x); length(y)  # Muestra la cantidad de columnas del vector x. Análogamente con y.\n",
    "x + y                 # Muestra un vector con cada elemento la suma de los elemento de x e y.\n",
    "sum(x>5); sum(x[x>5]) # Primero obtiene como valor lógico y luego lo suma, es decir,\n",
    "                      #1+1=2. En el otro caso suma los valores 7 y 9 da 16.\n",
    "\n",
    "sum(x>5|x<3)          # \"|\" se lee o \"&\" se lee y.\n",
    "y[3]\n",
    "y[-3]\n",
    "y[x]\n",
    "y[y>=7]               # Con el operador 'as.numeric()'\n",
    "                      # Cuando es corchete, se llama a una matriz, es un arreglo numérico indexado, se le puede llamar a su posición."
   ]
  },
  {
   "cell_type": "code",
   "execution_count": 33,
   "metadata": {},
   "outputs": [
    {
     "data": {
      "text/html": [
       "<dl class=dl-horizontal>\n",
       "\t<dt>NULL</dt>\n",
       "\t\t<dd>1</dd>\n",
       "\t<dt>symbol</dt>\n",
       "\t\t<dd>9878</dd>\n",
       "\t<dt>pairlist</dt>\n",
       "\t\t<dd>233359</dd>\n",
       "\t<dt>closure</dt>\n",
       "\t\t<dd>4882</dd>\n",
       "\t<dt>environment</dt>\n",
       "\t\t<dd>1116</dd>\n",
       "\t<dt>promise</dt>\n",
       "\t\t<dd>6864</dd>\n",
       "\t<dt>language</dt>\n",
       "\t\t<dd>66438</dd>\n",
       "\t<dt>special</dt>\n",
       "\t\t<dd>45</dd>\n",
       "\t<dt>builtin</dt>\n",
       "\t\t<dd>671</dd>\n",
       "\t<dt>char</dt>\n",
       "\t\t<dd>11995</dd>\n",
       "\t<dt>logical</dt>\n",
       "\t\t<dd>9364</dd>\n",
       "\t<dt>integer</dt>\n",
       "\t\t<dd>43446</dd>\n",
       "\t<dt>double</dt>\n",
       "\t\t<dd>3189</dd>\n",
       "\t<dt>complex</dt>\n",
       "\t\t<dd>1</dd>\n",
       "\t<dt>character</dt>\n",
       "\t\t<dd>59406</dd>\n",
       "\t<dt>...</dt>\n",
       "\t\t<dd>5</dd>\n",
       "\t<dt>any</dt>\n",
       "\t\t<dd>0</dd>\n",
       "\t<dt>list</dt>\n",
       "\t\t<dd>21051</dd>\n",
       "\t<dt>expression</dt>\n",
       "\t\t<dd>2</dd>\n",
       "\t<dt>bytecode</dt>\n",
       "\t\t<dd>17127</dd>\n",
       "\t<dt>externalptr</dt>\n",
       "\t\t<dd>2161</dd>\n",
       "\t<dt>weakref</dt>\n",
       "\t\t<dd>570</dd>\n",
       "\t<dt>raw</dt>\n",
       "\t\t<dd>579</dd>\n",
       "\t<dt>S4</dt>\n",
       "\t\t<dd>1159</dd>\n",
       "</dl>\n"
      ],
      "text/latex": [
       "\\begin{description*}\n",
       "\\item[NULL] 1\n",
       "\\item[symbol] 9878\n",
       "\\item[pairlist] 233359\n",
       "\\item[closure] 4882\n",
       "\\item[environment] 1116\n",
       "\\item[promise] 6864\n",
       "\\item[language] 66438\n",
       "\\item[special] 45\n",
       "\\item[builtin] 671\n",
       "\\item[char] 11995\n",
       "\\item[logical] 9364\n",
       "\\item[integer] 43446\n",
       "\\item[double] 3189\n",
       "\\item[complex] 1\n",
       "\\item[character] 59406\n",
       "\\item[...] 5\n",
       "\\item[any] 0\n",
       "\\item[list] 21051\n",
       "\\item[expression] 2\n",
       "\\item[bytecode] 17127\n",
       "\\item[externalptr] 2161\n",
       "\\item[weakref] 570\n",
       "\\item[raw] 579\n",
       "\\item[S4] 1159\n",
       "\\end{description*}\n"
      ],
      "text/markdown": [
       "NULL\n",
       ":   1symbol\n",
       ":   9878pairlist\n",
       ":   233359closure\n",
       ":   4882environment\n",
       ":   1116promise\n",
       ":   6864language\n",
       ":   66438special\n",
       ":   45builtin\n",
       ":   671char\n",
       ":   11995logical\n",
       ":   9364integer\n",
       ":   43446double\n",
       ":   3189complex\n",
       ":   1character\n",
       ":   59406...\n",
       ":   5any\n",
       ":   0list\n",
       ":   21051expression\n",
       ":   2bytecode\n",
       ":   17127externalptr\n",
       ":   2161weakref\n",
       ":   570raw\n",
       ":   579S4\n",
       ":   1159\n",
       "\n"
      ],
      "text/plain": [
       "       NULL      symbol    pairlist     closure environment     promise \n",
       "          1        9878      233359        4882        1116        6864 \n",
       "   language     special     builtin        char     logical     integer \n",
       "      66438          45         671       11995        9364       43446 \n",
       "     double     complex   character         ...         any        list \n",
       "       3189           1       59406           5           0       21051 \n",
       " expression    bytecode externalptr     weakref         raw          S4 \n",
       "          2       17127        2161         570         579        1159 "
      ]
     },
     "metadata": {},
     "output_type": "display_data"
    }
   ],
   "source": [
    "memory.profile()"
   ]
  },
  {
   "cell_type": "code",
   "execution_count": 34,
   "metadata": {},
   "outputs": [
    {
     "data": {
      "text/html": [
       "<table>\n",
       "<thead><tr><th></th><th scope=col>used</th><th scope=col>(Mb)</th><th scope=col>gc trigger</th><th scope=col>(Mb)</th><th scope=col>max used</th><th scope=col>(Mb)</th></tr></thead>\n",
       "<tbody>\n",
       "\t<tr><th scope=row>Ncells</th><td>493407 </td><td>26.4   </td><td> 940480</td><td>50.3   </td><td> 750400</td><td>40.1   </td></tr>\n",
       "\t<tr><th scope=row>Vcells</th><td>941513 </td><td> 7.2   </td><td>1916981</td><td>14.7   </td><td>1191645</td><td> 9.1   </td></tr>\n",
       "</tbody>\n",
       "</table>\n"
      ],
      "text/latex": [
       "\\begin{tabular}{r|llllll}\n",
       "  & used & (Mb) & gc trigger & (Mb) & max used & (Mb)\\\\\n",
       "\\hline\n",
       "\tNcells & 493407  & 26.4    &  940480 & 50.3    &  750400 & 40.1   \\\\\n",
       "\tVcells & 941513  &  7.2    & 1916981 & 14.7    & 1191645 &  9.1   \\\\\n",
       "\\end{tabular}\n"
      ],
      "text/markdown": [
       "\n",
       "| <!--/--> | used | (Mb) | gc trigger | (Mb) | max used | (Mb) | \n",
       "|---|---|\n",
       "| Ncells | 493407  | 26.4    |  940480 | 50.3    |  750400 | 40.1    | \n",
       "| Vcells | 941513  |  7.2    | 1916981 | 14.7    | 1191645 |  9.1    | \n",
       "\n",
       "\n"
      ],
      "text/plain": [
       "       used   (Mb) gc trigger (Mb) max used (Mb)\n",
       "Ncells 493407 26.4  940480    50.3  750400  40.1\n",
       "Vcells 941513  7.2 1916981    14.7 1191645   9.1"
      ]
     },
     "metadata": {},
     "output_type": "display_data"
    }
   ],
   "source": [
    "gc()"
   ]
  },
  {
   "cell_type": "markdown",
   "metadata": {},
   "source": [
    "## Ejercicio de aplicación (Diapositiva de clase)\n",
    "\n",
    "<img style=\"float\" src=\"../images/aplication.png\" width=\"850\">"
   ]
  },
  {
   "cell_type": "code",
   "execution_count": 5,
   "metadata": {},
   "outputs": [
    {
     "data": {
      "text/html": [
       "<ol class=list-inline>\n",
       "\t<li>2</li>\n",
       "\t<li>4</li>\n",
       "\t<li>6</li>\n",
       "\t<li>8</li>\n",
       "\t<li>10</li>\n",
       "</ol>\n"
      ],
      "text/latex": [
       "\\begin{enumerate*}\n",
       "\\item 2\n",
       "\\item 4\n",
       "\\item 6\n",
       "\\item 8\n",
       "\\item 10\n",
       "\\end{enumerate*}\n"
      ],
      "text/markdown": [
       "1. 2\n",
       "2. 4\n",
       "3. 6\n",
       "4. 8\n",
       "5. 10\n",
       "\n",
       "\n"
      ],
      "text/plain": [
       "[1]  2  4  6  8 10"
      ]
     },
     "metadata": {},
     "output_type": "display_data"
    },
    {
     "data": {
      "text/html": [
       "<ol class=list-inline>\n",
       "\t<li>4</li>\n",
       "\t<li>6</li>\n",
       "\t<li>10</li>\n",
       "\t<li>14</li>\n",
       "\t<li>22</li>\n",
       "\t<li>26</li>\n",
       "</ol>\n"
      ],
      "text/latex": [
       "\\begin{enumerate*}\n",
       "\\item 4\n",
       "\\item 6\n",
       "\\item 10\n",
       "\\item 14\n",
       "\\item 22\n",
       "\\item 26\n",
       "\\end{enumerate*}\n"
      ],
      "text/markdown": [
       "1. 4\n",
       "2. 6\n",
       "3. 10\n",
       "4. 14\n",
       "5. 22\n",
       "6. 26\n",
       "\n",
       "\n"
      ],
      "text/plain": [
       "[1]  4  6 10 14 22 26"
      ]
     },
     "metadata": {},
     "output_type": "display_data"
    },
    {
     "data": {
      "text/html": [
       "5"
      ],
      "text/latex": [
       "5"
      ],
      "text/markdown": [
       "5"
      ],
      "text/plain": [
       "[1] 5"
      ]
     },
     "metadata": {},
     "output_type": "display_data"
    },
    {
     "data": {
      "text/html": [
       "6"
      ],
      "text/latex": [
       "6"
      ],
      "text/markdown": [
       "6"
      ],
      "text/plain": [
       "[1] 6"
      ]
     },
     "metadata": {},
     "output_type": "display_data"
    },
    {
     "name": "stderr",
     "output_type": "stream",
     "text": [
      "Warning message in x + y:\n",
      "“longitud de objeto mayor no es múltiplo de la longitud de uno menor”"
     ]
    },
    {
     "data": {
      "text/html": [
       "<ol class=list-inline>\n",
       "\t<li>3</li>\n",
       "\t<li>6</li>\n",
       "\t<li>10</li>\n",
       "\t<li>14</li>\n",
       "\t<li>20</li>\n",
       "\t<li>14</li>\n",
       "</ol>\n"
      ],
      "text/latex": [
       "\\begin{enumerate*}\n",
       "\\item 3\n",
       "\\item 6\n",
       "\\item 10\n",
       "\\item 14\n",
       "\\item 20\n",
       "\\item 14\n",
       "\\end{enumerate*}\n"
      ],
      "text/markdown": [
       "1. 3\n",
       "2. 6\n",
       "3. 10\n",
       "4. 14\n",
       "5. 20\n",
       "6. 14\n",
       "\n",
       "\n"
      ],
      "text/plain": [
       "[1]  3  6 10 14 20 14"
      ]
     },
     "metadata": {},
     "output_type": "display_data"
    },
    {
     "data": {
      "text/html": [
       "2"
      ],
      "text/latex": [
       "2"
      ],
      "text/markdown": [
       "2"
      ],
      "text/plain": [
       "[1] 2"
      ]
     },
     "metadata": {},
     "output_type": "display_data"
    },
    {
     "data": {
      "text/html": [
       "16"
      ],
      "text/latex": [
       "16"
      ],
      "text/markdown": [
       "16"
      ],
      "text/plain": [
       "[1] 16"
      ]
     },
     "metadata": {},
     "output_type": "display_data"
    },
    {
     "data": {
      "text/html": [
       "3"
      ],
      "text/latex": [
       "3"
      ],
      "text/markdown": [
       "3"
      ],
      "text/plain": [
       "[1] 3"
      ]
     },
     "metadata": {},
     "output_type": "display_data"
    },
    {
     "data": {
      "text/html": [
       "5"
      ],
      "text/latex": [
       "5"
      ],
      "text/markdown": [
       "5"
      ],
      "text/plain": [
       "[1] 5"
      ]
     },
     "metadata": {},
     "output_type": "display_data"
    },
    {
     "data": {
      "text/html": [
       "<ol class=list-inline>\n",
       "\t<li>2</li>\n",
       "\t<li>3</li>\n",
       "\t<li>7</li>\n",
       "\t<li>11</li>\n",
       "\t<li>13</li>\n",
       "</ol>\n"
      ],
      "text/latex": [
       "\\begin{enumerate*}\n",
       "\\item 2\n",
       "\\item 3\n",
       "\\item 7\n",
       "\\item 11\n",
       "\\item 13\n",
       "\\end{enumerate*}\n"
      ],
      "text/markdown": [
       "1. 2\n",
       "2. 3\n",
       "3. 7\n",
       "4. 11\n",
       "5. 13\n",
       "\n",
       "\n"
      ],
      "text/plain": [
       "[1]  2  3  7 11 13"
      ]
     },
     "metadata": {},
     "output_type": "display_data"
    },
    {
     "data": {
      "text/html": [
       "<ol class=list-inline>\n",
       "\t<li>2</li>\n",
       "\t<li>5</li>\n",
       "\t<li>11</li>\n",
       "\t<li>&lt;NA&gt;</li>\n",
       "\t<li>&lt;NA&gt;</li>\n",
       "</ol>\n"
      ],
      "text/latex": [
       "\\begin{enumerate*}\n",
       "\\item 2\n",
       "\\item 5\n",
       "\\item 11\n",
       "\\item <NA>\n",
       "\\item <NA>\n",
       "\\end{enumerate*}\n"
      ],
      "text/markdown": [
       "1. 2\n",
       "2. 5\n",
       "3. 11\n",
       "4. &lt;NA&gt;\n",
       "5. &lt;NA&gt;\n",
       "\n",
       "\n"
      ],
      "text/plain": [
       "[1]  2  5 11 NA NA"
      ]
     },
     "metadata": {},
     "output_type": "display_data"
    },
    {
     "data": {
      "text/html": [
       "<ol class=list-inline>\n",
       "\t<li>7</li>\n",
       "\t<li>11</li>\n",
       "\t<li>13</li>\n",
       "</ol>\n"
      ],
      "text/latex": [
       "\\begin{enumerate*}\n",
       "\\item 7\n",
       "\\item 11\n",
       "\\item 13\n",
       "\\end{enumerate*}\n"
      ],
      "text/markdown": [
       "1. 7\n",
       "2. 11\n",
       "3. 13\n",
       "\n",
       "\n"
      ],
      "text/plain": [
       "[1]  7 11 13"
      ]
     },
     "metadata": {},
     "output_type": "display_data"
    }
   ],
   "source": [
    "x = c(1,3,5,7,9)     # Vector x de 5 elementos. No se imprime en consola.\n",
    "y = c(2,3,5,7,11,13) # Vector y de 6 elementos. No se imprime en consola.\n",
    "x+1                  # Vector con coordenadas de x aumentadas en uno.\n",
    "y*2                  # Vector con coordenadas de y multiplicadas por dos.\n",
    "length(x)            # Muestra la cantidad de entradas de x.\n",
    "length(y)            # Muestra la cantidad de entradas de x\n",
    "x + y                # Operación no compatible. (Warning)\n",
    "# Prevalece la longitud de y, adapta el vector x con 6 componentes, repitiendo el término 6 de x con el primero de x y efectúa la operación.\n",
    "sum(x>5) # El arguemto de `sum` es 0 o 1, la suma es 2.\n",
    "sum(x[x>5]) # Suma las entradas de x mayores que cinco.\n",
    "sum(x>5 | x< 3)      # Suma 0 o 1 según la condición, la suma da 16.\n",
    "y[3]                 # Imprime la tercera componente de y.\n",
    "y[-3]                # Imprime el vector y, excluyendo la tercera componente.\n",
    "y[x]                 # Imprime las entradas de y que tengan los índices de las entradas de x.\n",
    "y[y>=7]              # Imprime un vector con todas las entradas mayores o iguales que siete."
   ]
  },
  {
   "cell_type": "markdown",
   "metadata": {},
   "source": [
    "## Otro ejercicio de aplicación"
   ]
  },
  {
   "cell_type": "code",
   "execution_count": 6,
   "metadata": {},
   "outputs": [
    {
     "data": {
      "text/html": [
       "<ol class=list-inline>\n",
       "\t<li>2</li>\n",
       "\t<li>2</li>\n",
       "\t<li>2</li>\n",
       "\t<li>2</li>\n",
       "\t<li>2</li>\n",
       "</ol>\n"
      ],
      "text/latex": [
       "\\begin{enumerate*}\n",
       "\\item 2\n",
       "\\item 2\n",
       "\\item 2\n",
       "\\item 2\n",
       "\\item 2\n",
       "\\end{enumerate*}\n"
      ],
      "text/markdown": [
       "1. 2\n",
       "2. 2\n",
       "3. 2\n",
       "4. 2\n",
       "5. 2\n",
       "\n",
       "\n"
      ],
      "text/plain": [
       "[1] 2 2 2 2 2"
      ]
     },
     "metadata": {},
     "output_type": "display_data"
    },
    {
     "data": {
      "text/html": [
       "'V y F = F'"
      ],
      "text/latex": [
       "'V y F = F'"
      ],
      "text/markdown": [
       "'V y F = F'"
      ],
      "text/plain": [
       "[1] \"V y F = F\""
      ]
     },
     "metadata": {},
     "output_type": "display_data"
    },
    {
     "data": {
      "text/html": [
       "'V o F = V'"
      ],
      "text/latex": [
       "'V o F = V'"
      ],
      "text/markdown": [
       "'V o F = V'"
      ],
      "text/plain": [
       "[1] \"V o F = V\""
      ]
     },
     "metadata": {},
     "output_type": "display_data"
    }
   ],
   "source": [
    "# Cuando usamos incorrectamente && en lugar de & para este tipo de casos, R \n",
    "# simplemente evalúa los primeros elementos de los vectores lógicos e ignora \n",
    "# el resto. En general && es preferido para el control de flujo, es decir, el \n",
    "# uso de los condicionales if o while. \n",
    "x <- rbinom(100,5,0.80)\n",
    "x[(x > 1) & (x < 3)]\n",
    "\n",
    "if (any(x == 1) && any(x == 6)){}else \"V y F = F\"\n",
    "if (any(x == 1) || any(x == 6)) \"V o F = V\"\n"
   ]
  }
 ],
 "metadata": {
  "kernelspec": {
   "display_name": "R",
   "language": "R",
   "name": "ir"
  },
  "language_info": {
   "codemirror_mode": "r",
   "file_extension": ".r",
   "mimetype": "text/x-r-source",
   "name": "R",
   "pygments_lexer": "r",
   "version": "3.3.3"
  }
 },
 "nbformat": 4,
 "nbformat_minor": 2
}
