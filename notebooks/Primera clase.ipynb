{
 "cells": [
  {
   "cell_type": "markdown",
   "metadata": {},
   "source": [
    "<div class=\"cite2c-biblio\"></div><div class=\"cite2c-biblio\"></div><div class=\"cite2c-biblio\"></div>\n",
    "\n",
    "# Un breve repaso de la historia del entorno de programación estadística R\n",
    "\n",
    "<img style=\"float: right;\" src=\"../images/slogo.png\" width=\"300\">\n",
    "\n",
    "## ¿Qué es R?\n",
    "\n",
    "La respuesta es bastante simple. Básicamente, **R** es un dialecto de **S**.\n",
    "\n",
    "## ¿Qué es S? \n",
    "\n",
    "**S** es un lenguaje que fue desarrollado por [John Chambers](https://statweb.stanford.edu/~jmc4/) en los [Laboratorios Bells](https://www.bell-labs.com/). Su desarrollo fue iniciado en 1976 como un entorno del análisis estadístico para uso interno. Inicialmente se implementó como una serie de librerías en [FORTRAN](http://www.fortran.com/) para implementar rutinas que eran tediosas de realizar una y otra vez. Por esta razón había librerías de FORTRAN para repetir estas rutinas estadísticas. \n",
    "\n",
    "<img style=\"float: right;\" src=\"../images/chambers.jpg\" width=\"300\">\n",
    "\n",
    "Las primeras versiones del lenguaje no contenían funciones para modelado estadístico. Eso no fue incluído sino hasta aproximadamente la tercera versión del lenguaje. Así, en 1988 el sistema fue reescrito en C para mejorar la portabilidad entre sistemas y fue cuando comenzó a parecerse al sistema que tenemos hoy en día. Eso fue en la tercera versión. Hubo un libro original llamado _Modelos estadísticos en S_ escrito por John Chambers y Trevor Hastie, a veces conocido como el [_libro blanco_](https://link.springer.com/chapter/10.1007/978-3-642-50096-1_48), en el que se documenta toda la funcionalidad de análisis estadístico que se incluyó en esa versión del lenguaje. La versión cuatro del lenguaje S se lanzó en 1998. Y esa es más o menos la versión que usamos hoy en día. \n",
    "\n",
    "El libro _Programming with Data_ fue escrito por John Chambers, y en ocasiones es llamado el [_libro verde_](https://www.springer.com/la/book/9780387985039). Ese libro documenta la cuarta versión del lenguaje S. De esta manera, R es una implementación del lenguaje S. \n",
    "\n",
    "Un poco más de historia, en 1993 los Laboratorios Bell dieron a una corporación llamada StatSci - la que más adelante se convirtió en Insightful Corporation - una licencia exclusiva para desarrollar y vender el lenguaje S. En el 2004, Insightful compró todos los derechos del lenguaje S a Lucent - Bell Labs se había convertido en Lucent Technologies - por 2 millones de dólares y y se convirtió en su dueño actual. En el 2006, Alcatel compró Lucent Technologies, y ahora se llama Alcatel-Lucent. \n",
    "\n",
    "Insightful desarrolló un producto que era una implementación del lenguaje S, bajo el nombre **S-PLUS**. Y le incorporaron una serie de características avanzadas, como por ejemplo una interfaz gráfica y toda clase de herramientas útiles. De ahí es de donde viene el _PLUS_ de S-PLUS. En el 2008, Insightful Corporation fue adquirida por una compañía llamada TIBCO por 25 millones de dólares. TIBCO aún desarrolla S-PLUS, aunque en forma de una variedad de productos para análisis enfocados a diferentes tipos de negocio. Y así sigue hasta el día de hoy. Como puedes ver, la historia del lenguaje es un poco tortuosa debido a las múltiples adquisiciones corporativas, pero aún así sobrevive hasta el día de hoy. Los fundamentos básicos del lenguaje S realmente no han cambiado desde 1998, y el lenguaje que hubo en esa época se parece mucho a lo que usamos hoy, al menos superficialmente. Además, vale la pena destacar que en 1998 el lenguaje S ganó el [premio de sistemas de software](https://awards.acm.org/award_winners/chambers_6640862) de la [Association for Computing Machinery (ACM)](https://www.acm.org/), el cual es un honor muy prestigioso.\n",
    "\n",
    "En un documento llamado _Las etapas y la evolución de S_, John Chambers, el desarrollador y creador original del lenguaje S, explicó sus principales consideraciones acerca del diseño del lenguaje S. Es importante ver que, básicamente, lo que se pretendía era crear un entorno interactivo donde el usuario no pensara en sí mismo en términos de estar programando. Sostenía que, a medida que las necesidades fueron haciéndose más claras y el grado de sofisticación empezara a aumentar, los usuarios serían capaces de involucrarse gradualmente en la programación en el momento en el que los aspectos del lenguaje y el sistema se hiciesen más importantes. Así que la idea básica detrás del lenguaje S y el posterior lenguaje R es que la gente entrase en el lenguaje a través de un entorno interactivo donde se pudiese utilizar el lenguaje sin necesidad de tener conocimientos de programación o conocer aspectos detallados del lenguaje. Así se podría usar el entorno para estudiar los datos y realizar análisis básicos. Y cuando sus necesidades superasen la capacidad del entorno, pudiesen involucrarse en la programación del mismo. Podrían involucrase en aprender los aspectos del lenguaje y en aprender a desarrollar sus propias herramientas, de forma que _el lenguaje promoviera la transición de usuario a programador_. Y esta es básicamente la filosofía del lenguaje S.\n",
    "\n",
    "Ya he hablado suficiente acerca de S. Ahora volvamos a R. ¿De qué se trata R? Básicamente, R es un desarrollo relativamente reciente. Fue creado en 1991 en Nueva Zelanda por dos caballeros llamados **Ross Ihaka** y **Robert Gentleman**.\n",
    "\n",
    "<img style=\"float: left;\" src=\"../images/ihaka.png\" width=\"400\">\n",
    "\n",
    "En un artículo científico publicado en 1996 en el _Journal of Computation and Graphical Statistics_, estos dos caballeros contaron su experiencia durante el desarrollo de R. En 1993 se hizo público el primer anuncio de R. En 1995, Martin Michler convenció a Ross y a Robert de poner R bajo una Licencia GNU-GPL. Ese hecho convirtió R  en lo que llamamos _software libre_. En 1996 se crearon un par de listas de correo, una llamada R-help, que es una lista general para preguntas y otra llamada R-devel, que es una lista de correo más específica para gente que participa en trabajos de desarrollo para R.\n",
    "\n",
    "<img style=\"float: right;\" src=\"../images/gentleman.jpg\" width=\"300\">\n",
    "\n",
    "En 1997 se formó el grupo llamado _R core group_, que contenía a mucha de la misma gente que desarrolló S-PLUS. El _core group_ controla el [código fuente](wikipedia) de R. Este código de R solo puede ser modificado por miembros del _R core group_. Sin embargo, algunas personas que forman parte del _core group_ han sugerido cambios en R que han sido posteriormente aceptados por el _core group_.\n",
    "\n",
    "Bueno, algunas características de R: La primera, que era importante antes, cuando la gente aún usaba S-PLUS, es que la sintaxis es muy similar a S, lo que facilita la migración de los usuarios de S-PLUS. Esta característica no es muy importante hoy en día, dado que la mayoría de la gente va a R directamente.\n",
    "\n",
    "La semántica es superficialmente similar a S, en el sentido de que parece que es S, pero en realidad hay bastantes diferencias. Uno de los principales beneficios de R es que funciona en cualquier plataforma o sistema operativo estándar: macOS, Windows, GNU/Linux, etc. Incluso lo puedes correr en un [PlayStation 3](https://unix.stackexchange.com/questions/59186/how-to-run-linux-on-ps3).\n",
    "\n",
    "El núcleo del software de R es en realidad muy ligero. Su funcionalidad se divide en paquetes modulares, de forma que no es necesario descargar e instalar un software de gran tamaño. Es posible descargar tan solo un pequeño núcleo fundamental, con algunas funciones, y luego añadir otras cosas según vayan siendo necesarias. \n",
    "\n",
    "Sus capacidades gráficas son muy sofisticadas, y dan al usuario un gran control sobre cómo se crean los gráficos. Y fundamentalmente, para un lenguaje así, hay una comunidad de usuarios muy activa y vibrante. Las listas de correo R-help y R-devel son muy activas, con muchos mensajes al día, y también hay una sección en la web [StackOverflow](https://stackoverflow.com) donde pueden hacerse preguntas. De esta manera, la comunidad de usuarios es uno de los aspectos más interesantes de R. Es de donde provienen todos los paquetes de R, y donde se crean bastantes características interesantes.\n",
    "\n",
    "Por supuesto, una de las características más importantes de R es que es libre y gratis. Es libre como en _libertad de expresión_ y también es gratis por lo que _no hay que pagar por él_, de manera que se puede descargar el software completo desde la web. Y también es software libre. Voy a desviarme un poco en este momento para poder poder hablar de software libre. Con el software libre hay cuatro principios básicos. Hay cuatro libertades básicas que se tienen:\n",
    "\n",
    "<a href=\"https://www.youtube.com/watch?v=Ag1AKIl_2GM\">\n",
    "  <img style=\"float: right;\" src=\"http://img.youtube.com/vi/Ag1AKIl_2GM/maxresdefault.jpg\" width=\"350\" />\n",
    "</a>\n",
    "\n",
    "* La libertad de ejecutar el programa como se desea, con cualquier propósito (Libertad 0).\n",
    "* La libertad de estudiar cómo funciona el programa, y adaptarlo a nuestras necesidades.  (Libertad 1).\n",
    "* La libertad de de distribuir copias, para ayudar al prójimo, de forma que se pueden dar copias a otra gente. (Libertad 2).\n",
    "* La libertad de mejorar el programa y lanzar tus mejoras al público, para que toda la comunidad se beneficie de ellas. (Libertad 3). \n",
    "\n",
    "Un programa es **software libre** si otorga a los usuarios todas estas libertades de manera adecuada. De lo contrario no es libre. Si deseas conocer más, puedes ver el vídeo de la derecha."
   ]
  },
  {
   "cell_type": "markdown",
   "metadata": {},
   "source": [
    "# Primera clase (03/02/2018)\n",
    "\n",
    "<img style=\"float: right;\" src=\"../images/windowslogo.png\" width=\"120\">\n",
    "\n",
    "## Pasos de instalación en Windows 10\n",
    "\n",
    "1. Primero se instala el R nativo desde [aquí](https://cran.r-project.org/mirrors.html).\n",
    "2. Luego se instala R studio desde [aquí](https://www.rstudio.com/products/rstudio/).\n",
    "3. Instalar Java de 64 bits desde [aquí](https://www.java.com/es/download/manual.jsp).\n",
    "\n",
    "<img style=\"float: right;\" src=\"../images/ubuntulogo.png\" width=\"120\">\n",
    "\n",
    "## Pasos de instalación en Ubuntu 16.04 LTS (Linux)\n",
    "\n",
    "1. Primero se instala el R nativo con los siguientes comandos:\n",
    "```sh\n",
    "$ sudo apt-key adv --keyserver keyserver.ubuntu.com --recv-keys E298A3A825C0D65DFD57CBB651716619E084DAB9\n",
    "$ sudo add-apt-repository 'deb [arch=amd64,i386] https://cran.rstudio.com/bin/linux/ubuntu xenial/'\n",
    "$ sudo apt-get update\n",
    "$ sudo apt-get install r-base\n",
    "$ sudo -i R\n",
    "```\n",
    "2. Después puede instalar RStudio con Anaconda o sino descargando el archivo `.deb`.\n",
    "\n",
    "<img style=\"float: right;\" src=\"../images/macoslogo.png\" width=\"120\">\n",
    "\n",
    "## Pasos de instalación en macOS\n",
    "\n",
    "1. Visite la siguiente [página](https://cran.r-project.org/bin/macosx/) y descargue el archivo `.pkg`, por ejemplo R-3.4.3.pkg.\n",
    "2. Ingrese al [sitio web de RStudio](https://www.rstudio.com/products/rstudio/download/) y descargue un archivo \n",
    "que se llame RStudio 1.1.419 - Mac OS X 10.6+ (64-bit) por ejemplo.\n",
    "\n",
    "## Consola de R\n",
    "\n",
    "<p align=\"center\">\n",
    "  <img src=\"../images/consolar.png\"  width=\"900\"/>\n",
    "</p>\n",
    "\n",
    "En palabras sencillas, la consola sirve para mostrar la acción que son escritas en el script.\n",
    "Si se digita el comando `version` en la consola, se mostrará datos especfíficos de la versión de R. Así:"
   ]
  },
  {
   "cell_type": "code",
   "execution_count": 1,
   "metadata": {},
   "outputs": [
    {
     "data": {
      "text/plain": [
       "               _                           \n",
       "platform       x86_64-conda_cos6-linux-gnu \n",
       "arch           x86_64                      \n",
       "os             linux-gnu                   \n",
       "system         x86_64, linux-gnu           \n",
       "status                                     \n",
       "major          3                           \n",
       "minor          4.2                         \n",
       "year           2017                        \n",
       "month          09                          \n",
       "day            28                          \n",
       "svn rev        73368                       \n",
       "language       R                           \n",
       "version.string R version 3.4.2 (2017-09-28)\n",
       "nickname       Short Summer                "
      ]
     },
     "metadata": {},
     "output_type": "display_data"
    }
   ],
   "source": [
    "version"
   ]
  },
  {
   "cell_type": "markdown",
   "metadata": {},
   "source": [
    "## R es un lenguaje de programación _orientado a objetos_\n",
    "\n",
    "<img style=\"float: right;\" src=\"../images/r.png\" width=\"300\">\n",
    "\n",
    "\n",
    "### ¿Qué es un objeto?\n",
    "\n",
    "Es una palabra o un símbolo al cual se le asigna un valor.\n",
    "\n",
    "Un objeto puede ser un vector, una matriz, un marco de datos (data frame) o listas.\n",
    "\n",
    "**Hay que entender estos objetos y sus propiedades.**\n",
    "\n",
    "TS significa serie de tiempo, también es un objeto.\n",
    "\n",
    "Hay objetos como _expresión_ donde se puede guardar las variables.\n",
    "\n",
    "Los corchetes indican la posición (no indica necesariamente el valor del dato) donde se visualiza."
   ]
  },
  {
   "cell_type": "code",
   "execution_count": 2,
   "metadata": {},
   "outputs": [
    {
     "data": {
      "text/html": [
       "<ol class=list-inline>\n",
       "\t<li>1</li>\n",
       "\t<li>2</li>\n",
       "\t<li>3</li>\n",
       "\t<li>4</li>\n",
       "\t<li>5</li>\n",
       "\t<li>6</li>\n",
       "\t<li>7</li>\n",
       "\t<li>8</li>\n",
       "\t<li>9</li>\n",
       "\t<li>10</li>\n",
       "\t<li>11</li>\n",
       "\t<li>12</li>\n",
       "\t<li>13</li>\n",
       "\t<li>14</li>\n",
       "\t<li>15</li>\n",
       "\t<li>16</li>\n",
       "\t<li>17</li>\n",
       "\t<li>18</li>\n",
       "\t<li>19</li>\n",
       "\t<li>20</li>\n",
       "\t<li>21</li>\n",
       "\t<li>22</li>\n",
       "\t<li>23</li>\n",
       "\t<li>24</li>\n",
       "\t<li>25</li>\n",
       "\t<li>26</li>\n",
       "\t<li>27</li>\n",
       "\t<li>28</li>\n",
       "\t<li>29</li>\n",
       "\t<li>30</li>\n",
       "\t<li>31</li>\n",
       "\t<li>32</li>\n",
       "\t<li>33</li>\n",
       "\t<li>34</li>\n",
       "\t<li>35</li>\n",
       "\t<li>36</li>\n",
       "\t<li>37</li>\n",
       "\t<li>38</li>\n",
       "\t<li>39</li>\n",
       "\t<li>40</li>\n",
       "\t<li>41</li>\n",
       "\t<li>42</li>\n",
       "\t<li>43</li>\n",
       "\t<li>44</li>\n",
       "\t<li>45</li>\n",
       "\t<li>46</li>\n",
       "\t<li>47</li>\n",
       "\t<li>48</li>\n",
       "\t<li>49</li>\n",
       "\t<li>50</li>\n",
       "</ol>\n"
      ],
      "text/latex": [
       "\\begin{enumerate*}\n",
       "\\item 1\n",
       "\\item 2\n",
       "\\item 3\n",
       "\\item 4\n",
       "\\item 5\n",
       "\\item 6\n",
       "\\item 7\n",
       "\\item 8\n",
       "\\item 9\n",
       "\\item 10\n",
       "\\item 11\n",
       "\\item 12\n",
       "\\item 13\n",
       "\\item 14\n",
       "\\item 15\n",
       "\\item 16\n",
       "\\item 17\n",
       "\\item 18\n",
       "\\item 19\n",
       "\\item 20\n",
       "\\item 21\n",
       "\\item 22\n",
       "\\item 23\n",
       "\\item 24\n",
       "\\item 25\n",
       "\\item 26\n",
       "\\item 27\n",
       "\\item 28\n",
       "\\item 29\n",
       "\\item 30\n",
       "\\item 31\n",
       "\\item 32\n",
       "\\item 33\n",
       "\\item 34\n",
       "\\item 35\n",
       "\\item 36\n",
       "\\item 37\n",
       "\\item 38\n",
       "\\item 39\n",
       "\\item 40\n",
       "\\item 41\n",
       "\\item 42\n",
       "\\item 43\n",
       "\\item 44\n",
       "\\item 45\n",
       "\\item 46\n",
       "\\item 47\n",
       "\\item 48\n",
       "\\item 49\n",
       "\\item 50\n",
       "\\end{enumerate*}\n"
      ],
      "text/markdown": [
       "1. 1\n",
       "2. 2\n",
       "3. 3\n",
       "4. 4\n",
       "5. 5\n",
       "6. 6\n",
       "7. 7\n",
       "8. 8\n",
       "9. 9\n",
       "10. 10\n",
       "11. 11\n",
       "12. 12\n",
       "13. 13\n",
       "14. 14\n",
       "15. 15\n",
       "16. 16\n",
       "17. 17\n",
       "18. 18\n",
       "19. 19\n",
       "20. 20\n",
       "21. 21\n",
       "22. 22\n",
       "23. 23\n",
       "24. 24\n",
       "25. 25\n",
       "26. 26\n",
       "27. 27\n",
       "28. 28\n",
       "29. 29\n",
       "30. 30\n",
       "31. 31\n",
       "32. 32\n",
       "33. 33\n",
       "34. 34\n",
       "35. 35\n",
       "36. 36\n",
       "37. 37\n",
       "38. 38\n",
       "39. 39\n",
       "40. 40\n",
       "41. 41\n",
       "42. 42\n",
       "43. 43\n",
       "44. 44\n",
       "45. 45\n",
       "46. 46\n",
       "47. 47\n",
       "48. 48\n",
       "49. 49\n",
       "50. 50\n",
       "\n",
       "\n"
      ],
      "text/plain": [
       " [1]  1  2  3  4  5  6  7  8  9 10 11 12 13 14 15 16 17 18 19 20 21 22 23 24 25\n",
       "[26] 26 27 28 29 30 31 32 33 34 35 36 37 38 39 40 41 42 43 44 45 46 47 48 49 50"
      ]
     },
     "metadata": {},
     "output_type": "display_data"
    }
   ],
   "source": [
    "x <- 1:50; x"
   ]
  },
  {
   "cell_type": "markdown",
   "metadata": {},
   "source": [
    "## RStudio\n",
    "\n",
    "<img style=\"float: right;\" src=\"../images/rstudiologo.png\" heigth=\"250\">\n",
    "\n",
    "\n",
    "En el entorno superior derecha se mostrarán todos los objetos. Si creamos funciones, listas, dataframes, se guardarán esa ventana.\n",
    "\n",
    "En la ventana inferior derecha se mostrará la lista de todos los objetos.\n",
    "\n",
    "Rstudio se conecta con R nativo.\n",
    "\n",
    "### Atajos con el teclado\n",
    "\n",
    "|Teclas    |Acción                                  |\n",
    "|:--------:|:--------------------------------------:|\n",
    "|`Ctrl + l`|Limpia la pantalla de consola.          |\n",
    "|`Ctrl + A`|Selecciona todo el contenido del script.|\n",
    "|`Ctrl + R`|Ejecuta la selección.                   |\n",
    "\n",
    "Para acceder al historial.\n",
    "\n",
    "A diferencia de otros programas como Microsoft Word, siempre es posible recuperar en la lista del\n",
    "historial de comandos de Rstudio.\n",
    "\n",
    "File es el explorador, no necesariamente es el archivo de trabajo. El plot es un objeto, es un dispositivo\n",
    "gráfico fuera del entorno de Rstudio.\n",
    "\n",
    "### Paquetes de R\n",
    "\n",
    "Aquí viene la potencia de R. Se puede instalar nuevas librerías o paquetes.\n",
    "R es una comunidad abierta..\n",
    "R se puede utilizar para cualquier tipo de carreras. En la actualidad, R ya superas los 10K de paquetes.\n",
    "Cada función debe estar documentada y debe tener un ejemplo, ayuda, base de datos.\n",
    "Todo debe estar documentado.\n",
    "\n",
    "Cada función tiene su ejemplo y tiene su base de datos documentadas.\n",
    "\n",
    "Hay dos formas de cargar librerías:\n",
    "\n",
    "- Del CRAN o de manera manual.\n",
    "\n",
    "- Si no hay internet se las descarga y luego se carga de manera manual.\n",
    "\n",
    "R es una comunidad.\n",
    "\n",
    "Para que funcione correctamente, instale la opción habilitada Install dependencies.\n",
    "\n",
    "> Es posible que alguna librería ya no está vigente, es necesario buscar la librería que lo reemplaza.\n",
    "\n",
    "Cuando sea instala no se carga la librería.\n",
    "\n",
    "Instala la librería y carga la librería.\n",
    "\n",
    "Es mejor que está escrito la acción y no hacerlo manualmente.\n",
    "\n",
    "R hace distinción entre mayúscula y minúscula.\n",
    "\n",
    "Es importante digitarlo todo en minúscula.\n",
    "\n",
    "El marco de datos es un tipo especial de objetos."
   ]
  },
  {
   "cell_type": "code",
   "execution_count": 3,
   "metadata": {},
   "outputs": [
    {
     "data": {
      "text/html": [
       "FALSE"
      ],
      "text/latex": [
       "FALSE"
      ],
      "text/markdown": [
       "FALSE"
      ],
      "text/plain": [
       "[1] FALSE"
      ]
     },
     "metadata": {},
     "output_type": "display_data"
    },
    {
     "data": {
      "text/html": [
       "FALSE"
      ],
      "text/latex": [
       "FALSE"
      ],
      "text/markdown": [
       "FALSE"
      ],
      "text/plain": [
       "[1] FALSE"
      ]
     },
     "metadata": {},
     "output_type": "display_data"
    },
    {
     "data": {
      "text/html": [
       "TRUE"
      ],
      "text/latex": [
       "TRUE"
      ],
      "text/markdown": [
       "TRUE"
      ],
      "text/plain": [
       "[1] TRUE"
      ]
     },
     "metadata": {},
     "output_type": "display_data"
    },
    {
     "data": {
      "text/html": [
       "TRUE"
      ],
      "text/latex": [
       "TRUE"
      ],
      "text/markdown": [
       "TRUE"
      ],
      "text/plain": [
       "[1] TRUE"
      ]
     },
     "metadata": {},
     "output_type": "display_data"
    },
    {
     "data": {
      "text/html": [
       "TRUE"
      ],
      "text/latex": [
       "TRUE"
      ],
      "text/markdown": [
       "TRUE"
      ],
      "text/plain": [
       "[1] TRUE"
      ]
     },
     "metadata": {},
     "output_type": "display_data"
    },
    {
     "data": {
      "text/html": [
       "FALSE"
      ],
      "text/latex": [
       "FALSE"
      ],
      "text/markdown": [
       "FALSE"
      ],
      "text/plain": [
       "[1] FALSE"
      ]
     },
     "metadata": {},
     "output_type": "display_data"
    },
    {
     "data": {
      "text/html": [
       "TRUE"
      ],
      "text/latex": [
       "TRUE"
      ],
      "text/markdown": [
       "TRUE"
      ],
      "text/plain": [
       "[1] TRUE"
      ]
     },
     "metadata": {},
     "output_type": "display_data"
    },
    {
     "data": {
      "text/html": [
       "<dl>\n",
       "\t<dt>$double.eps</dt>\n",
       "\t\t<dd>2.22044604925031e-16</dd>\n",
       "\t<dt>$double.neg.eps</dt>\n",
       "\t\t<dd>1.11022302462516e-16</dd>\n",
       "\t<dt>$double.xmin</dt>\n",
       "\t\t<dd>2.2250738585072e-308</dd>\n",
       "\t<dt>$double.xmax</dt>\n",
       "\t\t<dd>1.79769313486232e+308</dd>\n",
       "\t<dt>$double.base</dt>\n",
       "\t\t<dd>2</dd>\n",
       "\t<dt>$double.digits</dt>\n",
       "\t\t<dd>53</dd>\n",
       "\t<dt>$double.rounding</dt>\n",
       "\t\t<dd>5</dd>\n",
       "\t<dt>$double.guard</dt>\n",
       "\t\t<dd>0</dd>\n",
       "\t<dt>$double.ulp.digits</dt>\n",
       "\t\t<dd>-52</dd>\n",
       "\t<dt>$double.neg.ulp.digits</dt>\n",
       "\t\t<dd>-53</dd>\n",
       "\t<dt>$double.exponent</dt>\n",
       "\t\t<dd>11</dd>\n",
       "\t<dt>$double.min.exp</dt>\n",
       "\t\t<dd>-1022</dd>\n",
       "\t<dt>$double.max.exp</dt>\n",
       "\t\t<dd>1024</dd>\n",
       "\t<dt>$integer.max</dt>\n",
       "\t\t<dd>2147483647</dd>\n",
       "\t<dt>$sizeof.long</dt>\n",
       "\t\t<dd>8</dd>\n",
       "\t<dt>$sizeof.longlong</dt>\n",
       "\t\t<dd>8</dd>\n",
       "\t<dt>$sizeof.longdouble</dt>\n",
       "\t\t<dd>16</dd>\n",
       "\t<dt>$sizeof.pointer</dt>\n",
       "\t\t<dd>8</dd>\n",
       "</dl>\n"
      ],
      "text/latex": [
       "\\begin{description}\n",
       "\\item[\\$double.eps] 2.22044604925031e-16\n",
       "\\item[\\$double.neg.eps] 1.11022302462516e-16\n",
       "\\item[\\$double.xmin] 2.2250738585072e-308\n",
       "\\item[\\$double.xmax] 1.79769313486232e+308\n",
       "\\item[\\$double.base] 2\n",
       "\\item[\\$double.digits] 53\n",
       "\\item[\\$double.rounding] 5\n",
       "\\item[\\$double.guard] 0\n",
       "\\item[\\$double.ulp.digits] -52\n",
       "\\item[\\$double.neg.ulp.digits] -53\n",
       "\\item[\\$double.exponent] 11\n",
       "\\item[\\$double.min.exp] -1022\n",
       "\\item[\\$double.max.exp] 1024\n",
       "\\item[\\$integer.max] 2147483647\n",
       "\\item[\\$sizeof.long] 8\n",
       "\\item[\\$sizeof.longlong] 8\n",
       "\\item[\\$sizeof.longdouble] 16\n",
       "\\item[\\$sizeof.pointer] 8\n",
       "\\end{description}\n"
      ],
      "text/markdown": [
       "$double.eps\n",
       ":   2.22044604925031e-16\n",
       "$double.neg.eps\n",
       ":   1.11022302462516e-16\n",
       "$double.xmin\n",
       ":   2.2250738585072e-308\n",
       "$double.xmax\n",
       ":   1.79769313486232e+308\n",
       "$double.base\n",
       ":   2\n",
       "$double.digits\n",
       ":   53\n",
       "$double.rounding\n",
       ":   5\n",
       "$double.guard\n",
       ":   0\n",
       "$double.ulp.digits\n",
       ":   -52\n",
       "$double.neg.ulp.digits\n",
       ":   -53\n",
       "$double.exponent\n",
       ":   11\n",
       "$double.min.exp\n",
       ":   -1022\n",
       "$double.max.exp\n",
       ":   1024\n",
       "$integer.max\n",
       ":   2147483647\n",
       "$sizeof.long\n",
       ":   8\n",
       "$sizeof.longlong\n",
       ":   8\n",
       "$sizeof.longdouble\n",
       ":   16\n",
       "$sizeof.pointer\n",
       ":   8\n",
       "\n",
       "\n"
      ],
      "text/plain": [
       "$double.eps\n",
       "[1] 2.220446e-16\n",
       "\n",
       "$double.neg.eps\n",
       "[1] 1.110223e-16\n",
       "\n",
       "$double.xmin\n",
       "[1] 2.225074e-308\n",
       "\n",
       "$double.xmax\n",
       "[1] 1.797693e+308\n",
       "\n",
       "$double.base\n",
       "[1] 2\n",
       "\n",
       "$double.digits\n",
       "[1] 53\n",
       "\n",
       "$double.rounding\n",
       "[1] 5\n",
       "\n",
       "$double.guard\n",
       "[1] 0\n",
       "\n",
       "$double.ulp.digits\n",
       "[1] -52\n",
       "\n",
       "$double.neg.ulp.digits\n",
       "[1] -53\n",
       "\n",
       "$double.exponent\n",
       "[1] 11\n",
       "\n",
       "$double.min.exp\n",
       "[1] -1022\n",
       "\n",
       "$double.max.exp\n",
       "[1] 1024\n",
       "\n",
       "$integer.max\n",
       "[1] 2147483647\n",
       "\n",
       "$sizeof.long\n",
       "[1] 8\n",
       "\n",
       "$sizeof.longlong\n",
       "[1] 8\n",
       "\n",
       "$sizeof.longdouble\n",
       "[1] 16\n",
       "\n",
       "$sizeof.pointer\n",
       "[1] 8\n"
      ]
     },
     "metadata": {},
     "output_type": "display_data"
    }
   ],
   "source": [
    "p <- TRUE\n",
    "q <- FALSE\n",
    "r <- TRUE\n",
    "p & q # Y lógico\n",
    "p && q\n",
    "p | q # O inclusivo lógico\n",
    "p || q\n",
    "xor(p,q) # O disyuntivo\n",
    "!r # Negación de r.\n",
    "a <- 5\n",
    "b <- 2\n",
    "(a>pi) & (b<3)\n",
    ".Machine # Variable que contiene información sobre las características numéricas de la máquina en la que se está ejecutando R , como el doble o entero más grande y la precisión de la máquina."
   ]
  },
  {
   "cell_type": "markdown",
   "metadata": {},
   "source": [
    "## Función `sequence()`"
   ]
  },
  {
   "cell_type": "code",
   "execution_count": 4,
   "metadata": {
    "scrolled": true
   },
   "outputs": [
    {
     "data": {
      "text/html": [
       "<ol class=list-inline>\n",
       "\t<li>1</li>\n",
       "\t<li>2</li>\n",
       "\t<li>3</li>\n",
       "\t<li>4</li>\n",
       "\t<li>5</li>\n",
       "\t<li>6</li>\n",
       "\t<li>7</li>\n",
       "\t<li>8</li>\n",
       "\t<li>9</li>\n",
       "\t<li>10</li>\n",
       "\t<li>1</li>\n",
       "\t<li>2</li>\n",
       "\t<li>3</li>\n",
       "\t<li>4</li>\n",
       "\t<li>5</li>\n",
       "</ol>\n"
      ],
      "text/latex": [
       "\\begin{enumerate*}\n",
       "\\item 1\n",
       "\\item 2\n",
       "\\item 3\n",
       "\\item 4\n",
       "\\item 5\n",
       "\\item 6\n",
       "\\item 7\n",
       "\\item 8\n",
       "\\item 9\n",
       "\\item 10\n",
       "\\item 1\n",
       "\\item 2\n",
       "\\item 3\n",
       "\\item 4\n",
       "\\item 5\n",
       "\\end{enumerate*}\n"
      ],
      "text/markdown": [
       "1. 1\n",
       "2. 2\n",
       "3. 3\n",
       "4. 4\n",
       "5. 5\n",
       "6. 6\n",
       "7. 7\n",
       "8. 8\n",
       "9. 9\n",
       "10. 10\n",
       "11. 1\n",
       "12. 2\n",
       "13. 3\n",
       "14. 4\n",
       "15. 5\n",
       "\n",
       "\n"
      ],
      "text/plain": [
       " [1]  1  2  3  4  5  6  7  8  9 10  1  2  3  4  5"
      ]
     },
     "metadata": {},
     "output_type": "display_data"
    }
   ],
   "source": [
    "sequence(c(10,5))"
   ]
  },
  {
   "cell_type": "markdown",
   "metadata": {},
   "source": [
    "## Función `gl()`"
   ]
  },
  {
   "cell_type": "code",
   "execution_count": 5,
   "metadata": {},
   "outputs": [
    {
     "data": {
      "text/html": [
       "<ol class=list-inline>\n",
       "\t<li>1</li>\n",
       "\t<li>1</li>\n",
       "\t<li>1</li>\n",
       "\t<li>1</li>\n",
       "\t<li>1</li>\n",
       "\t<li>2</li>\n",
       "\t<li>2</li>\n",
       "\t<li>2</li>\n",
       "\t<li>2</li>\n",
       "\t<li>2</li>\n",
       "\t<li>3</li>\n",
       "\t<li>3</li>\n",
       "\t<li>3</li>\n",
       "\t<li>3</li>\n",
       "\t<li>3</li>\n",
       "</ol>\n"
      ],
      "text/latex": [
       "\\begin{enumerate*}\n",
       "\\item 1\n",
       "\\item 1\n",
       "\\item 1\n",
       "\\item 1\n",
       "\\item 1\n",
       "\\item 2\n",
       "\\item 2\n",
       "\\item 2\n",
       "\\item 2\n",
       "\\item 2\n",
       "\\item 3\n",
       "\\item 3\n",
       "\\item 3\n",
       "\\item 3\n",
       "\\item 3\n",
       "\\end{enumerate*}\n"
      ],
      "text/markdown": [
       "1. 1\n",
       "2. 1\n",
       "3. 1\n",
       "4. 1\n",
       "5. 1\n",
       "6. 2\n",
       "7. 2\n",
       "8. 2\n",
       "9. 2\n",
       "10. 2\n",
       "11. 3\n",
       "12. 3\n",
       "13. 3\n",
       "14. 3\n",
       "15. 3\n",
       "\n",
       "\n"
      ],
      "text/plain": [
       " [1] 1 1 1 1 1 2 2 2 2 2 3 3 3 3 3\n",
       "Levels: 1 2 3"
      ]
     },
     "metadata": {},
     "output_type": "display_data"
    },
    {
     "data": {
      "text/html": [
       "<ol class=list-inline>\n",
       "\t<li>1</li>\n",
       "\t<li>1</li>\n",
       "\t<li>1</li>\n",
       "\t<li>1</li>\n",
       "\t<li>1</li>\n",
       "\t<li>2</li>\n",
       "\t<li>2</li>\n",
       "\t<li>2</li>\n",
       "\t<li>2</li>\n",
       "\t<li>2</li>\n",
       "\t<li>3</li>\n",
       "\t<li>3</li>\n",
       "\t<li>3</li>\n",
       "\t<li>3</li>\n",
       "\t<li>3</li>\n",
       "\t<li>1</li>\n",
       "\t<li>1</li>\n",
       "\t<li>1</li>\n",
       "\t<li>1</li>\n",
       "\t<li>1</li>\n",
       "\t<li>2</li>\n",
       "\t<li>2</li>\n",
       "\t<li>2</li>\n",
       "\t<li>2</li>\n",
       "\t<li>2</li>\n",
       "\t<li>3</li>\n",
       "\t<li>3</li>\n",
       "\t<li>3</li>\n",
       "\t<li>3</li>\n",
       "\t<li>3</li>\n",
       "</ol>\n"
      ],
      "text/latex": [
       "\\begin{enumerate*}\n",
       "\\item 1\n",
       "\\item 1\n",
       "\\item 1\n",
       "\\item 1\n",
       "\\item 1\n",
       "\\item 2\n",
       "\\item 2\n",
       "\\item 2\n",
       "\\item 2\n",
       "\\item 2\n",
       "\\item 3\n",
       "\\item 3\n",
       "\\item 3\n",
       "\\item 3\n",
       "\\item 3\n",
       "\\item 1\n",
       "\\item 1\n",
       "\\item 1\n",
       "\\item 1\n",
       "\\item 1\n",
       "\\item 2\n",
       "\\item 2\n",
       "\\item 2\n",
       "\\item 2\n",
       "\\item 2\n",
       "\\item 3\n",
       "\\item 3\n",
       "\\item 3\n",
       "\\item 3\n",
       "\\item 3\n",
       "\\end{enumerate*}\n"
      ],
      "text/markdown": [
       "1. 1\n",
       "2. 1\n",
       "3. 1\n",
       "4. 1\n",
       "5. 1\n",
       "6. 2\n",
       "7. 2\n",
       "8. 2\n",
       "9. 2\n",
       "10. 2\n",
       "11. 3\n",
       "12. 3\n",
       "13. 3\n",
       "14. 3\n",
       "15. 3\n",
       "16. 1\n",
       "17. 1\n",
       "18. 1\n",
       "19. 1\n",
       "20. 1\n",
       "21. 2\n",
       "22. 2\n",
       "23. 2\n",
       "24. 2\n",
       "25. 2\n",
       "26. 3\n",
       "27. 3\n",
       "28. 3\n",
       "29. 3\n",
       "30. 3\n",
       "\n",
       "\n"
      ],
      "text/plain": [
       " [1] 1 1 1 1 1 2 2 2 2 2 3 3 3 3 3 1 1 1 1 1 2 2 2 2 2 3 3 3 3 3\n",
       "Levels: 1 2 3"
      ]
     },
     "metadata": {},
     "output_type": "display_data"
    },
    {
     "data": {
      "text/html": [
       "<ol class=list-inline>\n",
       "\t<li>Macho</li>\n",
       "\t<li>Macho</li>\n",
       "\t<li>Macho</li>\n",
       "\t<li>Macho</li>\n",
       "\t<li>Macho</li>\n",
       "\t<li>Macho</li>\n",
       "\t<li>Hembra</li>\n",
       "\t<li>Hembra</li>\n",
       "\t<li>Hembra</li>\n",
       "\t<li>Hembra</li>\n",
       "\t<li>Hembra</li>\n",
       "\t<li>Hembra</li>\n",
       "</ol>\n"
      ],
      "text/latex": [
       "\\begin{enumerate*}\n",
       "\\item Macho\n",
       "\\item Macho\n",
       "\\item Macho\n",
       "\\item Macho\n",
       "\\item Macho\n",
       "\\item Macho\n",
       "\\item Hembra\n",
       "\\item Hembra\n",
       "\\item Hembra\n",
       "\\item Hembra\n",
       "\\item Hembra\n",
       "\\item Hembra\n",
       "\\end{enumerate*}\n"
      ],
      "text/markdown": [
       "1. Macho\n",
       "2. Macho\n",
       "3. Macho\n",
       "4. Macho\n",
       "5. Macho\n",
       "6. Macho\n",
       "7. Hembra\n",
       "8. Hembra\n",
       "9. Hembra\n",
       "10. Hembra\n",
       "11. Hembra\n",
       "12. Hembra\n",
       "\n",
       "\n"
      ],
      "text/plain": [
       " [1] Macho  Macho  Macho  Macho  Macho  Macho  Hembra Hembra Hembra Hembra\n",
       "[11] Hembra Hembra\n",
       "Levels: Macho Hembra"
      ]
     },
     "metadata": {},
     "output_type": "display_data"
    },
    {
     "data": {
      "text/html": [
       "<ol class=list-inline>\n",
       "\t<li>1</li>\n",
       "\t<li>1</li>\n",
       "\t<li>1</li>\n",
       "\t<li>1</li>\n",
       "\t<li>1</li>\n",
       "\t<li>1</li>\n",
       "\t<li>1</li>\n",
       "\t<li>1</li>\n",
       "\t<li>1</li>\n",
       "\t<li>1</li>\n",
       "\t<li>2</li>\n",
       "\t<li>2</li>\n",
       "\t<li>2</li>\n",
       "\t<li>2</li>\n",
       "\t<li>2</li>\n",
       "\t<li>2</li>\n",
       "\t<li>2</li>\n",
       "\t<li>2</li>\n",
       "\t<li>2</li>\n",
       "\t<li>2</li>\n",
       "</ol>\n"
      ],
      "text/latex": [
       "\\begin{enumerate*}\n",
       "\\item 1\n",
       "\\item 1\n",
       "\\item 1\n",
       "\\item 1\n",
       "\\item 1\n",
       "\\item 1\n",
       "\\item 1\n",
       "\\item 1\n",
       "\\item 1\n",
       "\\item 1\n",
       "\\item 2\n",
       "\\item 2\n",
       "\\item 2\n",
       "\\item 2\n",
       "\\item 2\n",
       "\\item 2\n",
       "\\item 2\n",
       "\\item 2\n",
       "\\item 2\n",
       "\\item 2\n",
       "\\end{enumerate*}\n"
      ],
      "text/markdown": [
       "1. 1\n",
       "2. 1\n",
       "3. 1\n",
       "4. 1\n",
       "5. 1\n",
       "6. 1\n",
       "7. 1\n",
       "8. 1\n",
       "9. 1\n",
       "10. 1\n",
       "11. 2\n",
       "12. 2\n",
       "13. 2\n",
       "14. 2\n",
       "15. 2\n",
       "16. 2\n",
       "17. 2\n",
       "18. 2\n",
       "19. 2\n",
       "20. 2\n",
       "\n",
       "\n"
      ],
      "text/plain": [
       " [1] 1 1 1 1 1 1 1 1 1 1 2 2 2 2 2 2 2 2 2 2\n",
       "Levels: 1 2"
      ]
     },
     "metadata": {},
     "output_type": "display_data"
    },
    {
     "data": {
      "text/html": [
       "<ol class=list-inline>\n",
       "\t<li>1</li>\n",
       "\t<li>1</li>\n",
       "\t<li>2</li>\n",
       "\t<li>2</li>\n",
       "\t<li>1</li>\n",
       "\t<li>1</li>\n",
       "\t<li>2</li>\n",
       "\t<li>2</li>\n",
       "\t<li>1</li>\n",
       "\t<li>1</li>\n",
       "\t<li>2</li>\n",
       "\t<li>2</li>\n",
       "\t<li>1</li>\n",
       "\t<li>1</li>\n",
       "\t<li>2</li>\n",
       "\t<li>2</li>\n",
       "\t<li>1</li>\n",
       "\t<li>1</li>\n",
       "\t<li>2</li>\n",
       "\t<li>2</li>\n",
       "</ol>\n"
      ],
      "text/latex": [
       "\\begin{enumerate*}\n",
       "\\item 1\n",
       "\\item 1\n",
       "\\item 2\n",
       "\\item 2\n",
       "\\item 1\n",
       "\\item 1\n",
       "\\item 2\n",
       "\\item 2\n",
       "\\item 1\n",
       "\\item 1\n",
       "\\item 2\n",
       "\\item 2\n",
       "\\item 1\n",
       "\\item 1\n",
       "\\item 2\n",
       "\\item 2\n",
       "\\item 1\n",
       "\\item 1\n",
       "\\item 2\n",
       "\\item 2\n",
       "\\end{enumerate*}\n"
      ],
      "text/markdown": [
       "1. 1\n",
       "2. 1\n",
       "3. 2\n",
       "4. 2\n",
       "5. 1\n",
       "6. 1\n",
       "7. 2\n",
       "8. 2\n",
       "9. 1\n",
       "10. 1\n",
       "11. 2\n",
       "12. 2\n",
       "13. 1\n",
       "14. 1\n",
       "15. 2\n",
       "16. 2\n",
       "17. 1\n",
       "18. 1\n",
       "19. 2\n",
       "20. 2\n",
       "\n",
       "\n"
      ],
      "text/plain": [
       " [1] 1 1 2 2 1 1 2 2 1 1 2 2 1 1 2 2 1 1 2 2\n",
       "Levels: 1 2"
      ]
     },
     "metadata": {},
     "output_type": "display_data"
    },
    {
     "data": {
      "text/html": [
       "<table>\n",
       "<thead><tr><th scope=col>a</th><th scope=col>p</th><th scope=col>sexo</th></tr></thead>\n",
       "<tbody>\n",
       "\t<tr><td>60    </td><td>100   </td><td>Macho </td></tr>\n",
       "\t<tr><td>80    </td><td>100   </td><td>Macho </td></tr>\n",
       "\t<tr><td>60    </td><td>300   </td><td>Macho </td></tr>\n",
       "\t<tr><td>80    </td><td>300   </td><td>Macho </td></tr>\n",
       "\t<tr><td>60    </td><td>100   </td><td>Hembra</td></tr>\n",
       "\t<tr><td>80    </td><td>100   </td><td>Hembra</td></tr>\n",
       "\t<tr><td>60    </td><td>300   </td><td>Hembra</td></tr>\n",
       "\t<tr><td>80    </td><td>300   </td><td>Hembra</td></tr>\n",
       "</tbody>\n",
       "</table>\n"
      ],
      "text/latex": [
       "\\begin{tabular}{r|lll}\n",
       " a & p & sexo\\\\\n",
       "\\hline\n",
       "\t 60     & 100    & Macho \\\\\n",
       "\t 80     & 100    & Macho \\\\\n",
       "\t 60     & 300    & Macho \\\\\n",
       "\t 80     & 300    & Macho \\\\\n",
       "\t 60     & 100    & Hembra\\\\\n",
       "\t 80     & 100    & Hembra\\\\\n",
       "\t 60     & 300    & Hembra\\\\\n",
       "\t 80     & 300    & Hembra\\\\\n",
       "\\end{tabular}\n"
      ],
      "text/markdown": [
       "\n",
       "a | p | sexo | \n",
       "|---|---|---|---|---|---|---|---|\n",
       "| 60     | 100    | Macho  | \n",
       "| 80     | 100    | Macho  | \n",
       "| 60     | 300    | Macho  | \n",
       "| 80     | 300    | Macho  | \n",
       "| 60     | 100    | Hembra | \n",
       "| 80     | 100    | Hembra | \n",
       "| 60     | 300    | Hembra | \n",
       "| 80     | 300    | Hembra | \n",
       "\n",
       "\n"
      ],
      "text/plain": [
       "  a  p   sexo  \n",
       "1 60 100 Macho \n",
       "2 80 100 Macho \n",
       "3 60 300 Macho \n",
       "4 80 300 Macho \n",
       "5 60 100 Hembra\n",
       "6 80 100 Hembra\n",
       "7 60 300 Hembra\n",
       "8 80 300 Hembra"
      ]
     },
     "metadata": {},
     "output_type": "display_data"
    }
   ],
   "source": [
    "gl(3,5)\n",
    "gl(3,5, length=30)\n",
    "gl(2,6, label=c(\"Macho\", \"Hembra\"))\n",
    "gl(2,10)\n",
    "gl(2,2,length=20)\n",
    "expand.grid(a=c(60,80), p=c(100,300), sexo=c(\"Macho\", \"Hembra\"))"
   ]
  },
  {
   "cell_type": "markdown",
   "metadata": {},
   "source": [
    "## Función `rep()`"
   ]
  },
  {
   "cell_type": "code",
   "execution_count": 6,
   "metadata": {},
   "outputs": [
    {
     "data": {
      "text/html": [
       "<ol class=list-inline>\n",
       "\t<li>1</li>\n",
       "\t<li>1</li>\n",
       "\t<li>1</li>\n",
       "\t<li>1</li>\n",
       "\t<li>1</li>\n",
       "\t<li>1</li>\n",
       "\t<li>1</li>\n",
       "\t<li>1</li>\n",
       "\t<li>1</li>\n",
       "\t<li>1</li>\n",
       "\t<li>1</li>\n",
       "\t<li>1</li>\n",
       "\t<li>1</li>\n",
       "\t<li>1</li>\n",
       "\t<li>1</li>\n",
       "\t<li>1</li>\n",
       "\t<li>1</li>\n",
       "\t<li>1</li>\n",
       "\t<li>1</li>\n",
       "\t<li>1</li>\n",
       "\t<li>1</li>\n",
       "\t<li>1</li>\n",
       "\t<li>1</li>\n",
       "\t<li>1</li>\n",
       "\t<li>1</li>\n",
       "\t<li>1</li>\n",
       "\t<li>1</li>\n",
       "\t<li>1</li>\n",
       "\t<li>1</li>\n",
       "\t<li>1</li>\n",
       "</ol>\n"
      ],
      "text/latex": [
       "\\begin{enumerate*}\n",
       "\\item 1\n",
       "\\item 1\n",
       "\\item 1\n",
       "\\item 1\n",
       "\\item 1\n",
       "\\item 1\n",
       "\\item 1\n",
       "\\item 1\n",
       "\\item 1\n",
       "\\item 1\n",
       "\\item 1\n",
       "\\item 1\n",
       "\\item 1\n",
       "\\item 1\n",
       "\\item 1\n",
       "\\item 1\n",
       "\\item 1\n",
       "\\item 1\n",
       "\\item 1\n",
       "\\item 1\n",
       "\\item 1\n",
       "\\item 1\n",
       "\\item 1\n",
       "\\item 1\n",
       "\\item 1\n",
       "\\item 1\n",
       "\\item 1\n",
       "\\item 1\n",
       "\\item 1\n",
       "\\item 1\n",
       "\\end{enumerate*}\n"
      ],
      "text/markdown": [
       "1. 1\n",
       "2. 1\n",
       "3. 1\n",
       "4. 1\n",
       "5. 1\n",
       "6. 1\n",
       "7. 1\n",
       "8. 1\n",
       "9. 1\n",
       "10. 1\n",
       "11. 1\n",
       "12. 1\n",
       "13. 1\n",
       "14. 1\n",
       "15. 1\n",
       "16. 1\n",
       "17. 1\n",
       "18. 1\n",
       "19. 1\n",
       "20. 1\n",
       "21. 1\n",
       "22. 1\n",
       "23. 1\n",
       "24. 1\n",
       "25. 1\n",
       "26. 1\n",
       "27. 1\n",
       "28. 1\n",
       "29. 1\n",
       "30. 1\n",
       "\n",
       "\n"
      ],
      "text/plain": [
       " [1] 1 1 1 1 1 1 1 1 1 1 1 1 1 1 1 1 1 1 1 1 1 1 1 1 1 1 1 1 1 1"
      ]
     },
     "metadata": {},
     "output_type": "display_data"
    }
   ],
   "source": [
    "rep(1,30)"
   ]
  },
  {
   "cell_type": "markdown",
   "metadata": {},
   "source": [
    "## Funciones de distribución"
   ]
  },
  {
   "cell_type": "code",
   "execution_count": 7,
   "metadata": {},
   "outputs": [
    {
     "data": {
      "text/html": [
       "<ol class=list-inline>\n",
       "\t<li>2.95443358965093</li>\n",
       "\t<li>1.36775440625371</li>\n",
       "\t<li>2.67083878616307</li>\n",
       "\t<li>2.1441112103543</li>\n",
       "\t<li>0.0200621783733368</li>\n",
       "\t<li>2.60060565020412</li>\n",
       "\t<li>0.11474755499512</li>\n",
       "\t<li>0.00273692498989179</li>\n",
       "\t<li>1.11703855720511</li>\n",
       "\t<li>0.349513244815171</li>\n",
       "</ol>\n"
      ],
      "text/latex": [
       "\\begin{enumerate*}\n",
       "\\item 2.95443358965093\n",
       "\\item 1.36775440625371\n",
       "\\item 2.67083878616307\n",
       "\\item 2.1441112103543\n",
       "\\item 0.0200621783733368\n",
       "\\item 2.60060565020412\n",
       "\\item 0.11474755499512\n",
       "\\item 0.00273692498989179\n",
       "\\item 1.11703855720511\n",
       "\\item 0.349513244815171\n",
       "\\end{enumerate*}\n"
      ],
      "text/markdown": [
       "1. 2.95443358965093\n",
       "2. 1.36775440625371\n",
       "3. 2.67083878616307\n",
       "4. 2.1441112103543\n",
       "5. 0.0200621783733368\n",
       "6. 2.60060565020412\n",
       "7. 0.11474755499512\n",
       "8. 0.00273692498989179\n",
       "9. 1.11703855720511\n",
       "10. 0.349513244815171\n",
       "\n",
       "\n"
      ],
      "text/plain": [
       " [1] 2.954433590 1.367754406 2.670838786 2.144111210 0.020062178 2.600605650\n",
       " [7] 0.114747555 0.002736925 1.117038557 0.349513245"
      ]
     },
     "metadata": {},
     "output_type": "display_data"
    }
   ],
   "source": [
    "z1=rexp(10^1)\n",
    "z1"
   ]
  },
  {
   "cell_type": "code",
   "execution_count": 8,
   "metadata": {},
   "outputs": [
    {
     "data": {
      "text/html": [
       "<ol class=list-inline>\n",
       "\t<li>0.860359003534541</li>\n",
       "\t<li>0.907027909299359</li>\n",
       "\t<li>0.87921414594166</li>\n",
       "\t<li>0.161311371484771</li>\n",
       "\t<li>0.463722075335681</li>\n",
       "\t<li>0.202716865111142</li>\n",
       "\t<li>0.641418488696218</li>\n",
       "\t<li>0.724751039175317</li>\n",
       "\t<li>0.311133696231991</li>\n",
       "\t<li>0.587511212797835</li>\n",
       "</ol>\n"
      ],
      "text/latex": [
       "\\begin{enumerate*}\n",
       "\\item 0.860359003534541\n",
       "\\item 0.907027909299359\n",
       "\\item 0.87921414594166\n",
       "\\item 0.161311371484771\n",
       "\\item 0.463722075335681\n",
       "\\item 0.202716865111142\n",
       "\\item 0.641418488696218\n",
       "\\item 0.724751039175317\n",
       "\\item 0.311133696231991\n",
       "\\item 0.587511212797835\n",
       "\\end{enumerate*}\n"
      ],
      "text/markdown": [
       "1. 0.860359003534541\n",
       "2. 0.907027909299359\n",
       "3. 0.87921414594166\n",
       "4. 0.161311371484771\n",
       "5. 0.463722075335681\n",
       "6. 0.202716865111142\n",
       "7. 0.641418488696218\n",
       "8. 0.724751039175317\n",
       "9. 0.311133696231991\n",
       "10. 0.587511212797835\n",
       "\n",
       "\n"
      ],
      "text/plain": [
       " [1] 0.8603590 0.9070279 0.8792141 0.1613114 0.4637221 0.2027169 0.6414185\n",
       " [8] 0.7247510 0.3111337 0.5875112"
      ]
     },
     "metadata": {},
     "output_type": "display_data"
    }
   ],
   "source": [
    "z2=runif(10^1)\n",
    "z2"
   ]
  },
  {
   "cell_type": "code",
   "execution_count": 9,
   "metadata": {},
   "outputs": [
    {
     "data": {
      "text/html": [
       "<ol class=list-inline>\n",
       "\t<li>1.54497337376624</li>\n",
       "\t<li>4.28752805230955</li>\n",
       "\t<li>0.523709947091144</li>\n",
       "\t<li>1.19719865851853</li>\n",
       "\t<li>3.68615628640839</li>\n",
       "\t<li>3.83974426916262</li>\n",
       "\t<li>0.638950833656004</li>\n",
       "\t<li>1.51848992293151</li>\n",
       "\t<li>0.102828893182339</li>\n",
       "\t<li>0.166251524561045</li>\n",
       "</ol>\n"
      ],
      "text/latex": [
       "\\begin{enumerate*}\n",
       "\\item 1.54497337376624\n",
       "\\item 4.28752805230955\n",
       "\\item 0.523709947091144\n",
       "\\item 1.19719865851853\n",
       "\\item 3.68615628640839\n",
       "\\item 3.83974426916262\n",
       "\\item 0.638950833656004\n",
       "\\item 1.51848992293151\n",
       "\\item 0.102828893182339\n",
       "\\item 0.166251524561045\n",
       "\\end{enumerate*}\n"
      ],
      "text/markdown": [
       "1. 1.54497337376624\n",
       "2. 4.28752805230955\n",
       "3. 0.523709947091144\n",
       "4. 1.19719865851853\n",
       "5. 3.68615628640839\n",
       "6. 3.83974426916262\n",
       "7. 0.638950833656004\n",
       "8. 1.51848992293151\n",
       "9. 0.102828893182339\n",
       "10. 0.166251524561045\n",
       "\n",
       "\n"
      ],
      "text/plain": [
       " [1] 1.5449734 4.2875281 0.5237099 1.1971987 3.6861563 3.8397443 0.6389508\n",
       " [8] 1.5184899 0.1028289 0.1662515"
      ]
     },
     "metadata": {},
     "output_type": "display_data"
    }
   ],
   "source": [
    "z3 = rgamma(10^1,1)\n",
    "z3"
   ]
  },
  {
   "cell_type": "code",
   "execution_count": 10,
   "metadata": {},
   "outputs": [
    {
     "data": {
      "text/html": [
       "<ol class=list-inline>\n",
       "\t<li>0</li>\n",
       "\t<li>1</li>\n",
       "\t<li>2</li>\n",
       "\t<li>2</li>\n",
       "\t<li>0</li>\n",
       "\t<li>3</li>\n",
       "\t<li>1</li>\n",
       "\t<li>2</li>\n",
       "\t<li>2</li>\n",
       "\t<li>1</li>\n",
       "</ol>\n"
      ],
      "text/latex": [
       "\\begin{enumerate*}\n",
       "\\item 0\n",
       "\\item 1\n",
       "\\item 2\n",
       "\\item 2\n",
       "\\item 0\n",
       "\\item 3\n",
       "\\item 1\n",
       "\\item 2\n",
       "\\item 2\n",
       "\\item 1\n",
       "\\end{enumerate*}\n"
      ],
      "text/markdown": [
       "1. 0\n",
       "2. 1\n",
       "3. 2\n",
       "4. 2\n",
       "5. 0\n",
       "6. 3\n",
       "7. 1\n",
       "8. 2\n",
       "9. 2\n",
       "10. 1\n",
       "\n",
       "\n"
      ],
      "text/plain": [
       " [1] 0 1 2 2 0 3 1 2 2 1"
      ]
     },
     "metadata": {},
     "output_type": "display_data"
    }
   ],
   "source": [
    "rpois(10^1,1)"
   ]
  },
  {
   "cell_type": "code",
   "execution_count": 11,
   "metadata": {},
   "outputs": [
    {
     "data": {
      "text/html": [
       "<ol class=list-inline>\n",
       "\t<li>0.973580197166897</li>\n",
       "\t<li>2.01831885427301</li>\n",
       "\t<li>0.477406143328301</li>\n",
       "\t<li>0.104121995894066</li>\n",
       "\t<li>0.846054426160752</li>\n",
       "\t<li>1.25577615022899</li>\n",
       "\t<li>1.07907503835382</li>\n",
       "\t<li>3.32059614548632</li>\n",
       "\t<li>1.67094650259075</li>\n",
       "\t<li>1.19682258217472</li>\n",
       "</ol>\n"
      ],
      "text/latex": [
       "\\begin{enumerate*}\n",
       "\\item 0.973580197166897\n",
       "\\item 2.01831885427301\n",
       "\\item 0.477406143328301\n",
       "\\item 0.104121995894066\n",
       "\\item 0.846054426160752\n",
       "\\item 1.25577615022899\n",
       "\\item 1.07907503835382\n",
       "\\item 3.32059614548632\n",
       "\\item 1.67094650259075\n",
       "\\item 1.19682258217472\n",
       "\\end{enumerate*}\n"
      ],
      "text/markdown": [
       "1. 0.973580197166897\n",
       "2. 2.01831885427301\n",
       "3. 0.477406143328301\n",
       "4. 0.104121995894066\n",
       "5. 0.846054426160752\n",
       "6. 1.25577615022899\n",
       "7. 1.07907503835382\n",
       "8. 3.32059614548632\n",
       "9. 1.67094650259075\n",
       "10. 1.19682258217472\n",
       "\n",
       "\n"
      ],
      "text/plain": [
       " [1] 0.9735802 2.0183189 0.4774061 0.1041220 0.8460544 1.2557762 1.0790750\n",
       " [8] 3.3205961 1.6709465 1.1968226"
      ]
     },
     "metadata": {},
     "output_type": "display_data"
    }
   ],
   "source": [
    "rweibull(10^1,1)"
   ]
  },
  {
   "cell_type": "code",
   "execution_count": 12,
   "metadata": {},
   "outputs": [
    {
     "data": {
      "text/html": [
       "<ol class=list-inline>\n",
       "\t<li>-5.2120216826905</li>\n",
       "\t<li>-0.189397945948422</li>\n",
       "\t<li>-0.230263472346735</li>\n",
       "\t<li>4.61324367772925</li>\n",
       "\t<li>1.08973436733438</li>\n",
       "\t<li>2.7747305985118</li>\n",
       "\t<li>1.57744078380391</li>\n",
       "\t<li>0.759536865998586</li>\n",
       "\t<li>5.83699567074114</li>\n",
       "\t<li>0.353974974594612</li>\n",
       "</ol>\n"
      ],
      "text/latex": [
       "\\begin{enumerate*}\n",
       "\\item -5.2120216826905\n",
       "\\item -0.189397945948422\n",
       "\\item -0.230263472346735\n",
       "\\item 4.61324367772925\n",
       "\\item 1.08973436733438\n",
       "\\item 2.7747305985118\n",
       "\\item 1.57744078380391\n",
       "\\item 0.759536865998586\n",
       "\\item 5.83699567074114\n",
       "\\item 0.353974974594612\n",
       "\\end{enumerate*}\n"
      ],
      "text/markdown": [
       "1. -5.2120216826905\n",
       "2. -0.189397945948422\n",
       "3. -0.230263472346735\n",
       "4. 4.61324367772925\n",
       "5. 1.08973436733438\n",
       "6. 2.7747305985118\n",
       "7. 1.57744078380391\n",
       "8. 0.759536865998586\n",
       "9. 5.83699567074114\n",
       "10. 0.353974974594612\n",
       "\n",
       "\n"
      ],
      "text/plain": [
       " [1] -5.2120217 -0.1893979 -0.2302635  4.6132437  1.0897344  2.7747306\n",
       " [7]  1.5774408  0.7595369  5.8369957  0.3539750"
      ]
     },
     "metadata": {},
     "output_type": "display_data"
    }
   ],
   "source": [
    "rcauchy(10^1,1)"
   ]
  },
  {
   "cell_type": "code",
   "execution_count": 13,
   "metadata": {},
   "outputs": [
    {
     "data": {
      "text/html": [
       "<ol class=list-inline>\n",
       "\t<li>0.934947842266411</li>\n",
       "\t<li>0.347282344009727</li>\n",
       "\t<li>0.952020111959428</li>\n",
       "\t<li>0.848515746882185</li>\n",
       "\t<li>0.70224702428095</li>\n",
       "\t<li>0.964448369340971</li>\n",
       "\t<li>0.428132584318519</li>\n",
       "\t<li>0.491699629230425</li>\n",
       "\t<li>0.0734063773415983</li>\n",
       "\t<li>0.170868766494095</li>\n",
       "</ol>\n"
      ],
      "text/latex": [
       "\\begin{enumerate*}\n",
       "\\item 0.934947842266411\n",
       "\\item 0.347282344009727\n",
       "\\item 0.952020111959428\n",
       "\\item 0.848515746882185\n",
       "\\item 0.70224702428095\n",
       "\\item 0.964448369340971\n",
       "\\item 0.428132584318519\n",
       "\\item 0.491699629230425\n",
       "\\item 0.0734063773415983\n",
       "\\item 0.170868766494095\n",
       "\\end{enumerate*}\n"
      ],
      "text/markdown": [
       "1. 0.934947842266411\n",
       "2. 0.347282344009727\n",
       "3. 0.952020111959428\n",
       "4. 0.848515746882185\n",
       "5. 0.70224702428095\n",
       "6. 0.964448369340971\n",
       "7. 0.428132584318519\n",
       "8. 0.491699629230425\n",
       "9. 0.0734063773415983\n",
       "10. 0.170868766494095\n",
       "\n",
       "\n"
      ],
      "text/plain": [
       " [1] 0.93494784 0.34728234 0.95202011 0.84851575 0.70224702 0.96444837\n",
       " [7] 0.42813258 0.49169963 0.07340638 0.17086877"
      ]
     },
     "metadata": {},
     "output_type": "display_data"
    }
   ],
   "source": [
    "rbeta(10^1, 1,1)"
   ]
  },
  {
   "cell_type": "code",
   "execution_count": 14,
   "metadata": {},
   "outputs": [
    {
     "data": {
      "text/html": [
       "<ol class=list-inline>\n",
       "\t<li>-0.367956356271435</li>\n",
       "\t<li>-1.642247234325</li>\n",
       "\t<li>8.08433518600886</li>\n",
       "\t<li>0.59958625420838</li>\n",
       "\t<li>-2.62156923695587</li>\n",
       "\t<li>-0.167707766012726</li>\n",
       "\t<li>-1.30783859420008</li>\n",
       "\t<li>1.19084362068721</li>\n",
       "\t<li>2.60889553320167</li>\n",
       "\t<li>2.72108074136503</li>\n",
       "</ol>\n"
      ],
      "text/latex": [
       "\\begin{enumerate*}\n",
       "\\item -0.367956356271435\n",
       "\\item -1.642247234325\n",
       "\\item 8.08433518600886\n",
       "\\item 0.59958625420838\n",
       "\\item -2.62156923695587\n",
       "\\item -0.167707766012726\n",
       "\\item -1.30783859420008\n",
       "\\item 1.19084362068721\n",
       "\\item 2.60889553320167\n",
       "\\item 2.72108074136503\n",
       "\\end{enumerate*}\n"
      ],
      "text/markdown": [
       "1. -0.367956356271435\n",
       "2. -1.642247234325\n",
       "3. 8.08433518600886\n",
       "4. 0.59958625420838\n",
       "5. -2.62156923695587\n",
       "6. -0.167707766012726\n",
       "7. -1.30783859420008\n",
       "8. 1.19084362068721\n",
       "9. 2.60889553320167\n",
       "10. 2.72108074136503\n",
       "\n",
       "\n"
      ],
      "text/plain": [
       " [1] -0.3679564 -1.6422472  8.0843352  0.5995863 -2.6215692 -0.1677078\n",
       " [7] -1.3078386  1.1908436  2.6088955  2.7210807"
      ]
     },
     "metadata": {},
     "output_type": "display_data"
    }
   ],
   "source": [
    "rt(10^1,1)"
   ]
  },
  {
   "cell_type": "code",
   "execution_count": 15,
   "metadata": {},
   "outputs": [
    {
     "data": {
      "text/html": [
       "<ol class=list-inline>\n",
       "\t<li>0.353656873875631</li>\n",
       "\t<li>1.41034642613676</li>\n",
       "\t<li>0.060659717284602</li>\n",
       "\t<li>0.000862690617958982</li>\n",
       "\t<li>0.429667411031068</li>\n",
       "\t<li>10.5272764052938</li>\n",
       "\t<li>0.941543864533302</li>\n",
       "\t<li>51.32184549116</li>\n",
       "\t<li>0.00054696789543078</li>\n",
       "\t<li>1.50513154361237</li>\n",
       "</ol>\n"
      ],
      "text/latex": [
       "\\begin{enumerate*}\n",
       "\\item 0.353656873875631\n",
       "\\item 1.41034642613676\n",
       "\\item 0.060659717284602\n",
       "\\item 0.000862690617958982\n",
       "\\item 0.429667411031068\n",
       "\\item 10.5272764052938\n",
       "\\item 0.941543864533302\n",
       "\\item 51.32184549116\n",
       "\\item 0.00054696789543078\n",
       "\\item 1.50513154361237\n",
       "\\end{enumerate*}\n"
      ],
      "text/markdown": [
       "1. 0.353656873875631\n",
       "2. 1.41034642613676\n",
       "3. 0.060659717284602\n",
       "4. 0.000862690617958982\n",
       "5. 0.429667411031068\n",
       "6. 10.5272764052938\n",
       "7. 0.941543864533302\n",
       "8. 51.32184549116\n",
       "9. 0.00054696789543078\n",
       "10. 1.50513154361237\n",
       "\n",
       "\n"
      ],
      "text/plain": [
       " [1] 3.536569e-01 1.410346e+00 6.065972e-02 8.626906e-04 4.296674e-01\n",
       " [6] 1.052728e+01 9.415439e-01 5.132185e+01 5.469679e-04 1.505132e+00"
      ]
     },
     "metadata": {},
     "output_type": "display_data"
    }
   ],
   "source": [
    "rf(10^1,1,1)"
   ]
  },
  {
   "cell_type": "markdown",
   "metadata": {},
   "source": [
    "## Distribución $\\chi^{2}$ de Pearson\n",
    "\n",
    "La prueba $\\chi^{2}$ de Pearson se considera una prueba no paramétrica que mide la discrepancia entre una distribución observada y otra teórica (bondad de ajuste), indicando en qué medida las diferencias existentes entre ambas, de haberlas, se deben al azar en el contraste de hipótesis. También se utiliza para probar la independencia de dos variables entre sí, mediante la presentación de los datos en tablas de contingencia."
   ]
  },
  {
   "cell_type": "code",
   "execution_count": 16,
   "metadata": {},
   "outputs": [
    {
     "data": {
      "text/html": [
       "<ol class=list-inline>\n",
       "\t<li>0.864109435917465</li>\n",
       "\t<li>0.000248124362132195</li>\n",
       "\t<li>0.277524459713257</li>\n",
       "\t<li>0.0102349965816976</li>\n",
       "\t<li>0.767298658460108</li>\n",
       "\t<li>0.0453762929755445</li>\n",
       "\t<li>0.662563276505833</li>\n",
       "\t<li>0.0500690520344611</li>\n",
       "\t<li>0.720244553591888</li>\n",
       "\t<li>0.454703505665323</li>\n",
       "</ol>\n"
      ],
      "text/latex": [
       "\\begin{enumerate*}\n",
       "\\item 0.864109435917465\n",
       "\\item 0.000248124362132195\n",
       "\\item 0.277524459713257\n",
       "\\item 0.0102349965816976\n",
       "\\item 0.767298658460108\n",
       "\\item 0.0453762929755445\n",
       "\\item 0.662563276505833\n",
       "\\item 0.0500690520344611\n",
       "\\item 0.720244553591888\n",
       "\\item 0.454703505665323\n",
       "\\end{enumerate*}\n"
      ],
      "text/markdown": [
       "1. 0.864109435917465\n",
       "2. 0.000248124362132195\n",
       "3. 0.277524459713257\n",
       "4. 0.0102349965816976\n",
       "5. 0.767298658460108\n",
       "6. 0.0453762929755445\n",
       "7. 0.662563276505833\n",
       "8. 0.0500690520344611\n",
       "9. 0.720244553591888\n",
       "10. 0.454703505665323\n",
       "\n",
       "\n"
      ],
      "text/plain": [
       " [1] 0.8641094359 0.0002481244 0.2775244597 0.0102349966 0.7672986585\n",
       " [6] 0.0453762930 0.6625632765 0.0500690520 0.7202445536 0.4547035057"
      ]
     },
     "metadata": {},
     "output_type": "display_data"
    }
   ],
   "source": [
    "rchisq(10^1,1)"
   ]
  },
  {
   "cell_type": "code",
   "execution_count": 17,
   "metadata": {
    "scrolled": true
   },
   "outputs": [
    {
     "data": {
      "text/html": [
       "<ol class=list-inline>\n",
       "\t<li>1</li>\n",
       "\t<li>2</li>\n",
       "\t<li>3</li>\n",
       "\t<li>4</li>\n",
       "\t<li>5</li>\n",
       "\t<li>6</li>\n",
       "\t<li>7</li>\n",
       "\t<li>8</li>\n",
       "\t<li>9</li>\n",
       "\t<li>10</li>\n",
       "\t<li>11</li>\n",
       "\t<li>12</li>\n",
       "\t<li>13</li>\n",
       "\t<li>14</li>\n",
       "\t<li>15</li>\n",
       "\t<li>16</li>\n",
       "\t<li>17</li>\n",
       "\t<li>18</li>\n",
       "\t<li>19</li>\n",
       "\t<li>20</li>\n",
       "\t<li>21</li>\n",
       "\t<li>22</li>\n",
       "\t<li>23</li>\n",
       "\t<li>24</li>\n",
       "\t<li>25</li>\n",
       "\t<li>26</li>\n",
       "\t<li>27</li>\n",
       "\t<li>28</li>\n",
       "\t<li>29</li>\n",
       "\t<li>30</li>\n",
       "\t<li>31</li>\n",
       "\t<li>32</li>\n",
       "\t<li>33</li>\n",
       "\t<li>34</li>\n",
       "\t<li>35</li>\n",
       "\t<li>36</li>\n",
       "\t<li>37</li>\n",
       "\t<li>38</li>\n",
       "\t<li>39</li>\n",
       "\t<li>40</li>\n",
       "\t<li>41</li>\n",
       "\t<li>42</li>\n",
       "\t<li>43</li>\n",
       "\t<li>44</li>\n",
       "\t<li>45</li>\n",
       "\t<li>46</li>\n",
       "\t<li>47</li>\n",
       "\t<li>48</li>\n",
       "\t<li>49</li>\n",
       "\t<li>50</li>\n",
       "\t<li>51</li>\n",
       "\t<li>52</li>\n",
       "\t<li>53</li>\n",
       "\t<li>54</li>\n",
       "\t<li>55</li>\n",
       "\t<li>56</li>\n",
       "\t<li>57</li>\n",
       "\t<li>58</li>\n",
       "\t<li>59</li>\n",
       "\t<li>60</li>\n",
       "\t<li>61</li>\n",
       "\t<li>62</li>\n",
       "\t<li>63</li>\n",
       "\t<li>64</li>\n",
       "\t<li>65</li>\n",
       "\t<li>66</li>\n",
       "\t<li>67</li>\n",
       "\t<li>68</li>\n",
       "\t<li>69</li>\n",
       "\t<li>70</li>\n",
       "\t<li>71</li>\n",
       "\t<li>72</li>\n",
       "\t<li>73</li>\n",
       "\t<li>74</li>\n",
       "\t<li>75</li>\n",
       "\t<li>76</li>\n",
       "\t<li>77</li>\n",
       "\t<li>78</li>\n",
       "\t<li>79</li>\n",
       "\t<li>80</li>\n",
       "\t<li>81</li>\n",
       "\t<li>82</li>\n",
       "\t<li>83</li>\n",
       "\t<li>84</li>\n",
       "\t<li>85</li>\n",
       "\t<li>86</li>\n",
       "\t<li>87</li>\n",
       "\t<li>88</li>\n",
       "\t<li>89</li>\n",
       "\t<li>90</li>\n",
       "\t<li>91</li>\n",
       "\t<li>92</li>\n",
       "\t<li>93</li>\n",
       "\t<li>94</li>\n",
       "\t<li>95</li>\n",
       "\t<li>96</li>\n",
       "\t<li>97</li>\n",
       "\t<li>98</li>\n",
       "\t<li>99</li>\n",
       "\t<li>100</li>\n",
       "</ol>\n"
      ],
      "text/latex": [
       "\\begin{enumerate*}\n",
       "\\item 1\n",
       "\\item 2\n",
       "\\item 3\n",
       "\\item 4\n",
       "\\item 5\n",
       "\\item 6\n",
       "\\item 7\n",
       "\\item 8\n",
       "\\item 9\n",
       "\\item 10\n",
       "\\item 11\n",
       "\\item 12\n",
       "\\item 13\n",
       "\\item 14\n",
       "\\item 15\n",
       "\\item 16\n",
       "\\item 17\n",
       "\\item 18\n",
       "\\item 19\n",
       "\\item 20\n",
       "\\item 21\n",
       "\\item 22\n",
       "\\item 23\n",
       "\\item 24\n",
       "\\item 25\n",
       "\\item 26\n",
       "\\item 27\n",
       "\\item 28\n",
       "\\item 29\n",
       "\\item 30\n",
       "\\item 31\n",
       "\\item 32\n",
       "\\item 33\n",
       "\\item 34\n",
       "\\item 35\n",
       "\\item 36\n",
       "\\item 37\n",
       "\\item 38\n",
       "\\item 39\n",
       "\\item 40\n",
       "\\item 41\n",
       "\\item 42\n",
       "\\item 43\n",
       "\\item 44\n",
       "\\item 45\n",
       "\\item 46\n",
       "\\item 47\n",
       "\\item 48\n",
       "\\item 49\n",
       "\\item 50\n",
       "\\item 51\n",
       "\\item 52\n",
       "\\item 53\n",
       "\\item 54\n",
       "\\item 55\n",
       "\\item 56\n",
       "\\item 57\n",
       "\\item 58\n",
       "\\item 59\n",
       "\\item 60\n",
       "\\item 61\n",
       "\\item 62\n",
       "\\item 63\n",
       "\\item 64\n",
       "\\item 65\n",
       "\\item 66\n",
       "\\item 67\n",
       "\\item 68\n",
       "\\item 69\n",
       "\\item 70\n",
       "\\item 71\n",
       "\\item 72\n",
       "\\item 73\n",
       "\\item 74\n",
       "\\item 75\n",
       "\\item 76\n",
       "\\item 77\n",
       "\\item 78\n",
       "\\item 79\n",
       "\\item 80\n",
       "\\item 81\n",
       "\\item 82\n",
       "\\item 83\n",
       "\\item 84\n",
       "\\item 85\n",
       "\\item 86\n",
       "\\item 87\n",
       "\\item 88\n",
       "\\item 89\n",
       "\\item 90\n",
       "\\item 91\n",
       "\\item 92\n",
       "\\item 93\n",
       "\\item 94\n",
       "\\item 95\n",
       "\\item 96\n",
       "\\item 97\n",
       "\\item 98\n",
       "\\item 99\n",
       "\\item 100\n",
       "\\end{enumerate*}\n"
      ],
      "text/markdown": [
       "1. 1\n",
       "2. 2\n",
       "3. 3\n",
       "4. 4\n",
       "5. 5\n",
       "6. 6\n",
       "7. 7\n",
       "8. 8\n",
       "9. 9\n",
       "10. 10\n",
       "11. 11\n",
       "12. 12\n",
       "13. 13\n",
       "14. 14\n",
       "15. 15\n",
       "16. 16\n",
       "17. 17\n",
       "18. 18\n",
       "19. 19\n",
       "20. 20\n",
       "21. 21\n",
       "22. 22\n",
       "23. 23\n",
       "24. 24\n",
       "25. 25\n",
       "26. 26\n",
       "27. 27\n",
       "28. 28\n",
       "29. 29\n",
       "30. 30\n",
       "31. 31\n",
       "32. 32\n",
       "33. 33\n",
       "34. 34\n",
       "35. 35\n",
       "36. 36\n",
       "37. 37\n",
       "38. 38\n",
       "39. 39\n",
       "40. 40\n",
       "41. 41\n",
       "42. 42\n",
       "43. 43\n",
       "44. 44\n",
       "45. 45\n",
       "46. 46\n",
       "47. 47\n",
       "48. 48\n",
       "49. 49\n",
       "50. 50\n",
       "51. 51\n",
       "52. 52\n",
       "53. 53\n",
       "54. 54\n",
       "55. 55\n",
       "56. 56\n",
       "57. 57\n",
       "58. 58\n",
       "59. 59\n",
       "60. 60\n",
       "61. 61\n",
       "62. 62\n",
       "63. 63\n",
       "64. 64\n",
       "65. 65\n",
       "66. 66\n",
       "67. 67\n",
       "68. 68\n",
       "69. 69\n",
       "70. 70\n",
       "71. 71\n",
       "72. 72\n",
       "73. 73\n",
       "74. 74\n",
       "75. 75\n",
       "76. 76\n",
       "77. 77\n",
       "78. 78\n",
       "79. 79\n",
       "80. 80\n",
       "81. 81\n",
       "82. 82\n",
       "83. 83\n",
       "84. 84\n",
       "85. 85\n",
       "86. 86\n",
       "87. 87\n",
       "88. 88\n",
       "89. 89\n",
       "90. 90\n",
       "91. 91\n",
       "92. 92\n",
       "93. 93\n",
       "94. 94\n",
       "95. 95\n",
       "96. 96\n",
       "97. 97\n",
       "98. 98\n",
       "99. 99\n",
       "100. 100\n",
       "\n",
       "\n"
      ],
      "text/plain": [
       "  [1]   1   2   3   4   5   6   7   8   9  10  11  12  13  14  15  16  17  18\n",
       " [19]  19  20  21  22  23  24  25  26  27  28  29  30  31  32  33  34  35  36\n",
       " [37]  37  38  39  40  41  42  43  44  45  46  47  48  49  50  51  52  53  54\n",
       " [55]  55  56  57  58  59  60  61  62  63  64  65  66  67  68  69  70  71  72\n",
       " [73]  73  74  75  76  77  78  79  80  81  82  83  84  85  86  87  88  89  90\n",
       " [91]  91  92  93  94  95  96  97  98  99 100"
      ]
     },
     "metadata": {},
     "output_type": "display_data"
    }
   ],
   "source": [
    "x0 <- 1:100; x0"
   ]
  },
  {
   "cell_type": "code",
   "execution_count": 18,
   "metadata": {},
   "outputs": [
    {
     "data": {
      "text/html": [
       "<table>\n",
       "<thead><tr><th scope=col>sp</th><th scope=col>sex</th><th scope=col>index</th><th scope=col>FL</th><th scope=col>RW</th><th scope=col>CL</th><th scope=col>CW</th><th scope=col>BD</th></tr></thead>\n",
       "<tbody>\n",
       "\t<tr><td>B   </td><td>M   </td><td> 1  </td><td> 8.1</td><td> 6.7</td><td>16.1</td><td>19.0</td><td> 7.0</td></tr>\n",
       "\t<tr><td>B   </td><td>M   </td><td> 2  </td><td> 8.8</td><td> 7.7</td><td>18.1</td><td>20.8</td><td> 7.4</td></tr>\n",
       "\t<tr><td>B   </td><td>M   </td><td> 3  </td><td> 9.2</td><td> 7.8</td><td>19.0</td><td>22.4</td><td> 7.7</td></tr>\n",
       "\t<tr><td>B   </td><td>M   </td><td> 4  </td><td> 9.6</td><td> 7.9</td><td>20.1</td><td>23.1</td><td> 8.2</td></tr>\n",
       "\t<tr><td>B   </td><td>M   </td><td> 5  </td><td> 9.8</td><td> 8.0</td><td>20.3</td><td>23.0</td><td> 8.2</td></tr>\n",
       "\t<tr><td>B   </td><td>M   </td><td> 6  </td><td>10.8</td><td> 9.0</td><td>23.0</td><td>26.5</td><td> 9.8</td></tr>\n",
       "\t<tr><td>B   </td><td>M   </td><td> 7  </td><td>11.1</td><td> 9.9</td><td>23.8</td><td>27.1</td><td> 9.8</td></tr>\n",
       "\t<tr><td>B   </td><td>M   </td><td> 8  </td><td>11.6</td><td> 9.1</td><td>24.5</td><td>28.4</td><td>10.4</td></tr>\n",
       "\t<tr><td>B   </td><td>M   </td><td> 9  </td><td>11.8</td><td> 9.6</td><td>24.2</td><td>27.8</td><td> 9.7</td></tr>\n",
       "\t<tr><td>B   </td><td>M   </td><td>10  </td><td>11.8</td><td>10.5</td><td>25.2</td><td>29.3</td><td>10.3</td></tr>\n",
       "\t<tr><td>B   </td><td>M   </td><td>11  </td><td>12.2</td><td>10.8</td><td>27.3</td><td>31.6</td><td>10.9</td></tr>\n",
       "\t<tr><td>B   </td><td>M   </td><td>12  </td><td>12.3</td><td>11.0</td><td>26.8</td><td>31.5</td><td>11.4</td></tr>\n",
       "\t<tr><td>B   </td><td>M   </td><td>13  </td><td>12.6</td><td>10.0</td><td>27.7</td><td>31.7</td><td>11.4</td></tr>\n",
       "\t<tr><td>B   </td><td>M   </td><td>14  </td><td>12.8</td><td>10.2</td><td>27.2</td><td>31.8</td><td>10.9</td></tr>\n",
       "\t<tr><td>B   </td><td>M   </td><td>15  </td><td>12.8</td><td>10.9</td><td>27.4</td><td>31.5</td><td>11.0</td></tr>\n",
       "\t<tr><td>B   </td><td>M   </td><td>16  </td><td>12.9</td><td>11.0</td><td>26.8</td><td>30.9</td><td>11.4</td></tr>\n",
       "\t<tr><td>B   </td><td>M   </td><td>17  </td><td>13.1</td><td>10.6</td><td>28.2</td><td>32.3</td><td>11.0</td></tr>\n",
       "\t<tr><td>B   </td><td>M   </td><td>18  </td><td>13.1</td><td>10.9</td><td>28.3</td><td>32.4</td><td>11.2</td></tr>\n",
       "\t<tr><td>B   </td><td>M   </td><td>19  </td><td>13.3</td><td>11.1</td><td>27.8</td><td>32.3</td><td>11.3</td></tr>\n",
       "\t<tr><td>B   </td><td>M   </td><td>20  </td><td>13.9</td><td>11.1</td><td>29.2</td><td>33.3</td><td>12.1</td></tr>\n",
       "\t<tr><td>B   </td><td>M   </td><td>21  </td><td>14.3</td><td>11.6</td><td>31.3</td><td>35.5</td><td>12.7</td></tr>\n",
       "\t<tr><td>B   </td><td>M   </td><td>22  </td><td>14.6</td><td>11.3</td><td>31.9</td><td>36.4</td><td>13.7</td></tr>\n",
       "\t<tr><td>B   </td><td>M   </td><td>23  </td><td>15.0</td><td>10.9</td><td>31.4</td><td>36.4</td><td>13.2</td></tr>\n",
       "\t<tr><td>B   </td><td>M   </td><td>24  </td><td>15.0</td><td>11.5</td><td>32.4</td><td>37.0</td><td>13.4</td></tr>\n",
       "\t<tr><td>B   </td><td>M   </td><td>25  </td><td>15.0</td><td>11.9</td><td>32.5</td><td>37.2</td><td>13.6</td></tr>\n",
       "\t<tr><td>B   </td><td>M   </td><td>26  </td><td>15.2</td><td>12.1</td><td>32.3</td><td>36.7</td><td>13.6</td></tr>\n",
       "\t<tr><td>B   </td><td>M   </td><td>27  </td><td>15.4</td><td>11.8</td><td>33.0</td><td>37.5</td><td>13.6</td></tr>\n",
       "\t<tr><td>B   </td><td>M   </td><td>28  </td><td>15.7</td><td>12.6</td><td>35.8</td><td>40.3</td><td>14.5</td></tr>\n",
       "\t<tr><td>B   </td><td>M   </td><td>29  </td><td>15.9</td><td>12.7</td><td>34.0</td><td>38.9</td><td>14.2</td></tr>\n",
       "\t<tr><td>B   </td><td>M   </td><td>30  </td><td>16.1</td><td>11.6</td><td>33.8</td><td>39.0</td><td>14.4</td></tr>\n",
       "\t<tr><td>⋮</td><td>⋮</td><td>⋮</td><td>⋮</td><td>⋮</td><td>⋮</td><td>⋮</td><td>⋮</td></tr>\n",
       "\t<tr><td>O   </td><td>F   </td><td>21  </td><td>17.5</td><td>14.3</td><td>34.5</td><td>39.6</td><td>15.6</td></tr>\n",
       "\t<tr><td>O   </td><td>F   </td><td>22  </td><td>17.5</td><td>14.4</td><td>34.5</td><td>39.0</td><td>16.0</td></tr>\n",
       "\t<tr><td>O   </td><td>F   </td><td>23  </td><td>17.5</td><td>14.7</td><td>33.3</td><td>37.6</td><td>14.6</td></tr>\n",
       "\t<tr><td>O   </td><td>F   </td><td>24  </td><td>17.6</td><td>14.0</td><td>34.0</td><td>38.6</td><td>15.5</td></tr>\n",
       "\t<tr><td>O   </td><td>F   </td><td>25  </td><td>18.0</td><td>14.9</td><td>34.7</td><td>39.5</td><td>15.7</td></tr>\n",
       "\t<tr><td>O   </td><td>F   </td><td>26  </td><td>18.0</td><td>16.3</td><td>37.9</td><td>43.0</td><td>17.2</td></tr>\n",
       "\t<tr><td>O   </td><td>F   </td><td>27  </td><td>18.3</td><td>15.7</td><td>35.1</td><td>40.5</td><td>16.1</td></tr>\n",
       "\t<tr><td>O   </td><td>F   </td><td>28  </td><td>18.4</td><td>15.5</td><td>35.6</td><td>40.0</td><td>15.9</td></tr>\n",
       "\t<tr><td>O   </td><td>F   </td><td>29  </td><td>18.4</td><td>15.7</td><td>36.5</td><td>41.6</td><td>16.4</td></tr>\n",
       "\t<tr><td>O   </td><td>F   </td><td>30  </td><td>18.5</td><td>14.6</td><td>37.0</td><td>42.0</td><td>16.6</td></tr>\n",
       "\t<tr><td>O   </td><td>F   </td><td>31  </td><td>18.6</td><td>14.5</td><td>34.7</td><td>39.4</td><td>15.0</td></tr>\n",
       "\t<tr><td>O   </td><td>F   </td><td>32  </td><td>18.8</td><td>15.2</td><td>35.8</td><td>40.5</td><td>16.6</td></tr>\n",
       "\t<tr><td>O   </td><td>F   </td><td>33  </td><td>18.9</td><td>16.7</td><td>36.3</td><td>41.7</td><td>15.3</td></tr>\n",
       "\t<tr><td>O   </td><td>F   </td><td>34  </td><td>19.1</td><td>16.0</td><td>37.8</td><td>42.3</td><td>16.8</td></tr>\n",
       "\t<tr><td>O   </td><td>F   </td><td>35  </td><td>19.1</td><td>16.3</td><td>37.9</td><td>42.6</td><td>17.2</td></tr>\n",
       "\t<tr><td>O   </td><td>F   </td><td>36  </td><td>19.7</td><td>16.7</td><td>39.9</td><td>43.6</td><td>18.2</td></tr>\n",
       "\t<tr><td>O   </td><td>F   </td><td>37  </td><td>19.9</td><td>16.6</td><td>39.4</td><td>43.9</td><td>17.9</td></tr>\n",
       "\t<tr><td>O   </td><td>F   </td><td>38  </td><td>19.9</td><td>17.9</td><td>40.1</td><td>46.4</td><td>17.9</td></tr>\n",
       "\t<tr><td>O   </td><td>F   </td><td>39  </td><td>20.0</td><td>16.7</td><td>40.4</td><td>45.1</td><td>17.7</td></tr>\n",
       "\t<tr><td>O   </td><td>F   </td><td>40  </td><td>20.1</td><td>17.2</td><td>39.8</td><td>44.1</td><td>18.6</td></tr>\n",
       "\t<tr><td>O   </td><td>F   </td><td>41  </td><td>20.3</td><td>16.0</td><td>39.4</td><td>44.1</td><td>18.0</td></tr>\n",
       "\t<tr><td>O   </td><td>F   </td><td>42  </td><td>20.5</td><td>17.5</td><td>40.0</td><td>45.5</td><td>19.2</td></tr>\n",
       "\t<tr><td>O   </td><td>F   </td><td>43  </td><td>20.6</td><td>17.5</td><td>41.5</td><td>46.2</td><td>19.2</td></tr>\n",
       "\t<tr><td>O   </td><td>F   </td><td>44  </td><td>20.9</td><td>16.5</td><td>39.9</td><td>44.7</td><td>17.5</td></tr>\n",
       "\t<tr><td>O   </td><td>F   </td><td>45  </td><td>21.3</td><td>18.4</td><td>43.8</td><td>48.4</td><td>20.0</td></tr>\n",
       "\t<tr><td>O   </td><td>F   </td><td>46  </td><td>21.4</td><td>18.0</td><td>41.2</td><td>46.2</td><td>18.7</td></tr>\n",
       "\t<tr><td>O   </td><td>F   </td><td>47  </td><td>21.7</td><td>17.1</td><td>41.7</td><td>47.2</td><td>19.6</td></tr>\n",
       "\t<tr><td>O   </td><td>F   </td><td>48  </td><td>21.9</td><td>17.2</td><td>42.6</td><td>47.4</td><td>19.5</td></tr>\n",
       "\t<tr><td>O   </td><td>F   </td><td>49  </td><td>22.5</td><td>17.2</td><td>43.0</td><td>48.7</td><td>19.8</td></tr>\n",
       "\t<tr><td>O   </td><td>F   </td><td>50  </td><td>23.1</td><td>20.2</td><td>46.2</td><td>52.5</td><td>21.1</td></tr>\n",
       "</tbody>\n",
       "</table>\n"
      ],
      "text/latex": [
       "\\begin{tabular}{r|llllllll}\n",
       " sp & sex & index & FL & RW & CL & CW & BD\\\\\n",
       "\\hline\n",
       "\t B    & M    &  1   &  8.1 &  6.7 & 16.1 & 19.0 &  7.0\\\\\n",
       "\t B    & M    &  2   &  8.8 &  7.7 & 18.1 & 20.8 &  7.4\\\\\n",
       "\t B    & M    &  3   &  9.2 &  7.8 & 19.0 & 22.4 &  7.7\\\\\n",
       "\t B    & M    &  4   &  9.6 &  7.9 & 20.1 & 23.1 &  8.2\\\\\n",
       "\t B    & M    &  5   &  9.8 &  8.0 & 20.3 & 23.0 &  8.2\\\\\n",
       "\t B    & M    &  6   & 10.8 &  9.0 & 23.0 & 26.5 &  9.8\\\\\n",
       "\t B    & M    &  7   & 11.1 &  9.9 & 23.8 & 27.1 &  9.8\\\\\n",
       "\t B    & M    &  8   & 11.6 &  9.1 & 24.5 & 28.4 & 10.4\\\\\n",
       "\t B    & M    &  9   & 11.8 &  9.6 & 24.2 & 27.8 &  9.7\\\\\n",
       "\t B    & M    & 10   & 11.8 & 10.5 & 25.2 & 29.3 & 10.3\\\\\n",
       "\t B    & M    & 11   & 12.2 & 10.8 & 27.3 & 31.6 & 10.9\\\\\n",
       "\t B    & M    & 12   & 12.3 & 11.0 & 26.8 & 31.5 & 11.4\\\\\n",
       "\t B    & M    & 13   & 12.6 & 10.0 & 27.7 & 31.7 & 11.4\\\\\n",
       "\t B    & M    & 14   & 12.8 & 10.2 & 27.2 & 31.8 & 10.9\\\\\n",
       "\t B    & M    & 15   & 12.8 & 10.9 & 27.4 & 31.5 & 11.0\\\\\n",
       "\t B    & M    & 16   & 12.9 & 11.0 & 26.8 & 30.9 & 11.4\\\\\n",
       "\t B    & M    & 17   & 13.1 & 10.6 & 28.2 & 32.3 & 11.0\\\\\n",
       "\t B    & M    & 18   & 13.1 & 10.9 & 28.3 & 32.4 & 11.2\\\\\n",
       "\t B    & M    & 19   & 13.3 & 11.1 & 27.8 & 32.3 & 11.3\\\\\n",
       "\t B    & M    & 20   & 13.9 & 11.1 & 29.2 & 33.3 & 12.1\\\\\n",
       "\t B    & M    & 21   & 14.3 & 11.6 & 31.3 & 35.5 & 12.7\\\\\n",
       "\t B    & M    & 22   & 14.6 & 11.3 & 31.9 & 36.4 & 13.7\\\\\n",
       "\t B    & M    & 23   & 15.0 & 10.9 & 31.4 & 36.4 & 13.2\\\\\n",
       "\t B    & M    & 24   & 15.0 & 11.5 & 32.4 & 37.0 & 13.4\\\\\n",
       "\t B    & M    & 25   & 15.0 & 11.9 & 32.5 & 37.2 & 13.6\\\\\n",
       "\t B    & M    & 26   & 15.2 & 12.1 & 32.3 & 36.7 & 13.6\\\\\n",
       "\t B    & M    & 27   & 15.4 & 11.8 & 33.0 & 37.5 & 13.6\\\\\n",
       "\t B    & M    & 28   & 15.7 & 12.6 & 35.8 & 40.3 & 14.5\\\\\n",
       "\t B    & M    & 29   & 15.9 & 12.7 & 34.0 & 38.9 & 14.2\\\\\n",
       "\t B    & M    & 30   & 16.1 & 11.6 & 33.8 & 39.0 & 14.4\\\\\n",
       "\t ⋮ & ⋮ & ⋮ & ⋮ & ⋮ & ⋮ & ⋮ & ⋮\\\\\n",
       "\t O    & F    & 21   & 17.5 & 14.3 & 34.5 & 39.6 & 15.6\\\\\n",
       "\t O    & F    & 22   & 17.5 & 14.4 & 34.5 & 39.0 & 16.0\\\\\n",
       "\t O    & F    & 23   & 17.5 & 14.7 & 33.3 & 37.6 & 14.6\\\\\n",
       "\t O    & F    & 24   & 17.6 & 14.0 & 34.0 & 38.6 & 15.5\\\\\n",
       "\t O    & F    & 25   & 18.0 & 14.9 & 34.7 & 39.5 & 15.7\\\\\n",
       "\t O    & F    & 26   & 18.0 & 16.3 & 37.9 & 43.0 & 17.2\\\\\n",
       "\t O    & F    & 27   & 18.3 & 15.7 & 35.1 & 40.5 & 16.1\\\\\n",
       "\t O    & F    & 28   & 18.4 & 15.5 & 35.6 & 40.0 & 15.9\\\\\n",
       "\t O    & F    & 29   & 18.4 & 15.7 & 36.5 & 41.6 & 16.4\\\\\n",
       "\t O    & F    & 30   & 18.5 & 14.6 & 37.0 & 42.0 & 16.6\\\\\n",
       "\t O    & F    & 31   & 18.6 & 14.5 & 34.7 & 39.4 & 15.0\\\\\n",
       "\t O    & F    & 32   & 18.8 & 15.2 & 35.8 & 40.5 & 16.6\\\\\n",
       "\t O    & F    & 33   & 18.9 & 16.7 & 36.3 & 41.7 & 15.3\\\\\n",
       "\t O    & F    & 34   & 19.1 & 16.0 & 37.8 & 42.3 & 16.8\\\\\n",
       "\t O    & F    & 35   & 19.1 & 16.3 & 37.9 & 42.6 & 17.2\\\\\n",
       "\t O    & F    & 36   & 19.7 & 16.7 & 39.9 & 43.6 & 18.2\\\\\n",
       "\t O    & F    & 37   & 19.9 & 16.6 & 39.4 & 43.9 & 17.9\\\\\n",
       "\t O    & F    & 38   & 19.9 & 17.9 & 40.1 & 46.4 & 17.9\\\\\n",
       "\t O    & F    & 39   & 20.0 & 16.7 & 40.4 & 45.1 & 17.7\\\\\n",
       "\t O    & F    & 40   & 20.1 & 17.2 & 39.8 & 44.1 & 18.6\\\\\n",
       "\t O    & F    & 41   & 20.3 & 16.0 & 39.4 & 44.1 & 18.0\\\\\n",
       "\t O    & F    & 42   & 20.5 & 17.5 & 40.0 & 45.5 & 19.2\\\\\n",
       "\t O    & F    & 43   & 20.6 & 17.5 & 41.5 & 46.2 & 19.2\\\\\n",
       "\t O    & F    & 44   & 20.9 & 16.5 & 39.9 & 44.7 & 17.5\\\\\n",
       "\t O    & F    & 45   & 21.3 & 18.4 & 43.8 & 48.4 & 20.0\\\\\n",
       "\t O    & F    & 46   & 21.4 & 18.0 & 41.2 & 46.2 & 18.7\\\\\n",
       "\t O    & F    & 47   & 21.7 & 17.1 & 41.7 & 47.2 & 19.6\\\\\n",
       "\t O    & F    & 48   & 21.9 & 17.2 & 42.6 & 47.4 & 19.5\\\\\n",
       "\t O    & F    & 49   & 22.5 & 17.2 & 43.0 & 48.7 & 19.8\\\\\n",
       "\t O    & F    & 50   & 23.1 & 20.2 & 46.2 & 52.5 & 21.1\\\\\n",
       "\\end{tabular}\n"
      ],
      "text/markdown": [
       "\n",
       "sp | sex | index | FL | RW | CL | CW | BD | \n",
       "|---|---|---|---|---|---|---|---|---|---|---|---|---|---|---|---|---|---|---|---|---|---|---|---|---|---|---|---|---|---|---|---|---|---|---|---|---|---|---|---|---|---|---|---|---|---|---|---|---|---|---|---|---|---|---|---|---|---|---|---|---|\n",
       "| B    | M    |  1   |  8.1 |  6.7 | 16.1 | 19.0 |  7.0 | \n",
       "| B    | M    |  2   |  8.8 |  7.7 | 18.1 | 20.8 |  7.4 | \n",
       "| B    | M    |  3   |  9.2 |  7.8 | 19.0 | 22.4 |  7.7 | \n",
       "| B    | M    |  4   |  9.6 |  7.9 | 20.1 | 23.1 |  8.2 | \n",
       "| B    | M    |  5   |  9.8 |  8.0 | 20.3 | 23.0 |  8.2 | \n",
       "| B    | M    |  6   | 10.8 |  9.0 | 23.0 | 26.5 |  9.8 | \n",
       "| B    | M    |  7   | 11.1 |  9.9 | 23.8 | 27.1 |  9.8 | \n",
       "| B    | M    |  8   | 11.6 |  9.1 | 24.5 | 28.4 | 10.4 | \n",
       "| B    | M    |  9   | 11.8 |  9.6 | 24.2 | 27.8 |  9.7 | \n",
       "| B    | M    | 10   | 11.8 | 10.5 | 25.2 | 29.3 | 10.3 | \n",
       "| B    | M    | 11   | 12.2 | 10.8 | 27.3 | 31.6 | 10.9 | \n",
       "| B    | M    | 12   | 12.3 | 11.0 | 26.8 | 31.5 | 11.4 | \n",
       "| B    | M    | 13   | 12.6 | 10.0 | 27.7 | 31.7 | 11.4 | \n",
       "| B    | M    | 14   | 12.8 | 10.2 | 27.2 | 31.8 | 10.9 | \n",
       "| B    | M    | 15   | 12.8 | 10.9 | 27.4 | 31.5 | 11.0 | \n",
       "| B    | M    | 16   | 12.9 | 11.0 | 26.8 | 30.9 | 11.4 | \n",
       "| B    | M    | 17   | 13.1 | 10.6 | 28.2 | 32.3 | 11.0 | \n",
       "| B    | M    | 18   | 13.1 | 10.9 | 28.3 | 32.4 | 11.2 | \n",
       "| B    | M    | 19   | 13.3 | 11.1 | 27.8 | 32.3 | 11.3 | \n",
       "| B    | M    | 20   | 13.9 | 11.1 | 29.2 | 33.3 | 12.1 | \n",
       "| B    | M    | 21   | 14.3 | 11.6 | 31.3 | 35.5 | 12.7 | \n",
       "| B    | M    | 22   | 14.6 | 11.3 | 31.9 | 36.4 | 13.7 | \n",
       "| B    | M    | 23   | 15.0 | 10.9 | 31.4 | 36.4 | 13.2 | \n",
       "| B    | M    | 24   | 15.0 | 11.5 | 32.4 | 37.0 | 13.4 | \n",
       "| B    | M    | 25   | 15.0 | 11.9 | 32.5 | 37.2 | 13.6 | \n",
       "| B    | M    | 26   | 15.2 | 12.1 | 32.3 | 36.7 | 13.6 | \n",
       "| B    | M    | 27   | 15.4 | 11.8 | 33.0 | 37.5 | 13.6 | \n",
       "| B    | M    | 28   | 15.7 | 12.6 | 35.8 | 40.3 | 14.5 | \n",
       "| B    | M    | 29   | 15.9 | 12.7 | 34.0 | 38.9 | 14.2 | \n",
       "| B    | M    | 30   | 16.1 | 11.6 | 33.8 | 39.0 | 14.4 | \n",
       "| ⋮ | ⋮ | ⋮ | ⋮ | ⋮ | ⋮ | ⋮ | ⋮ | \n",
       "| O    | F    | 21   | 17.5 | 14.3 | 34.5 | 39.6 | 15.6 | \n",
       "| O    | F    | 22   | 17.5 | 14.4 | 34.5 | 39.0 | 16.0 | \n",
       "| O    | F    | 23   | 17.5 | 14.7 | 33.3 | 37.6 | 14.6 | \n",
       "| O    | F    | 24   | 17.6 | 14.0 | 34.0 | 38.6 | 15.5 | \n",
       "| O    | F    | 25   | 18.0 | 14.9 | 34.7 | 39.5 | 15.7 | \n",
       "| O    | F    | 26   | 18.0 | 16.3 | 37.9 | 43.0 | 17.2 | \n",
       "| O    | F    | 27   | 18.3 | 15.7 | 35.1 | 40.5 | 16.1 | \n",
       "| O    | F    | 28   | 18.4 | 15.5 | 35.6 | 40.0 | 15.9 | \n",
       "| O    | F    | 29   | 18.4 | 15.7 | 36.5 | 41.6 | 16.4 | \n",
       "| O    | F    | 30   | 18.5 | 14.6 | 37.0 | 42.0 | 16.6 | \n",
       "| O    | F    | 31   | 18.6 | 14.5 | 34.7 | 39.4 | 15.0 | \n",
       "| O    | F    | 32   | 18.8 | 15.2 | 35.8 | 40.5 | 16.6 | \n",
       "| O    | F    | 33   | 18.9 | 16.7 | 36.3 | 41.7 | 15.3 | \n",
       "| O    | F    | 34   | 19.1 | 16.0 | 37.8 | 42.3 | 16.8 | \n",
       "| O    | F    | 35   | 19.1 | 16.3 | 37.9 | 42.6 | 17.2 | \n",
       "| O    | F    | 36   | 19.7 | 16.7 | 39.9 | 43.6 | 18.2 | \n",
       "| O    | F    | 37   | 19.9 | 16.6 | 39.4 | 43.9 | 17.9 | \n",
       "| O    | F    | 38   | 19.9 | 17.9 | 40.1 | 46.4 | 17.9 | \n",
       "| O    | F    | 39   | 20.0 | 16.7 | 40.4 | 45.1 | 17.7 | \n",
       "| O    | F    | 40   | 20.1 | 17.2 | 39.8 | 44.1 | 18.6 | \n",
       "| O    | F    | 41   | 20.3 | 16.0 | 39.4 | 44.1 | 18.0 | \n",
       "| O    | F    | 42   | 20.5 | 17.5 | 40.0 | 45.5 | 19.2 | \n",
       "| O    | F    | 43   | 20.6 | 17.5 | 41.5 | 46.2 | 19.2 | \n",
       "| O    | F    | 44   | 20.9 | 16.5 | 39.9 | 44.7 | 17.5 | \n",
       "| O    | F    | 45   | 21.3 | 18.4 | 43.8 | 48.4 | 20.0 | \n",
       "| O    | F    | 46   | 21.4 | 18.0 | 41.2 | 46.2 | 18.7 | \n",
       "| O    | F    | 47   | 21.7 | 17.1 | 41.7 | 47.2 | 19.6 | \n",
       "| O    | F    | 48   | 21.9 | 17.2 | 42.6 | 47.4 | 19.5 | \n",
       "| O    | F    | 49   | 22.5 | 17.2 | 43.0 | 48.7 | 19.8 | \n",
       "| O    | F    | 50   | 23.1 | 20.2 | 46.2 | 52.5 | 21.1 | \n",
       "\n",
       "\n"
      ],
      "text/plain": [
       "    sp sex index FL   RW   CL   CW   BD  \n",
       "1   B  M    1     8.1  6.7 16.1 19.0  7.0\n",
       "2   B  M    2     8.8  7.7 18.1 20.8  7.4\n",
       "3   B  M    3     9.2  7.8 19.0 22.4  7.7\n",
       "4   B  M    4     9.6  7.9 20.1 23.1  8.2\n",
       "5   B  M    5     9.8  8.0 20.3 23.0  8.2\n",
       "6   B  M    6    10.8  9.0 23.0 26.5  9.8\n",
       "7   B  M    7    11.1  9.9 23.8 27.1  9.8\n",
       "8   B  M    8    11.6  9.1 24.5 28.4 10.4\n",
       "9   B  M    9    11.8  9.6 24.2 27.8  9.7\n",
       "10  B  M   10    11.8 10.5 25.2 29.3 10.3\n",
       "11  B  M   11    12.2 10.8 27.3 31.6 10.9\n",
       "12  B  M   12    12.3 11.0 26.8 31.5 11.4\n",
       "13  B  M   13    12.6 10.0 27.7 31.7 11.4\n",
       "14  B  M   14    12.8 10.2 27.2 31.8 10.9\n",
       "15  B  M   15    12.8 10.9 27.4 31.5 11.0\n",
       "16  B  M   16    12.9 11.0 26.8 30.9 11.4\n",
       "17  B  M   17    13.1 10.6 28.2 32.3 11.0\n",
       "18  B  M   18    13.1 10.9 28.3 32.4 11.2\n",
       "19  B  M   19    13.3 11.1 27.8 32.3 11.3\n",
       "20  B  M   20    13.9 11.1 29.2 33.3 12.1\n",
       "21  B  M   21    14.3 11.6 31.3 35.5 12.7\n",
       "22  B  M   22    14.6 11.3 31.9 36.4 13.7\n",
       "23  B  M   23    15.0 10.9 31.4 36.4 13.2\n",
       "24  B  M   24    15.0 11.5 32.4 37.0 13.4\n",
       "25  B  M   25    15.0 11.9 32.5 37.2 13.6\n",
       "26  B  M   26    15.2 12.1 32.3 36.7 13.6\n",
       "27  B  M   27    15.4 11.8 33.0 37.5 13.6\n",
       "28  B  M   28    15.7 12.6 35.8 40.3 14.5\n",
       "29  B  M   29    15.9 12.7 34.0 38.9 14.2\n",
       "30  B  M   30    16.1 11.6 33.8 39.0 14.4\n",
       "⋮   ⋮  ⋮   ⋮     ⋮    ⋮    ⋮    ⋮    ⋮   \n",
       "171 O  F   21    17.5 14.3 34.5 39.6 15.6\n",
       "172 O  F   22    17.5 14.4 34.5 39.0 16.0\n",
       "173 O  F   23    17.5 14.7 33.3 37.6 14.6\n",
       "174 O  F   24    17.6 14.0 34.0 38.6 15.5\n",
       "175 O  F   25    18.0 14.9 34.7 39.5 15.7\n",
       "176 O  F   26    18.0 16.3 37.9 43.0 17.2\n",
       "177 O  F   27    18.3 15.7 35.1 40.5 16.1\n",
       "178 O  F   28    18.4 15.5 35.6 40.0 15.9\n",
       "179 O  F   29    18.4 15.7 36.5 41.6 16.4\n",
       "180 O  F   30    18.5 14.6 37.0 42.0 16.6\n",
       "181 O  F   31    18.6 14.5 34.7 39.4 15.0\n",
       "182 O  F   32    18.8 15.2 35.8 40.5 16.6\n",
       "183 O  F   33    18.9 16.7 36.3 41.7 15.3\n",
       "184 O  F   34    19.1 16.0 37.8 42.3 16.8\n",
       "185 O  F   35    19.1 16.3 37.9 42.6 17.2\n",
       "186 O  F   36    19.7 16.7 39.9 43.6 18.2\n",
       "187 O  F   37    19.9 16.6 39.4 43.9 17.9\n",
       "188 O  F   38    19.9 17.9 40.1 46.4 17.9\n",
       "189 O  F   39    20.0 16.7 40.4 45.1 17.7\n",
       "190 O  F   40    20.1 17.2 39.8 44.1 18.6\n",
       "191 O  F   41    20.3 16.0 39.4 44.1 18.0\n",
       "192 O  F   42    20.5 17.5 40.0 45.5 19.2\n",
       "193 O  F   43    20.6 17.5 41.5 46.2 19.2\n",
       "194 O  F   44    20.9 16.5 39.9 44.7 17.5\n",
       "195 O  F   45    21.3 18.4 43.8 48.4 20.0\n",
       "196 O  F   46    21.4 18.0 41.2 46.2 18.7\n",
       "197 O  F   47    21.7 17.1 41.7 47.2 19.6\n",
       "198 O  F   48    21.9 17.2 42.6 47.4 19.5\n",
       "199 O  F   49    22.5 17.2 43.0 48.7 19.8\n",
       "200 O  F   50    23.1 20.2 46.2 52.5 21.1"
      ]
     },
     "metadata": {},
     "output_type": "display_data"
    }
   ],
   "source": [
    "library(MASS) # Cargar la librería Support Functions and Datasets for Venables and Ripley's MASS\n",
    "bd <- crabs # Asignar crabs a bd, también funciona si reemplazamos '<-' por '='.\n",
    "bd # Mostrar bd."
   ]
  },
  {
   "cell_type": "markdown",
   "metadata": {},
   "source": [
    "Se puede usar corchetes o $. Se entiende rápidamente.\n",
    "\n",
    "Llamado tipo matricial, espacio (todo)\n",
    ", separa filas y columnas.\n",
    "\n",
    "No depende tanto del nombre, sino de la matriz."
   ]
  },
  {
   "cell_type": "code",
   "execution_count": 19,
   "metadata": {},
   "outputs": [
    {
     "data": {
      "text/html": [
       "<ol class=list-inline>\n",
       "\t<li>A</li>\n",
       "\t<li>B</li>\n",
       "\t<li>C</li>\n",
       "</ol>\n"
      ],
      "text/latex": [
       "\\begin{enumerate*}\n",
       "\\item A\n",
       "\\item B\n",
       "\\item C\n",
       "\\end{enumerate*}\n"
      ],
      "text/markdown": [
       "1. A\n",
       "2. B\n",
       "3. C\n",
       "\n",
       "\n"
      ],
      "text/plain": [
       "[1] A B C\n",
       "Levels: A B C"
      ]
     },
     "metadata": {},
     "output_type": "display_data"
    }
   ],
   "source": [
    "factor(1:3, labels=c(\"A\", \"B\", \"C\"))"
   ]
  },
  {
   "cell_type": "markdown",
   "metadata": {},
   "source": [
    "Es un factor, al final aparece Levels: X Y.\n",
    "\n",
    "Factor se parece a un vector, pero puede guardar información como texto, pero dentro de R es un número.\n",
    "\n",
    "Hemos visto vector, dataframe y factor (coloca un mensaje en niveles.)\n",
    "\n",
    "En el objeto factor(1:3, labels=c(\"A\", \"B\", \"C\")), el c después de label debe ser en minúscula.\n",
    "\n",
    "factor es un \"vector enriquecido\" o un vector con etiquetas.\n",
    "\n",
    "factor se utiliza más en un dataframe, las columnas, las variables, normalmente van a ser vectores o factores.\n",
    "Las columnas de un data frame, casi siempre son vectores o factor.\n",
    "\n",
    "Un data frame está compuesto de vectores o factores.\n",
    "\n",
    "La matriz es un arreglo numérico que puede contener números o texto.\n",
    "\n",
    "Si contiene texto y número todo es convertido a texto.\n",
    "\n",
    "El dataframe puede almacenar texto y número sin cambiar sus propiedades, la matriz si lo cambia.\n",
    "\n",
    "En cambio la matriz cambia sus tipos da datos al insertar texto y números.\n",
    "\n",
    "En un data frame, debe tener todas la misma cantidad de filas.\n",
    "\n",
    "En una matriz cuando no coincide el tamaño va a repetir la columna hasta completar, en cambio en el dataframe muestra el mensaje NA.\n",
    "\n",
    "La carga es por columnas, si se desea cargar por filas se ingresa el siguiente comando:\n",
    "\n",
    "Con matrix es muy fácil hacer un llamado, cuando llamamos a un elemento de un marco de datos puede salir como vector o factor, en cambio en el caso de la matriz siempre sale como vector.\n",
    "\n",
    "En una matriz reescribe los elementos que les falta.\n",
    "\n",
    "En un data frame no se muestra corchetas, cada fila se le llama casos.\n",
    "\n",
    "Un data frame nace de las historias médicas.\n",
    "\n",
    "Si no lleva [ e s un data frame.\n",
    "\n",
    "Cuando se hace el llamado columna por columna lo devuelve exactamente como era.\n",
    "\n",
    "Si se desea guardar texto y número es preferible usar un data frame, en cambio, si se va a trabajar con número o texto es preferible usar una matriz.\n",
    "\n",
    "Una lista puede guardar cualquier tipo de objeto.\n",
    "\n",
    "Incluso puede contener a otra lista.\n",
    "\n",
    "Una lista usualmente contiene dataframe, matriz, vector, factor, lista.\n",
    "\n",
    "Las listas se utilizan cuando se usan funciones.\n",
    "\n",
    "Una lista es el objeto que usa R para expulsar salidas de funciones muy complejas.\n",
    "\n",
    "Incluso uno de esas salidas puede ser un gráfica.\n",
    "\n",
    "El hecho de hacer cambios tiende a modificar los elementos.\n",
    "\n",
    "Nos gustaría que no se modifica el objeto en el proceso.\n",
    "\n",
    "En el ejemplo A es un vector y B es un factor.\n",
    "\n",
    "Podeos imprimir algún elemento del vector con x[[1]][1] por ejemplo.\n",
    "\n",
    "El código no se altera si le damos ENTER después de una coma ,. Pero no es cierto cuando va entre comillas.\n",
    "\n",
    "Sirve para analizar series de tiempo.\n",
    "\n",
    "R está dirigido a series de tiempos.\n",
    "\n",
    "Serie de tiempo no es una variable. Se explicará después.\n",
    "\n",
    "Se puede aplicar un percentil a una serie de tiempo. Debe existir orden o una mediana.\n",
    "\n",
    "R es general para muchas disciplinas.\n",
    "\n",
    "Para la parte matemática se puede usar el comando expression().\n",
    "\n",
    "Para 0 está reservado el falso, para lo demás será verdadero.\n",
    "\n",
    "Si fuera matriz iría los corchetes en los encabezados.\n",
    "\n",
    "El comando mode nos dice de qué tipo es el objeto vector, por ejemplo numeric or character.\n",
    "\n",
    "Normalmente cada clase va a ser evaluada, la tercera clase habría una evaluación y también una evaluación final.\n",
    "\n",
    "Los gráficos son sencillos y se deben programar.\n",
    "\n",
    "Recomendación: Leer el libro.\n",
    "\n",
    "Cada dispositivo gráfico lo explica parámetro a parámetro, superposición de gráficos.\n",
    "\n",
    "Java de 64 bits, R nativo, borren y actualicen los permisos. Usen de 64 bits.\n",
    "\n",
    "Codificación al latin1 al gurdar el script."
   ]
  },
  {
   "cell_type": "code",
   "execution_count": 1,
   "metadata": {},
   "outputs": [
    {
     "data": {
      "text/plain": [
       "               _                           \n",
       "platform       x86_64-conda_cos6-linux-gnu \n",
       "arch           x86_64                      \n",
       "os             linux-gnu                   \n",
       "system         x86_64, linux-gnu           \n",
       "status                                     \n",
       "major          3                           \n",
       "minor          4.2                         \n",
       "year           2017                        \n",
       "month          09                          \n",
       "day            28                          \n",
       "svn rev        73368                       \n",
       "language       R                           \n",
       "version.string R version 3.4.2 (2017-09-28)\n",
       "nickname       Short Summer                "
      ]
     },
     "metadata": {},
     "output_type": "display_data"
    }
   ],
   "source": [
    "version"
   ]
  },
  {
   "cell_type": "code",
   "execution_count": 20,
   "metadata": {},
   "outputs": [
    {
     "data": {
      "text/html": [
       "<ol class=list-inline>\n",
       "\t<li>'Curso Rstudio 6.pptx'</li>\n",
       "\t<li>'ejemplo1.R'</li>\n",
       "\t<li>'ejemplo2.R'</li>\n",
       "\t<li>'Primera clase.ipynb'</li>\n",
       "\t<li>'README.md'</li>\n",
       "</ol>\n"
      ],
      "text/latex": [
       "\\begin{enumerate*}\n",
       "\\item 'Curso Rstudio 6.pptx'\n",
       "\\item 'ejemplo1.R'\n",
       "\\item 'ejemplo2.R'\n",
       "\\item 'Primera clase.ipynb'\n",
       "\\item 'README.md'\n",
       "\\end{enumerate*}\n"
      ],
      "text/markdown": [
       "1. 'Curso Rstudio 6.pptx'\n",
       "2. 'ejemplo1.R'\n",
       "3. 'ejemplo2.R'\n",
       "4. 'Primera clase.ipynb'\n",
       "5. 'README.md'\n",
       "\n",
       "\n"
      ],
      "text/plain": [
       "[1] \"Curso Rstudio 6.pptx\" \"ejemplo1.R\"           \"ejemplo2.R\"          \n",
       "[4] \"Primera clase.ipynb\"  \"README.md\"           "
      ]
     },
     "metadata": {},
     "output_type": "display_data"
    },
    {
     "data": {
      "text/html": [
       "<ol class=list-inline>\n",
       "\t<li>'Curso Rstudio 6.pptx'</li>\n",
       "\t<li>'ejemplo1.R'</li>\n",
       "\t<li>'ejemplo2.R'</li>\n",
       "\t<li>'Primera clase.ipynb'</li>\n",
       "\t<li>'README.md'</li>\n",
       "</ol>\n"
      ],
      "text/latex": [
       "\\begin{enumerate*}\n",
       "\\item 'Curso Rstudio 6.pptx'\n",
       "\\item 'ejemplo1.R'\n",
       "\\item 'ejemplo2.R'\n",
       "\\item 'Primera clase.ipynb'\n",
       "\\item 'README.md'\n",
       "\\end{enumerate*}\n"
      ],
      "text/markdown": [
       "1. 'Curso Rstudio 6.pptx'\n",
       "2. 'ejemplo1.R'\n",
       "3. 'ejemplo2.R'\n",
       "4. 'Primera clase.ipynb'\n",
       "5. 'README.md'\n",
       "\n",
       "\n"
      ],
      "text/plain": [
       "[1] \"Curso Rstudio 6.pptx\" \"ejemplo1.R\"           \"ejemplo2.R\"          \n",
       "[4] \"Primera clase.ipynb\"  \"README.md\"           "
      ]
     },
     "metadata": {},
     "output_type": "display_data"
    },
    {
     "name": "stdout",
     "output_type": "stream",
     "text": [
      " [1]  1  2  3  4  5  6  7  8  9 10 11 12 13 14 15 16 17 18 19 20 21 22 23 24 25\n",
      "[26] 26 27 28 29 30 31 32 33 34 35 36 37 38 39 40 41 42 43 44 45 46 47 48 49 50\n"
     ]
    }
   ],
   "source": [
    "variable = c(0,1,2,3,4)\n",
    "B <- scan()\n",
    "dir()\n",
    "# read.table()\n",
    "list.files()\n",
    "print(x)"
   ]
  },
  {
   "cell_type": "markdown",
   "metadata": {},
   "source": [
    "Parra borrar un objeto en particular\n",
    "Para borrar todos los objetos\n",
    "Para salir del programa\n",
    "Para observar los gráficos en R"
   ]
  },
  {
   "cell_type": "markdown",
   "metadata": {},
   "source": [
    "## Secuencias regulares"
   ]
  },
  {
   "cell_type": "code",
   "execution_count": 21,
   "metadata": {},
   "outputs": [
    {
     "data": {
      "text/html": [
       "<ol class=list-inline>\n",
       "\t<li>1</li>\n",
       "\t<li>2</li>\n",
       "\t<li>3</li>\n",
       "\t<li>4</li>\n",
       "\t<li>5</li>\n",
       "\t<li>6</li>\n",
       "\t<li>7</li>\n",
       "\t<li>8</li>\n",
       "\t<li>9</li>\n",
       "\t<li>10</li>\n",
       "\t<li>11</li>\n",
       "\t<li>12</li>\n",
       "\t<li>13</li>\n",
       "\t<li>14</li>\n",
       "\t<li>15</li>\n",
       "\t<li>16</li>\n",
       "\t<li>17</li>\n",
       "\t<li>18</li>\n",
       "\t<li>19</li>\n",
       "\t<li>20</li>\n",
       "\t<li>21</li>\n",
       "\t<li>22</li>\n",
       "\t<li>23</li>\n",
       "\t<li>24</li>\n",
       "\t<li>25</li>\n",
       "\t<li>26</li>\n",
       "\t<li>27</li>\n",
       "\t<li>28</li>\n",
       "\t<li>29</li>\n",
       "\t<li>30</li>\n",
       "</ol>\n"
      ],
      "text/latex": [
       "\\begin{enumerate*}\n",
       "\\item 1\n",
       "\\item 2\n",
       "\\item 3\n",
       "\\item 4\n",
       "\\item 5\n",
       "\\item 6\n",
       "\\item 7\n",
       "\\item 8\n",
       "\\item 9\n",
       "\\item 10\n",
       "\\item 11\n",
       "\\item 12\n",
       "\\item 13\n",
       "\\item 14\n",
       "\\item 15\n",
       "\\item 16\n",
       "\\item 17\n",
       "\\item 18\n",
       "\\item 19\n",
       "\\item 20\n",
       "\\item 21\n",
       "\\item 22\n",
       "\\item 23\n",
       "\\item 24\n",
       "\\item 25\n",
       "\\item 26\n",
       "\\item 27\n",
       "\\item 28\n",
       "\\item 29\n",
       "\\item 30\n",
       "\\end{enumerate*}\n"
      ],
      "text/markdown": [
       "1. 1\n",
       "2. 2\n",
       "3. 3\n",
       "4. 4\n",
       "5. 5\n",
       "6. 6\n",
       "7. 7\n",
       "8. 8\n",
       "9. 9\n",
       "10. 10\n",
       "11. 11\n",
       "12. 12\n",
       "13. 13\n",
       "14. 14\n",
       "15. 15\n",
       "16. 16\n",
       "17. 17\n",
       "18. 18\n",
       "19. 19\n",
       "20. 20\n",
       "21. 21\n",
       "22. 22\n",
       "23. 23\n",
       "24. 24\n",
       "25. 25\n",
       "26. 26\n",
       "27. 27\n",
       "28. 28\n",
       "29. 29\n",
       "30. 30\n",
       "\n",
       "\n"
      ],
      "text/plain": [
       " [1]  1  2  3  4  5  6  7  8  9 10 11 12 13 14 15 16 17 18 19 20 21 22 23 24 25\n",
       "[26] 26 27 28 29 30"
      ]
     },
     "metadata": {},
     "output_type": "display_data"
    },
    {
     "data": {
      "text/html": [
       "<ol class=list-inline>\n",
       "\t<li>0</li>\n",
       "\t<li>1</li>\n",
       "\t<li>2</li>\n",
       "\t<li>3</li>\n",
       "\t<li>4</li>\n",
       "\t<li>5</li>\n",
       "\t<li>6</li>\n",
       "\t<li>7</li>\n",
       "\t<li>8</li>\n",
       "\t<li>9</li>\n",
       "</ol>\n"
      ],
      "text/latex": [
       "\\begin{enumerate*}\n",
       "\\item 0\n",
       "\\item 1\n",
       "\\item 2\n",
       "\\item 3\n",
       "\\item 4\n",
       "\\item 5\n",
       "\\item 6\n",
       "\\item 7\n",
       "\\item 8\n",
       "\\item 9\n",
       "\\end{enumerate*}\n"
      ],
      "text/markdown": [
       "1. 0\n",
       "2. 1\n",
       "3. 2\n",
       "4. 3\n",
       "5. 4\n",
       "6. 5\n",
       "7. 6\n",
       "8. 7\n",
       "9. 8\n",
       "10. 9\n",
       "\n",
       "\n"
      ],
      "text/plain": [
       " [1] 0 1 2 3 4 5 6 7 8 9"
      ]
     },
     "metadata": {},
     "output_type": "display_data"
    },
    {
     "data": {
      "text/html": [
       "<ol class=list-inline>\n",
       "\t<li>1</li>\n",
       "\t<li>2</li>\n",
       "\t<li>3</li>\n",
       "\t<li>4</li>\n",
       "\t<li>5</li>\n",
       "\t<li>6</li>\n",
       "\t<li>7</li>\n",
       "\t<li>8</li>\n",
       "\t<li>9</li>\n",
       "</ol>\n"
      ],
      "text/latex": [
       "\\begin{enumerate*}\n",
       "\\item 1\n",
       "\\item 2\n",
       "\\item 3\n",
       "\\item 4\n",
       "\\item 5\n",
       "\\item 6\n",
       "\\item 7\n",
       "\\item 8\n",
       "\\item 9\n",
       "\\end{enumerate*}\n"
      ],
      "text/markdown": [
       "1. 1\n",
       "2. 2\n",
       "3. 3\n",
       "4. 4\n",
       "5. 5\n",
       "6. 6\n",
       "7. 7\n",
       "8. 8\n",
       "9. 9\n",
       "\n",
       "\n"
      ],
      "text/plain": [
       "[1] 1 2 3 4 5 6 7 8 9"
      ]
     },
     "metadata": {},
     "output_type": "display_data"
    },
    {
     "data": {
      "text/html": [
       "<ol class=list-inline>\n",
       "\t<li>1</li>\n",
       "\t<li>1.5</li>\n",
       "\t<li>2</li>\n",
       "\t<li>2.5</li>\n",
       "\t<li>3</li>\n",
       "\t<li>3.5</li>\n",
       "\t<li>4</li>\n",
       "\t<li>4.5</li>\n",
       "\t<li>5</li>\n",
       "</ol>\n"
      ],
      "text/latex": [
       "\\begin{enumerate*}\n",
       "\\item 1\n",
       "\\item 1.5\n",
       "\\item 2\n",
       "\\item 2.5\n",
       "\\item 3\n",
       "\\item 3.5\n",
       "\\item 4\n",
       "\\item 4.5\n",
       "\\item 5\n",
       "\\end{enumerate*}\n"
      ],
      "text/markdown": [
       "1. 1\n",
       "2. 1.5\n",
       "3. 2\n",
       "4. 2.5\n",
       "5. 3\n",
       "6. 3.5\n",
       "7. 4\n",
       "8. 4.5\n",
       "9. 5\n",
       "\n",
       "\n"
      ],
      "text/plain": [
       "[1] 1.0 1.5 2.0 2.5 3.0 3.5 4.0 4.5 5.0"
      ]
     },
     "metadata": {},
     "output_type": "display_data"
    },
    {
     "data": {
      "text/html": [
       "<ol class=list-inline>\n",
       "\t<li>1</li>\n",
       "\t<li>1.5</li>\n",
       "\t<li>2</li>\n",
       "\t<li>2.5</li>\n",
       "\t<li>3</li>\n",
       "\t<li>3.5</li>\n",
       "\t<li>4</li>\n",
       "\t<li>4.5</li>\n",
       "\t<li>5</li>\n",
       "</ol>\n"
      ],
      "text/latex": [
       "\\begin{enumerate*}\n",
       "\\item 1\n",
       "\\item 1.5\n",
       "\\item 2\n",
       "\\item 2.5\n",
       "\\item 3\n",
       "\\item 3.5\n",
       "\\item 4\n",
       "\\item 4.5\n",
       "\\item 5\n",
       "\\end{enumerate*}\n"
      ],
      "text/markdown": [
       "1. 1\n",
       "2. 1.5\n",
       "3. 2\n",
       "4. 2.5\n",
       "5. 3\n",
       "6. 3.5\n",
       "7. 4\n",
       "8. 4.5\n",
       "9. 5\n",
       "\n",
       "\n"
      ],
      "text/plain": [
       "[1] 1.0 1.5 2.0 2.5 3.0 3.5 4.0 4.5 5.0"
      ]
     },
     "metadata": {},
     "output_type": "display_data"
    },
    {
     "data": {
      "text/html": [],
      "text/latex": [],
      "text/markdown": [],
      "text/plain": [
       "numeric(0)"
      ]
     },
     "metadata": {},
     "output_type": "display_data"
    },
    {
     "data": {
      "text/html": [
       "<ol class=list-inline>\n",
       "\t<li>1</li>\n",
       "\t<li>2</li>\n",
       "\t<li>3</li>\n",
       "\t<li>4</li>\n",
       "\t<li>1</li>\n",
       "\t<li>2</li>\n",
       "\t<li>3</li>\n",
       "\t<li>4</li>\n",
       "\t<li>5</li>\n",
       "</ol>\n"
      ],
      "text/latex": [
       "\\begin{enumerate*}\n",
       "\\item 1\n",
       "\\item 2\n",
       "\\item 3\n",
       "\\item 4\n",
       "\\item 1\n",
       "\\item 2\n",
       "\\item 3\n",
       "\\item 4\n",
       "\\item 5\n",
       "\\end{enumerate*}\n"
      ],
      "text/markdown": [
       "1. 1\n",
       "2. 2\n",
       "3. 3\n",
       "4. 4\n",
       "5. 1\n",
       "6. 2\n",
       "7. 3\n",
       "8. 4\n",
       "9. 5\n",
       "\n",
       "\n"
      ],
      "text/plain": [
       "[1] 1 2 3 4 1 2 3 4 5"
      ]
     },
     "metadata": {},
     "output_type": "display_data"
    }
   ],
   "source": [
    "x1 <- 1:30; x1\n",
    "1:10-1\n",
    "1:(10-1)\n",
    "seq(1,5,0.5)\n",
    "c(1,1.5,2,2.5,3,3.5,4,4.5,5)\n",
    "z <- scan(); z\n",
    "sequence(4:5)"
   ]
  },
  {
   "cell_type": "markdown",
   "metadata": {},
   "source": [
    "## Tipos de datos"
   ]
  },
  {
   "cell_type": "code",
   "execution_count": 22,
   "metadata": {},
   "outputs": [
    {
     "data": {
      "text/html": [
       "<ol class=list-inline>\n",
       "\t<li>4</li>\n",
       "\t<li>4</li>\n",
       "\t<li>3</li>\n",
       "\t<li>2</li>\n",
       "</ol>\n"
      ],
      "text/latex": [
       "\\begin{enumerate*}\n",
       "\\item 4\n",
       "\\item 4\n",
       "\\item 3\n",
       "\\item 2\n",
       "\\end{enumerate*}\n"
      ],
      "text/markdown": [
       "1. 4\n",
       "2. 4\n",
       "3. 3\n",
       "4. 2\n",
       "\n",
       "\n"
      ],
      "text/plain": [
       "[1] 4 4 3 2"
      ]
     },
     "metadata": {},
     "output_type": "display_data"
    },
    {
     "data": {
      "text/html": [
       "<ol class=list-inline>\n",
       "\t<li>A</li>\n",
       "\t<li>B</li>\n",
       "\t<li>C</li>\n",
       "</ol>\n"
      ],
      "text/latex": [
       "\\begin{enumerate*}\n",
       "\\item A\n",
       "\\item B\n",
       "\\item C\n",
       "\\end{enumerate*}\n"
      ],
      "text/markdown": [
       "1. A\n",
       "2. B\n",
       "3. C\n",
       "\n",
       "\n"
      ],
      "text/plain": [
       "[1] A B C\n",
       "Levels: A B C"
      ]
     },
     "metadata": {},
     "output_type": "display_data"
    },
    {
     "data": {
      "text/html": [
       "<table>\n",
       "<tbody>\n",
       "\t<tr><td>1</td><td>2</td><td>3</td></tr>\n",
       "\t<tr><td>4</td><td>5</td><td>6</td></tr>\n",
       "</tbody>\n",
       "</table>\n"
      ],
      "text/latex": [
       "\\begin{tabular}{lll}\n",
       "\t 1 & 2 & 3\\\\\n",
       "\t 4 & 5 & 6\\\\\n",
       "\\end{tabular}\n"
      ],
      "text/markdown": [
       "\n",
       "| 1 | 2 | 3 | \n",
       "| 4 | 5 | 6 | \n",
       "\n",
       "\n"
      ],
      "text/plain": [
       "     [,1] [,2] [,3]\n",
       "[1,] 1    2    3   \n",
       "[2,] 4    5    6   "
      ]
     },
     "metadata": {},
     "output_type": "display_data"
    },
    {
     "data": {
      "text/html": [
       "<ol>\n",
       "\t<li><ol class=list-inline>\n",
       "\t<li>1</li>\n",
       "\t<li>2</li>\n",
       "\t<li>3</li>\n",
       "\t<li>4</li>\n",
       "</ol>\n",
       "</li>\n",
       "\t<li><ol class=list-inline>\n",
       "\t<li>2</li>\n",
       "\t<li>3</li>\n",
       "\t<li>4</li>\n",
       "</ol>\n",
       "</li>\n",
       "</ol>\n"
      ],
      "text/latex": [
       "\\begin{enumerate}\n",
       "\\item \\begin{enumerate*}\n",
       "\\item 1\n",
       "\\item 2\n",
       "\\item 3\n",
       "\\item 4\n",
       "\\end{enumerate*}\n",
       "\n",
       "\\item \\begin{enumerate*}\n",
       "\\item 2\n",
       "\\item 3\n",
       "\\item 4\n",
       "\\end{enumerate*}\n",
       "\n",
       "\\end{enumerate}\n"
      ],
      "text/markdown": [
       "1. 1. 1\n",
       "2. 2\n",
       "3. 3\n",
       "4. 4\n",
       "\n",
       "\n",
       "\n",
       "2. 1. 2\n",
       "2. 3\n",
       "3. 4\n",
       "\n",
       "\n",
       "\n",
       "\n",
       "\n"
      ],
      "text/plain": [
       "[[1]]\n",
       "[1] 1 2 3 4\n",
       "\n",
       "[[2]]\n",
       "[1] 2 3 4\n"
      ]
     },
     "metadata": {},
     "output_type": "display_data"
    },
    {
     "data": {
      "text/html": [
       "<dl>\n",
       "\t<dt>$A</dt>\n",
       "\t\t<dd><ol class=list-inline>\n",
       "\t<li>1</li>\n",
       "\t<li>2</li>\n",
       "\t<li>3</li>\n",
       "\t<li>4</li>\n",
       "</ol>\n",
       "</dd>\n",
       "\t<dt>$B</dt>\n",
       "\t\t<dd><ol class=list-inline>\n",
       "\t<li>2</li>\n",
       "\t<li>3</li>\n",
       "\t<li>4</li>\n",
       "</ol>\n",
       "</dd>\n",
       "</dl>\n"
      ],
      "text/latex": [
       "\\begin{description}\n",
       "\\item[\\$A] \\begin{enumerate*}\n",
       "\\item 1\n",
       "\\item 2\n",
       "\\item 3\n",
       "\\item 4\n",
       "\\end{enumerate*}\n",
       "\n",
       "\\item[\\$B] \\begin{enumerate*}\n",
       "\\item 2\n",
       "\\item 3\n",
       "\\item 4\n",
       "\\end{enumerate*}\n",
       "\n",
       "\\end{description}\n"
      ],
      "text/markdown": [
       "$A\n",
       ":   1. 1\n",
       "2. 2\n",
       "3. 3\n",
       "4. 4\n",
       "\n",
       "\n",
       "\n",
       "$B\n",
       ":   1. 2\n",
       "2. 3\n",
       "3. 4\n",
       "\n",
       "\n",
       "\n",
       "\n",
       "\n"
      ],
      "text/plain": [
       "$A\n",
       "[1] 1 2 3 4\n",
       "\n",
       "$B\n",
       "[1] 2 3 4\n"
      ]
     },
     "metadata": {},
     "output_type": "display_data"
    },
    {
     "data": {
      "text/plain": [
       "     Jan Feb Mar Apr May Jun Jul Aug Sep Oct Nov Dec\n",
       "1959       1   2   3   4   5   6   7   8   9  10  11\n",
       "1960  12  13  14  15  16  17  18  19  20  21  22  23\n",
       "1961  24  25  26  27  28  29  30  31  32  33  34  35\n",
       "1962  36  37  38  39  40  41  42  43  44  45  46  47"
      ]
     },
     "metadata": {},
     "output_type": "display_data"
    },
    {
     "data": {
      "text/plain": [
       "expression(x/(y + exp(z)))"
      ]
     },
     "metadata": {},
     "output_type": "display_data"
    },
    {
     "data": {
      "text/html": [
       "0.5749018735705"
      ],
      "text/latex": [
       "0.5749018735705"
      ],
      "text/markdown": [
       "0.5749018735705"
      ],
      "text/plain": [
       "[1] 0.5749019"
      ]
     },
     "metadata": {},
     "output_type": "display_data"
    }
   ],
   "source": [
    "c(4, 4, 3, 2)\n",
    "factor(1:3, label=c(\"A\",\"B\",\"C\"))\n",
    "matrix(1:6,2,3,byrow=TRUE)\n",
    "x <- 1:4 ; n <- 10; M <- c(10, 35); y <- 2:4\n",
    "L1 <- list(x,y) ; L2 <- list(A=x, B=y)\n",
    "L1\n",
    "L2\n",
    "ts(1:47, frequency = 12, start= c(1959,2))\n",
    "x <- 3; y <- 2.5; z <- 1\n",
    "exp1 <- expression(x / (y + exp(z)))\n",
    "exp1\n",
    "eval(exp1)"
   ]
  },
  {
   "cell_type": "markdown",
   "metadata": {},
   "source": [
    "## Conversión a numérico\n"
   ]
  },
  {
   "cell_type": "code",
   "execution_count": 23,
   "metadata": {},
   "outputs": [
    {
     "data": {
      "text/html": [
       "1"
      ],
      "text/latex": [
       "1"
      ],
      "text/markdown": [
       "1"
      ],
      "text/plain": [
       "[1] 1"
      ]
     },
     "metadata": {},
     "output_type": "display_data"
    },
    {
     "data": {
      "text/html": [
       "FALSE"
      ],
      "text/latex": [
       "FALSE"
      ],
      "text/markdown": [
       "FALSE"
      ],
      "text/plain": [
       "[1] FALSE"
      ]
     },
     "metadata": {},
     "output_type": "display_data"
    }
   ],
   "source": [
    "as.numeric(c(\"1\"))\n",
    "as.logical(5<1)"
   ]
  },
  {
   "cell_type": "markdown",
   "metadata": {},
   "source": [
    "## Operadores"
   ]
  },
  {
   "cell_type": "code",
   "execution_count": 24,
   "metadata": {},
   "outputs": [
    {
     "data": {
      "text/html": [
       "3.4"
      ],
      "text/latex": [
       "3.4"
      ],
      "text/markdown": [
       "3.4"
      ],
      "text/plain": [
       "[1] 3.4"
      ]
     },
     "metadata": {},
     "output_type": "display_data"
    },
    {
     "data": {
      "text/html": [
       "3"
      ],
      "text/latex": [
       "3"
      ],
      "text/markdown": [
       "3"
      ],
      "text/plain": [
       "[1] 3"
      ]
     },
     "metadata": {},
     "output_type": "display_data"
    },
    {
     "data": {
      "text/html": [
       "2"
      ],
      "text/latex": [
       "2"
      ],
      "text/markdown": [
       "2"
      ],
      "text/plain": [
       "[1] 2"
      ]
     },
     "metadata": {},
     "output_type": "display_data"
    }
   ],
   "source": [
    "17/5\n",
    "17%/%5\n",
    "17%%5"
   ]
  },
  {
   "cell_type": "markdown",
   "metadata": {},
   "source": [
    "## Algunos comandos extras\n",
    "\n",
    "Los siguientes comandos son importantes ya que nos permite verificar el directorio actual de trabajo, ver dónde se almacenan nuestros datos, listar los objetos y saber el tipo de objeto que se están empleando.\n",
    "\n",
    "### `getwd()`\n",
    "\n",
    "Devuelve un archivo de ruta absoluta que representa el directorio de trabajo actual del proceso R. Si el directorio de trabajo no está disponible, devuelve una cadena de caracteres o `NULL`."
   ]
  },
  {
   "cell_type": "code",
   "execution_count": 25,
   "metadata": {},
   "outputs": [
    {
     "data": {
      "text/html": [
       "'/home/carlosal1015/Escritorio/Curso-de-R-Studio/Primera clase'"
      ],
      "text/latex": [
       "'/home/carlosal1015/Escritorio/Curso-de-R-Studio/Primera clase'"
      ],
      "text/markdown": [
       "'/home/carlosal1015/Escritorio/Curso-de-R-Studio/Primera clase'"
      ],
      "text/plain": [
       "[1] \"/home/carlosal1015/Escritorio/Curso-de-R-Studio/Primera clase\""
      ]
     },
     "metadata": {},
     "output_type": "display_data"
    }
   ],
   "source": [
    "getwd()"
   ]
  },
  {
   "cell_type": "code",
   "execution_count": 26,
   "metadata": {},
   "outputs": [
    {
     "data": {
      "text/html": [
       "<ol class=list-inline>\n",
       "\t<li>'Curso Rstudio 6.pptx'</li>\n",
       "\t<li>'ejemplo1.R'</li>\n",
       "\t<li>'ejemplo2.R'</li>\n",
       "\t<li>'Primera clase.ipynb'</li>\n",
       "\t<li>'README.md'</li>\n",
       "</ol>\n"
      ],
      "text/latex": [
       "\\begin{enumerate*}\n",
       "\\item 'Curso Rstudio 6.pptx'\n",
       "\\item 'ejemplo1.R'\n",
       "\\item 'ejemplo2.R'\n",
       "\\item 'Primera clase.ipynb'\n",
       "\\item 'README.md'\n",
       "\\end{enumerate*}\n"
      ],
      "text/markdown": [
       "1. 'Curso Rstudio 6.pptx'\n",
       "2. 'ejemplo1.R'\n",
       "3. 'ejemplo2.R'\n",
       "4. 'Primera clase.ipynb'\n",
       "5. 'README.md'\n",
       "\n",
       "\n"
      ],
      "text/plain": [
       "[1] \"Curso Rstudio 6.pptx\" \"ejemplo1.R\"           \"ejemplo2.R\"          \n",
       "[4] \"Primera clase.ipynb\"  \"README.md\"           "
      ]
     },
     "metadata": {},
     "output_type": "display_data"
    }
   ],
   "source": [
    "dir()"
   ]
  },
  {
   "cell_type": "markdown",
   "metadata": {},
   "source": [
    "### `ls()` y `objects()`\n",
    "\n",
    "`ls()` y `objects()` devuelven un vector de cadenas de caracteres que dan los nombres de los objetos en el entorno especificado. Cuando se invoca sin argumentos en el indicador de nivel superior, l muestra qué conjuntos de datos y funciones ha definido un usuario. Cuando se invoca sin argumentos dentro de una función, ls devuelve los nombres de las variables locales de la función."
   ]
  },
  {
   "cell_type": "code",
   "execution_count": 27,
   "metadata": {},
   "outputs": [
    {
     "data": {
      "text/html": [
       "<ol class=list-inline>\n",
       "\t<li>'a'</li>\n",
       "\t<li>'b'</li>\n",
       "\t<li>'B'</li>\n",
       "\t<li>'bd'</li>\n",
       "\t<li>'exp1'</li>\n",
       "\t<li>'L1'</li>\n",
       "\t<li>'L2'</li>\n",
       "\t<li>'M'</li>\n",
       "\t<li>'n'</li>\n",
       "\t<li>'p'</li>\n",
       "\t<li>'q'</li>\n",
       "\t<li>'r'</li>\n",
       "\t<li>'variable'</li>\n",
       "\t<li>'x'</li>\n",
       "\t<li>'x0'</li>\n",
       "\t<li>'x1'</li>\n",
       "\t<li>'y'</li>\n",
       "\t<li>'z'</li>\n",
       "\t<li>'z1'</li>\n",
       "\t<li>'z2'</li>\n",
       "\t<li>'z3'</li>\n",
       "</ol>\n"
      ],
      "text/latex": [
       "\\begin{enumerate*}\n",
       "\\item 'a'\n",
       "\\item 'b'\n",
       "\\item 'B'\n",
       "\\item 'bd'\n",
       "\\item 'exp1'\n",
       "\\item 'L1'\n",
       "\\item 'L2'\n",
       "\\item 'M'\n",
       "\\item 'n'\n",
       "\\item 'p'\n",
       "\\item 'q'\n",
       "\\item 'r'\n",
       "\\item 'variable'\n",
       "\\item 'x'\n",
       "\\item 'x0'\n",
       "\\item 'x1'\n",
       "\\item 'y'\n",
       "\\item 'z'\n",
       "\\item 'z1'\n",
       "\\item 'z2'\n",
       "\\item 'z3'\n",
       "\\end{enumerate*}\n"
      ],
      "text/markdown": [
       "1. 'a'\n",
       "2. 'b'\n",
       "3. 'B'\n",
       "4. 'bd'\n",
       "5. 'exp1'\n",
       "6. 'L1'\n",
       "7. 'L2'\n",
       "8. 'M'\n",
       "9. 'n'\n",
       "10. 'p'\n",
       "11. 'q'\n",
       "12. 'r'\n",
       "13. 'variable'\n",
       "14. 'x'\n",
       "15. 'x0'\n",
       "16. 'x1'\n",
       "17. 'y'\n",
       "18. 'z'\n",
       "19. 'z1'\n",
       "20. 'z2'\n",
       "21. 'z3'\n",
       "\n",
       "\n"
      ],
      "text/plain": [
       " [1] \"a\"        \"b\"        \"B\"        \"bd\"       \"exp1\"     \"L1\"      \n",
       " [7] \"L2\"       \"M\"        \"n\"        \"p\"        \"q\"        \"r\"       \n",
       "[13] \"variable\" \"x\"        \"x0\"       \"x1\"       \"y\"        \"z\"       \n",
       "[19] \"z1\"       \"z2\"       \"z3\"      "
      ]
     },
     "metadata": {},
     "output_type": "display_data"
    },
    {
     "data": {
      "text/html": [
       "<ol class=list-inline>\n",
       "\t<li>'a'</li>\n",
       "\t<li>'b'</li>\n",
       "\t<li>'B'</li>\n",
       "\t<li>'bd'</li>\n",
       "\t<li>'exp1'</li>\n",
       "\t<li>'L1'</li>\n",
       "\t<li>'L2'</li>\n",
       "\t<li>'M'</li>\n",
       "\t<li>'n'</li>\n",
       "\t<li>'p'</li>\n",
       "\t<li>'q'</li>\n",
       "\t<li>'r'</li>\n",
       "\t<li>'variable'</li>\n",
       "\t<li>'x'</li>\n",
       "\t<li>'x0'</li>\n",
       "\t<li>'x1'</li>\n",
       "\t<li>'y'</li>\n",
       "\t<li>'z'</li>\n",
       "\t<li>'z1'</li>\n",
       "\t<li>'z2'</li>\n",
       "\t<li>'z3'</li>\n",
       "</ol>\n"
      ],
      "text/latex": [
       "\\begin{enumerate*}\n",
       "\\item 'a'\n",
       "\\item 'b'\n",
       "\\item 'B'\n",
       "\\item 'bd'\n",
       "\\item 'exp1'\n",
       "\\item 'L1'\n",
       "\\item 'L2'\n",
       "\\item 'M'\n",
       "\\item 'n'\n",
       "\\item 'p'\n",
       "\\item 'q'\n",
       "\\item 'r'\n",
       "\\item 'variable'\n",
       "\\item 'x'\n",
       "\\item 'x0'\n",
       "\\item 'x1'\n",
       "\\item 'y'\n",
       "\\item 'z'\n",
       "\\item 'z1'\n",
       "\\item 'z2'\n",
       "\\item 'z3'\n",
       "\\end{enumerate*}\n"
      ],
      "text/markdown": [
       "1. 'a'\n",
       "2. 'b'\n",
       "3. 'B'\n",
       "4. 'bd'\n",
       "5. 'exp1'\n",
       "6. 'L1'\n",
       "7. 'L2'\n",
       "8. 'M'\n",
       "9. 'n'\n",
       "10. 'p'\n",
       "11. 'q'\n",
       "12. 'r'\n",
       "13. 'variable'\n",
       "14. 'x'\n",
       "15. 'x0'\n",
       "16. 'x1'\n",
       "17. 'y'\n",
       "18. 'z'\n",
       "19. 'z1'\n",
       "20. 'z2'\n",
       "21. 'z3'\n",
       "\n",
       "\n"
      ],
      "text/plain": [
       " [1] \"a\"        \"b\"        \"B\"        \"bd\"       \"exp1\"     \"L1\"      \n",
       " [7] \"L2\"       \"M\"        \"n\"        \"p\"        \"q\"        \"r\"       \n",
       "[13] \"variable\" \"x\"        \"x0\"       \"x1\"       \"y\"        \"z\"       \n",
       "[19] \"z1\"       \"z2\"       \"z3\"      "
      ]
     },
     "metadata": {},
     "output_type": "display_data"
    }
   ],
   "source": [
    "ls()\n",
    "objects()"
   ]
  },
  {
   "cell_type": "markdown",
   "metadata": {},
   "source": [
    "Estos comandos son los análogos a `pwd` y `ls` en el terminal con sistemas UNIX."
   ]
  },
  {
   "cell_type": "markdown",
   "metadata": {},
   "source": [
    "## Obteniendo ayuda con R\n",
    "\n",
    "Antes de pedir ayuda a otros, generalmente es una buena idea que trate de ayudarse a sí mismo. R incluye amplias instalaciones para acceder a la documentación y buscar ayuda.\n",
    "\n",
    "La función `help()` y `?help` en R proporciona acceso a las páginas de documentación para funciones R, conjuntos de datos y otros objetos, tanto para paquetes en la distribución R estándar como para paquetes contribuidos."
   ]
  },
  {
   "cell_type": "code",
   "execution_count": 28,
   "metadata": {
    "collapsed": true
   },
   "outputs": [],
   "source": [
    "help(help) # Intente con ?help"
   ]
  },
  {
   "cell_type": "code",
   "execution_count": 29,
   "metadata": {
    "collapsed": true
   },
   "outputs": [],
   "source": [
    "help(ls)"
   ]
  },
  {
   "cell_type": "markdown",
   "metadata": {},
   "source": [
    "Para acceder a la documentación para la función estándar `lm` (linear model), por ejemplo, ingrese alguno de los siguientes comandos equivalentes:\n",
    "- `help(lm)`\n",
    "- `help(\"lm\")`\n",
    "- `?lm`\n",
    "- `?\"lm\"`\n",
    "\n",
    "Es decir, las comillas son opcionales."
   ]
  },
  {
   "cell_type": "markdown",
   "metadata": {},
   "source": [
    "Para acceder a la ayuda de una función en un paquete que es no cargado en ese momento, además de especificar el nombre del paquete: Por ejemplo, para obtener la documentación de la función `rlm()` (robust linear model) del paquete _MASS_, digite:"
   ]
  },
  {
   "cell_type": "code",
   "execution_count": 30,
   "metadata": {
    "collapsed": true
   },
   "outputs": [],
   "source": [
    "help(rlm, package=\"MASS\")"
   ]
  },
  {
   "cell_type": "markdown",
   "metadata": {},
   "source": [
    "También puede usar la función `help()` para acceder a información sobre un paquete en su biblioteca."
   ]
  },
  {
   "cell_type": "code",
   "execution_count": 31,
   "metadata": {},
   "outputs": [
    {
     "data": {},
     "metadata": {},
     "output_type": "display_data"
    }
   ],
   "source": [
    "help(package=\"MASS\")"
   ]
  },
  {
   "cell_type": "markdown",
   "metadata": {},
   "source": [
    "## Referencias\n",
    "\n",
    "- [R documentation](https://www.rdocumentation.org/packages/base/versions/3.4.3/topics/getwd)\n",
    "- Notas de clase de R-Studio\n",
    "- [Coursera R- programming](https://www.coursera.org/learn/r-programming/lecture/QiIJx/writing-code-setting-your-working-directory-mac)\n",
    "- Diapositivas de clase de R-Studio\n",
    "- [Getting Help with R](https://www.r-project.org/help.html)\n",
    "- [El sistema operativo GNU](https://www.gnu.org/gnu/gnu.html)\n",
    "- [Revolutions Web Site]()\n",
    "- [R-statistics blog](https://www.r-statistics.com/)\n",
    "- [R Interview](https://ropensci.org/blog/2017/06/23/community/)\n",
    "\n",
    "<div class=\"cite2c-biblio\"></div>"
   ]
  }
 ],
 "metadata": {
  "kernelspec": {
   "display_name": "R",
   "language": "R",
   "name": "ir"
  },
  "language_info": {
   "codemirror_mode": "r",
   "file_extension": ".r",
   "mimetype": "text/x-r-source",
   "name": "R",
   "pygments_lexer": "r",
   "version": "3.4.2"
  }
 },
 "nbformat": 4,
 "nbformat_minor": 2
}
