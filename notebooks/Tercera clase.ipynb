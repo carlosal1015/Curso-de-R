{
 "cells": [
  {
   "cell_type": "markdown",
   "metadata": {},
   "source": [
    "# Tercera clase (17/02/2018)\n",
    "\n",
    "El día de hoy estudiaremos la importación de datos desde un archivo externo, como por ejemplo de extensión:`.txt`.\n",
    "\n",
    "### Paso 1\n",
    "\n",
    "Crear un archivo de documento de texto `basedatos.txt`.\n",
    "```\n",
    "Variable\n",
    "12\n",
    "15\n",
    "16\n",
    "18\n",
    "20\n",
    "13\n",
    "```\n",
    "La separación puede ser con tabulador o con un punto y coma."
   ]
  },
  {
   "cell_type": "code",
   "execution_count": 12,
   "metadata": {},
   "outputs": [
    {
     "data": {
      "text/html": [
       "<ol class=list-inline>\n",
       "\t<li>'apuntes.txt.txt'</li>\n",
       "\t<li>'basedatos.txt'</li>\n",
       "\t<li>'basedatos2.txt'</li>\n",
       "\t<li>'basedatos3.txt'</li>\n",
       "\t<li>'basedatos4.txt'</li>\n",
       "\t<li>'basedatos5.txt'</li>\n",
       "\t<li>'ejemplosource.R'</li>\n",
       "\t<li>'funciones1.R'</li>\n",
       "\t<li>'funciones2.R'</li>\n",
       "\t<li>'funciones3.R'</li>\n",
       "\t<li>'lecturadedatos.R'</li>\n",
       "\t<li>'lecturadedatos2.R'</li>\n",
       "\t<li>'lecturadedatos3.R'</li>\n",
       "\t<li>'lecturadedatos4.R'</li>\n",
       "\t<li>'lecturadedatos5.R'</li>\n",
       "\t<li>'matrizxyz.R'</li>\n",
       "\t<li>'Repositorios'</li>\n",
       "</ol>\n"
      ],
      "text/latex": [
       "\\begin{enumerate*}\n",
       "\\item 'apuntes.txt.txt'\n",
       "\\item 'basedatos.txt'\n",
       "\\item 'basedatos2.txt'\n",
       "\\item 'basedatos3.txt'\n",
       "\\item 'basedatos4.txt'\n",
       "\\item 'basedatos5.txt'\n",
       "\\item 'ejemplosource.R'\n",
       "\\item 'funciones1.R'\n",
       "\\item 'funciones2.R'\n",
       "\\item 'funciones3.R'\n",
       "\\item 'lecturadedatos.R'\n",
       "\\item 'lecturadedatos2.R'\n",
       "\\item 'lecturadedatos3.R'\n",
       "\\item 'lecturadedatos4.R'\n",
       "\\item 'lecturadedatos5.R'\n",
       "\\item 'matrizxyz.R'\n",
       "\\item 'Repositorios'\n",
       "\\end{enumerate*}\n"
      ],
      "text/markdown": [
       "1. 'apuntes.txt.txt'\n",
       "2. 'basedatos.txt'\n",
       "3. 'basedatos2.txt'\n",
       "4. 'basedatos3.txt'\n",
       "5. 'basedatos4.txt'\n",
       "6. 'basedatos5.txt'\n",
       "7. 'ejemplosource.R'\n",
       "8. 'funciones1.R'\n",
       "9. 'funciones2.R'\n",
       "10. 'funciones3.R'\n",
       "11. 'lecturadedatos.R'\n",
       "12. 'lecturadedatos2.R'\n",
       "13. 'lecturadedatos3.R'\n",
       "14. 'lecturadedatos4.R'\n",
       "15. 'lecturadedatos5.R'\n",
       "16. 'matrizxyz.R'\n",
       "17. 'Repositorios'\n",
       "\n",
       "\n"
      ],
      "text/plain": [
       " [1] \"apuntes.txt.txt\"   \"basedatos.txt\"     \"basedatos2.txt\"   \n",
       " [4] \"basedatos3.txt\"    \"basedatos4.txt\"    \"basedatos5.txt\"   \n",
       " [7] \"ejemplosource.R\"   \"funciones1.R\"      \"funciones2.R\"     \n",
       "[10] \"funciones3.R\"      \"lecturadedatos.R\"  \"lecturadedatos2.R\"\n",
       "[13] \"lecturadedatos3.R\" \"lecturadedatos4.R\" \"lecturadedatos5.R\"\n",
       "[16] \"matrizxyz.R\"       \"Repositorios\"     "
      ]
     },
     "metadata": {},
     "output_type": "display_data"
    }
   ],
   "source": [
    "setwd(\"C:/Users/Usuario.Usuariopc.002/Desktop/Tercera clase\") # Corriendo en Windows 10\n",
    "dir() # Verificamos que el archivo basedatos.txt\n",
    "# miarchivo <- cat(file = \"basedatos.txt\"); miarchivo\n",
    "#bd1 <- read.table(\"basedatos.txt\", header = TRUE); bd1"
   ]
  },
  {
   "cell_type": "markdown",
   "metadata": {},
   "source": [
    "#### Página 51 de la diapositiva de Power Point.\n",
    "<p align=\"center\">\n",
    "  <img src=\"../images/pag51.png\"  width=\"1150\"/>\n",
    "</p>\n",
    "\n",
    "#### Página 95 de la diapositiva de Power Point.\n",
    "\n",
    "<p align=\"center\">\n",
    "  <img src=\"../images/pag95.png\"  width=\"1150\"/>\n",
    "</p>"
   ]
  },
  {
   "cell_type": "code",
   "execution_count": 1,
   "metadata": {},
   "outputs": [
    {
     "data": {
      "text/plain": [
       "               _                           \n",
       "platform       x86_64-w64-mingw32          \n",
       "arch           x86_64                      \n",
       "os             mingw32                     \n",
       "system         x86_64, mingw32             \n",
       "status                                     \n",
       "major          3                           \n",
       "minor          4.3                         \n",
       "year           2017                        \n",
       "month          11                          \n",
       "day            30                          \n",
       "svn rev        73796                       \n",
       "language       R                           \n",
       "version.string R version 3.4.3 (2017-11-30)\n",
       "nickname       Kite-Eating Tree            "
      ]
     },
     "metadata": {},
     "output_type": "display_data"
    }
   ],
   "source": [
    "version"
   ]
  }
 ],
 "metadata": {
  "kernelspec": {
   "display_name": "R",
   "language": "R",
   "name": "ir"
  },
  "language_info": {
   "codemirror_mode": "r",
   "file_extension": ".r",
   "mimetype": "text/x-r-source",
   "name": "R",
   "pygments_lexer": "r",
   "version": "3.4.2"
  }
 },
 "nbformat": 4,
 "nbformat_minor": 2
}
