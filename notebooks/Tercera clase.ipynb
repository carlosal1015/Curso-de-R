{
 "cells": [
  {
   "cell_type": "markdown",
   "metadata": {},
   "source": [
    "# Tercera clase (17/02/2018)\n",
    "\n",
    "El día de hoy estudiaremos la importación de datos desde un archivo externo, como por ejemplo de extensión:`.txt`\n",
    "\n",
    "> Variable\n",
    "12\n",
    "15\n",
    "16\n",
    "18\n",
    "20\n",
    "13"
   ]
  },
  {
   "cell_type": "markdown",
   "metadata": {},
   "source": [
    "#### Página 51 de la diapositiva de Power Point.\n",
    "<p align=\"center\">\n",
    "  <img src=\"../images/pag51.png\"  width=\"1150\"/>\n",
    "</p>\n",
    "\n",
    "#### Página 95 de la diapositiva de Power Point.\n",
    "\n",
    "<p align=\"center\">\n",
    "  <img src=\"../images/pag95.png\"  width=\"1150\"/>\n",
    "</p>"
   ]
  },
  {
   "cell_type": "code",
   "execution_count": 1,
   "metadata": {},
   "outputs": [
    {
     "data": {
      "text/plain": [
       "               _                           \n",
       "platform       x86_64-w64-mingw32          \n",
       "arch           x86_64                      \n",
       "os             mingw32                     \n",
       "system         x86_64, mingw32             \n",
       "status                                     \n",
       "major          3                           \n",
       "minor          4.3                         \n",
       "year           2017                        \n",
       "month          11                          \n",
       "day            30                          \n",
       "svn rev        73796                       \n",
       "language       R                           \n",
       "version.string R version 3.4.3 (2017-11-30)\n",
       "nickname       Kite-Eating Tree            "
      ]
     },
     "metadata": {},
     "output_type": "display_data"
    }
   ],
   "source": [
    "version"
   ]
  }
 ],
 "metadata": {
  "kernelspec": {
   "display_name": "R",
   "language": "R",
   "name": "ir"
  },
  "language_info": {
   "codemirror_mode": "r",
   "file_extension": ".r",
   "mimetype": "text/x-r-source",
   "name": "R",
   "pygments_lexer": "r",
   "version": "3.4.3"
  }
 },
 "nbformat": 4,
 "nbformat_minor": 2
}
