{
 "cells": [
  {
   "cell_type": "markdown",
   "metadata": {},
   "source": [
    "<h1><center>Cuarta clase (03/03/2018)</center></h1>\n",
    "\n",
    "<h2><center>Gráficos</center></h2>\n",
    "<a href=\"https://cran.r-project.org/web/packages/JGR/index.html\">\n",
    "  <img style=\"float: right;\" src=\"../images/jgrlogo.png\" width=\"250\"/>\n",
    "</a>\n",
    "**Java GUI for R** es una librería importante. Tiene un alto soporte. La idea es realizar gráficos de manera sencilla. \n",
    "\n",
    "En JGR se instalan ``ggplot2`` en ambas librerias. Se usa para gráficos y análisis estadístico con RStudio.\n",
    "\n",
    "Para empezar, seguiremos los siguientes pasos:\n",
    "1. En la barra de navegación superior de RCommander, ir a `Packages & Data`.\n",
    "2. Luego, ir a `Package manager`.\n",
    "<p align=\"center\">\n",
    "  <img src=\"../images/jgr.png\"  width=\"450\"/>\n",
    "</p>\n",
    "3. A continuación se mostrará una gran lista, por favor selecciono los ítems marcados en ambas columnas.\n",
    "<p align=\"center\">\n",
    "  <img src=\"../images/parte1.png\"  width=\"450\"/>\n",
    "</p>\n",
    "<p align=\"center\">\n",
    "  <img src=\"../images/parte2.png\"  width=\"450\"/>\n",
    "</p>\n",
    "<p align=\"center\">\n",
    "  <img src=\"../images/parte3.png\"  width=\"450\"/>\n",
    "</p>\n",
    "<p align=\"center\">\n",
    "  <img src=\"../images/parte4.png\"  width=\"450\"/>\n",
    "</p>\n",
    "Estamos interesados en seleccionar los paquetes `ggplot2`, `plyr`, `XLConnect`, `Deducer` y `DeducerExtras`, para ello seleccionamos en ambos recuadros.\n",
    "\n",
    "> Nótese que cuando seleccione este último se abrirá una nueva consola.\n",
    "> Las dos opciones deben estar activadas.\n",
    "> En caso de no encontrar los paquetes mencionados, proceda a instalar desde la consola de R.\n",
    "\n",
    "Filtrar archivos con Tipo de Archivo al abrir.\n",
    "\n",
    "La ventaja de usar Jaguar es que le entraga código.\n",
    "\n",
    "Aprender a usar el código y reutilizar el código.\n",
    "\n",
    "bd\n",
    "\n",
    "<p align=\"center\">\n",
    "  <img src=\"../images/jgrplot.png\"  width=\"450\"/>\n",
    "</p>\n",
    "\n",
    "<p align=\"center\">\n",
    "  <img src=\"../images/plot1.png\"  width=\"450\"/>\n",
    "</p>"
   ]
  },
  {
   "cell_type": "code",
   "execution_count": null,
   "metadata": {},
   "outputs": [],
   "source": []
  }
 ],
 "metadata": {
  "kernelspec": {
   "display_name": "R",
   "language": "R",
   "name": "ir"
  },
  "language_info": {
   "codemirror_mode": "r",
   "file_extension": ".r",
   "mimetype": "text/x-r-source",
   "name": "R",
   "pygments_lexer": "r",
   "version": "3.3.3"
  }
 },
 "nbformat": 4,
 "nbformat_minor": 2
}
