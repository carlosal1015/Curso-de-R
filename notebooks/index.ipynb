{
 "cells": [
  {
   "cell_type": "markdown",
   "metadata": {},
   "source": [
    "<h1><center>Curso de R Studio con aplicaciones en regresión lineal y pruebas no paramétricas</center></h1>\n",
    "\n",
    "<h2><center>Un breve repaso de la historia del entorno de programación estadística R</center></h2>\n",
    "\n",
    "<img style=\"float: right;\" src=\"../images/slogo.png\" width=\"280\">\n",
    "\n",
    "<h3 align=\"center\">¿Qué es R?</h3>\n",
    "\n",
    "La respuesta es bastante simple. Básicamente, **R** es un dialecto de **S**.\n",
    "\n",
    "<h3 align=\"center\">¿Qué es S?</h3>\n",
    "\n",
    "**S** es un lenguaje que fue desarrollado por [John Chambers](https://statweb.stanford.edu/~jmc4/) en los [Laboratorios Bells](https://www.bell-labs.com/). Su desarrollo fue iniciado en 1976 como un entorno del análisis estadístico para uso interno. Inicialmente se implementó como una serie de librerías en [FORTRAN](http://www.fortran.com/) para implementar rutinas que eran tediosas de realizar una y otra vez. Por esta razón había librerías de FORTRAN para repetir estas rutinas estadísticas. \n",
    "\n",
    "<img style=\"float: right;\" src=\"../images/chambers.png\" width=\"380\">\n",
    "\n",
    "Las primeras versiones del lenguaje no contenían funciones para modelado estadístico. Eso no fue incluído sino hasta aproximadamente la tercera versión del lenguaje. Así, en 1988 el sistema fue reescrito en C para mejorar la portabilidad entre sistemas y fue cuando comenzó a parecerse al sistema que tenemos hoy en día. Eso fue en la tercera versión. Hubo un libro original llamado [_Modelos estadísticos en S_](http://libgen.io/book/index.php?md5=73D876F59ACDA31B2A1367F7F10576EE) escrito por John Chambers y Trevor Hastie, a veces conocido como el [_libro blanco_](https://link.springer.com/chapter/10.1007/978-3-642-50096-1_48), en el que se documenta toda la funcionalidad de análisis estadístico que se incluyó en esa versión del lenguaje. La versión cuatro del lenguaje S se lanzó en 1998. Y esa es más o menos la versión que usamos hoy en día. \n",
    "\n",
    "El libro [_Programming with Data_](http://libgen.io/book/index.php?md5=2AF39CBD5151477DF7E192327DFF4352) fue escrito por John Chambers, y en ocasiones es llamado el [_libro verde_](https://www.springer.com/la/book/9780387985039). Ese libro documenta la cuarta versión del lenguaje S. De esta manera, R es una implementación del lenguaje S. \n",
    "\n",
    "Un poco más de historia, en 1993 los Laboratorios Bell dieron a una corporación llamada StatSci - la que más adelante se convirtió en Insightful Corporation - una licencia exclusiva para desarrollar y vender el lenguaje S. En el 2004, Insightful compró todos los derechos del lenguaje S a [Lucent - Bell Labs](https://www.technologyreview.com/s/403672/how-lucent-lost-it/) se había convertido en Lucent Technologies - por 2 millones de dólares. En el 2006, Alcatel compró Lucent Technologies, llamándose Alcatel-Lucent hasta que en el año 2015, Nokia adquirió la compañía.\n",
    "\n",
    "Insightful desarrolló un producto que era una implementación del lenguaje S, bajo el nombre [**S-PLUS**](https://docs.tibco.com/products/tibco-spotfire-s-8-2-0). Y le incorporaron una serie de características avanzadas, como por ejemplo una interfaz gráfica y toda clase de herramientas útiles. De ahí es de donde viene el _PLUS_ de S-PLUS. En el 2008, Insightful Corporation fue adquirida por una compañía llamada TIBCO por 25 millones de dólares. [TIBCO](https://www.tibco.com/) aún desarrolla S-PLUS, aunque en forma de una variedad de productos para análisis enfocados a diferentes tipos de negocio. Y así sigue hasta el día de hoy. Como puedes ver, la historia del lenguaje es un poco tortuosa debido a las múltiples adquisiciones corporativas, pero aún así sobrevive hasta el día de hoy. Los fundamentos básicos del lenguaje S realmente no han cambiado desde 1998, y el lenguaje que hubo en esa época se parece mucho a lo que usamos hoy, al menos superficialmente. Además, vale la pena destacar que en 1998 el lenguaje S ganó el [premio de sistemas de software](https://awards.acm.org/award_winners/chambers_6640862) de la [Association for Computing Machinery (ACM)](https://www.acm.org/), el cual es un honor muy prestigioso.\n",
    "\n",
    "En un documento llamado [_Las etapas y la evolución de S_](https://statweb.stanford.edu/~jmc4/papers/96.7.ps), John Chambers, el desarrollador y creador original del lenguaje S, explicó sus principales consideraciones acerca del diseño del lenguaje S. Es importante ver que, básicamente, lo que se pretendía era crear un entorno interactivo donde el usuario no pensara en sí mismo en términos de estar programando. Sostenía que, a medida que las necesidades fueron haciéndose más claras y el grado de sofisticación empezara a aumentar, los usuarios serían capaces de involucrarse gradualmente en la programación en el momento en el que los aspectos del lenguaje y el sistema se hiciesen más importantes. Así que la idea básica detrás del lenguaje S y el posterior lenguaje R es que la gente entrase en el lenguaje a través de un entorno interactivo donde se pudiese utilizar el lenguaje sin necesidad de tener conocimientos de programación o conocer aspectos detallados del lenguaje. Así se podría usar el entorno para estudiar los datos y realizar análisis básicos. Y cuando sus necesidades superasen la capacidad del entorno, pudiesen involucrarse en la programación del mismo. Podrían involucrase en aprender los aspectos del lenguaje y en aprender a desarrollar sus propias herramientas, de forma que _el lenguaje promoviera la transición de usuario a programador_. Y esta es básicamente la filosofía del lenguaje S.\n",
    "\n",
    "Ya he hablado suficiente acerca de S. Ahora volvamos a R. ¿De qué se trata R? Básicamente, R es un desarrollo relativamente reciente. Fue creado en 1991 en Nueva Zelanda por dos caballeros llamados **[Ross Ihaka](https://www.stat.auckland.ac.nz/~ihaka/)** y **[Robert Gentleman](https://www.genealogy.math.ndsu.nodak.edu/id.php?id=26386)**.\n",
    "\n",
    "<img style=\"float: left;\" src=\"../images/ihaka.png\" width=\"350\">\n",
    "\n",
    "En un [artículo científico](https://www.stat.auckland.ac.nz/~ihaka/downloads/R-paper.pdf) publicado en 1996 en el [_Journal of Computation and Graphical Statistics_](http://amstat.tandfonline.com/loi/jcgs), estos dos caballeros contaron su experiencia durante el desarrollo de R. En 1993 se hizo público el primer anuncio de R. En 1995, Martin Michler convenció a Ross y a Robert de poner R bajo una [Licencia GNU-GPL](https://www.gnu.org/licenses/gpl-faq.es.html). Ese hecho convirtió R  en lo que llamamos _software libre_. En 1996 se crearon un par de listas de correo, una llamada R-help, que es una lista general para preguntas y otra llamada R-devel, que es una lista de correo más específica para gente que participa en trabajos de desarrollo para R.\n",
    "\n",
    "En 1997 se formó el grupo llamado _R core group_, que contenía a mucha de la misma gente que desarrolló [S-PLUS](https://docs.tibco.com/products/tibco-spotfire-s-8-2-0). El _core group_ controla el [código fuente](wikipedia) de R. Este código de R solo puede ser modificado por miembros del _R core group_. Sin embargo, algunas personas que no forman parte del _core group_ han sugerido cambios en R que han sido posteriormente aceptados por el _core group_.\n",
    "\n",
    "Bueno, algunas características de R: La primera, que era importante antes, cuando la gente aún usaba S-PLUS, es que la sintaxis es muy similar a S, lo que facilita la migración de los usuarios de S-PLUS. Esta característica no es muy importante hoy en día, dado que la mayoría de la gente va a R directamente.\n",
    "\n",
    "La semántica es superficialmente similar a S, en el sentido de que parece que es S, pero en realidad hay bastantes diferencias. Uno de los principales beneficios de R es que funciona en cualquier plataforma o sistema operativo estándar: macOS, Windows, GNU/Linux, etc. Incluso lo puedes correr en un [PlayStation 3](https://unix.stackexchange.com/questions/59186/how-to-run-linux-on-ps3).\n",
    "\n",
    "<img style=\"float: right;\" src=\"../images/gentleman.png\" width=\"430\">\n",
    "\n",
    "El núcleo del software de R es en realidad muy ligero. Su funcionalidad se divide en paquetes modulares, de forma que no es necesario descargar e instalar un software de gran tamaño. Es posible descargar tan solo un pequeño núcleo fundamental, con algunas funciones, y luego añadir otras cosas según vayan siendo necesarias. \n",
    "\n",
    "Sus capacidades gráficas son muy sofisticadas, y dan al usuario un gran control sobre cómo se crean los gráficos. Y fundamentalmente, para un lenguaje así, hay una comunidad de usuarios muy activa y vibrante. Las listas de correo R-help y R-devel son muy activas, con muchos mensajes al día, y también hay una sección en la web [StackOverflow](https://stackoverflow.com) donde pueden hacerse preguntas. De esta manera, la comunidad de usuarios es uno de los aspectos más interesantes de R. Es de donde provienen todos los paquetes de R, y donde se crean bastantes características interesantes.\n",
    "\n",
    "Por supuesto, una de las características más importantes de R es que es libre y gratis. Es libre como en _libertad de expresión_ y también es gratis por lo que _no hay que pagar por él_, de manera que se puede descargar el software completo desde la web. Y también es software libre. Voy a desviarme un poco en este momento para poder poder hablar de software libre. Con el software libre hay cuatro principios básicos. Hay cuatro libertades básicas que se tienen:\n",
    "\n",
    "<a href=\"https://www.youtube.com/watch?v=Ag1AKIl_2GM\">\n",
    "  <img style=\"float: right;\" src=\"http://img.youtube.com/vi/Ag1AKIl_2GM/maxresdefault.jpg\" width=\"380\" />\n",
    "</a>\n",
    "\n",
    "* La libertad de ejecutar el programa como se desea, con cualquier propósito (Libertad 0).\n",
    "* La libertad de estudiar cómo funciona el programa, y adaptarlo a nuestras necesidades.  (Libertad 1).\n",
    "* La libertad de de distribuir copias, para ayudar al prójimo, de forma que se pueden dar copias a otra gente. (Libertad 2).\n",
    "* La libertad de mejorar el programa y lanzar tus mejoras al público, para que toda la comunidad se beneficie de ellas. (Libertad 3). \n",
    "\n",
    "Un programa es **software libre** si otorga a los usuarios todas estas libertades de manera adecuada. De lo contrario no es libre. Si deseas conocer más, puedes ver el vídeo de la derecha."
   ]
  },
  {
   "cell_type": "markdown",
   "metadata": {},
   "source": [
    "# Clases\n",
    "\n",
    "|Clase|Fecha|Paquetes|Temas|\n",
    "|:---:|:---:|:------:|:--:|\n",
    "|[**1**]()|03/02/2018|||\n",
    "|[**2**]()|10/02/2018|||\n",
    "|[**3**]()|17/02/2018|||\n",
    "|[**4**]()|03/02/2018|||\n",
    "|[**5**]()|10/02/2018|||\n",
    "|[**6**]()|17/02/2018|||"
   ]
  }
 ],
 "metadata": {
  "kernelspec": {
   "display_name": "R",
   "language": "R",
   "name": "ir"
  },
  "language_info": {
   "codemirror_mode": "r",
   "file_extension": ".r",
   "mimetype": "text/x-r-source",
   "name": "R",
   "pygments_lexer": "r",
   "version": "3.4.2"
  }
 },
 "nbformat": 4,
 "nbformat_minor": 2
}
